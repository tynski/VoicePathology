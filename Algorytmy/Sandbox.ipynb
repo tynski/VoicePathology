{
 "cells": [
  {
   "cell_type": "code",
   "execution_count": 1,
   "metadata": {},
   "outputs": [],
   "source": [
    "import numpy as np\n",
    "import pandas as pd"
   ]
  },
  {
   "cell_type": "code",
   "execution_count": 60,
   "metadata": {},
   "outputs": [],
   "source": [
    "def ParametersFromFile(filePath):\n",
    "\tFiles = os.listdir(filePath)\n",
    "\tcolumns = ['RMS', 'mean', 'energy', 'power', 'min', 'max']\n",
    "\tcases = pd.DataFrame(columns = columns)\n",
    "\tfor fileName in Files:\n",
    "\t\tdata = np.array(ReturnParameters(filePath, fileName))\n",
    "\t\tdata = np.reshape(data, (1,len(columns)))\n",
    "\t\tdf = pd.DataFrame(data = data, index = [fileName], columns = columns)\n",
    "\t\tcases = cases.append(df)\n",
    "\treturn cases"
   ]
  },
  {
   "cell_type": "code",
   "execution_count": 53,
   "metadata": {},
   "outputs": [],
   "source": [
    "def ReturnParameters(filePath, fileName):\n",
    "\taudio = wavfile.read(os.path.join(filePath, fileName))[1]\n",
    "\taudio = audio[~np.isnan(audio)]\n",
    "\treturn VoiceParameters(audio.tolist())"
   ]
  },
  {
   "cell_type": "code",
   "execution_count": null,
   "metadata": {},
   "outputs": [],
   "source": [
    "def VoiceParameters(signal):\n",
    "\tN = len(signal)\n",
    "\tParameters = [RMS(signal), mean(signal), energy(signal), power(signal, N), min(signal), max(signal)]\n",
    "\treturn Parameters\n",
    "\n",
    "def RMS(signal):\n",
    "\treturn np.sqrt(np.mean(np.power(signal, 2)))\n",
    "\n",
    "def mean(signal):\n",
    "\treturn np.mean(signal)\n",
    "\n",
    "def energy(signal):\n",
    "\treturn np.sum(np.power(signal, 2))\n",
    "\n",
    "def power(signal, N):\n",
    "\treturn np.sum(np.power(signal, 2)/(2*N + 1))"
   ]
  },
  {
   "cell_type": "code",
   "execution_count": 6,
   "metadata": {},
   "outputs": [
    {
     "data": {
      "text/html": [
       "<div>\n",
       "<style scoped>\n",
       "    .dataframe tbody tr th:only-of-type {\n",
       "        vertical-align: middle;\n",
       "    }\n",
       "\n",
       "    .dataframe tbody tr th {\n",
       "        vertical-align: top;\n",
       "    }\n",
       "\n",
       "    .dataframe thead th {\n",
       "        text-align: right;\n",
       "    }\n",
       "</style>\n",
       "<table border=\"1\" class=\"dataframe\">\n",
       "  <thead>\n",
       "    <tr style=\"text-align: right;\">\n",
       "      <th></th>\n",
       "      <th>Unnamed: 0</th>\n",
       "      <th>RMS</th>\n",
       "      <th>mean</th>\n",
       "      <th>energy</th>\n",
       "      <th>power</th>\n",
       "      <th>min</th>\n",
       "      <th>max</th>\n",
       "      <th>Status</th>\n",
       "    </tr>\n",
       "    <tr>\n",
       "      <th>record_ID</th>\n",
       "      <th></th>\n",
       "      <th></th>\n",
       "      <th></th>\n",
       "      <th></th>\n",
       "      <th></th>\n",
       "      <th></th>\n",
       "      <th></th>\n",
       "      <th></th>\n",
       "    </tr>\n",
       "  </thead>\n",
       "  <tbody>\n",
       "    <tr>\n",
       "      <th>0</th>\n",
       "      <td>120-a_n.wav</td>\n",
       "      <td>7590.430439</td>\n",
       "      <td>4.744768</td>\n",
       "      <td>5.737035e+12</td>\n",
       "      <td>2.880717e+07</td>\n",
       "      <td>-21949.0</td>\n",
       "      <td>17368.0</td>\n",
       "      <td>chory</td>\n",
       "    </tr>\n",
       "    <tr>\n",
       "      <th>1</th>\n",
       "      <td>130-a_n.wav</td>\n",
       "      <td>5775.307937</td>\n",
       "      <td>9.440565</td>\n",
       "      <td>2.090140e+12</td>\n",
       "      <td>1.667696e+07</td>\n",
       "      <td>-17259.0</td>\n",
       "      <td>18509.0</td>\n",
       "      <td>chory</td>\n",
       "    </tr>\n",
       "    <tr>\n",
       "      <th>2</th>\n",
       "      <td>108-a_n.wav</td>\n",
       "      <td>9099.456807</td>\n",
       "      <td>-14.176042</td>\n",
       "      <td>4.371846e+12</td>\n",
       "      <td>4.139967e+07</td>\n",
       "      <td>-19809.0</td>\n",
       "      <td>24104.0</td>\n",
       "      <td>chory</td>\n",
       "    </tr>\n",
       "    <tr>\n",
       "      <th>3</th>\n",
       "      <td>127-a_n.wav</td>\n",
       "      <td>3181.815796</td>\n",
       "      <td>1.130736</td>\n",
       "      <td>2.850500e+11</td>\n",
       "      <td>5.061886e+06</td>\n",
       "      <td>-6682.0</td>\n",
       "      <td>10508.0</td>\n",
       "      <td>chory</td>\n",
       "    </tr>\n",
       "  </tbody>\n",
       "</table>\n",
       "</div>"
      ],
      "text/plain": [
       "            Unnamed: 0          RMS       mean        energy         power  \\\n",
       "record_ID                                                                    \n",
       "0          120-a_n.wav  7590.430439   4.744768  5.737035e+12  2.880717e+07   \n",
       "1          130-a_n.wav  5775.307937   9.440565  2.090140e+12  1.667696e+07   \n",
       "2          108-a_n.wav  9099.456807 -14.176042  4.371846e+12  4.139967e+07   \n",
       "3          127-a_n.wav  3181.815796   1.130736  2.850500e+11  5.061886e+06   \n",
       "\n",
       "               min      max Status  \n",
       "record_ID                           \n",
       "0         -21949.0  17368.0  chory  \n",
       "1         -17259.0  18509.0  chory  \n",
       "2         -19809.0  24104.0  chory  \n",
       "3          -6682.0  10508.0  chory  "
      ]
     },
     "execution_count": 6,
     "metadata": {},
     "output_type": "execute_result"
    }
   ],
   "source": [
    "df = pd.read_csv('voiceParameters.csv')\n",
    "\n",
    "df.set_index('Unnamed: 0')\n"
   ]
  },
  {
   "cell_type": "markdown",
   "metadata": {},
   "source": [
    "# Logistic regresion"
   ]
  },
  {
   "cell_type": "markdown",
   "metadata": {},
   "source": [
    "# Train test split"
   ]
  },
  {
   "cell_type": "code",
   "execution_count": null,
   "metadata": {},
   "outputs": [],
   "source": []
  },
  {
   "cell_type": "markdown",
   "metadata": {},
   "source": [
    "# Training and predicting"
   ]
  },
  {
   "cell_type": "code",
   "execution_count": 67,
   "metadata": {},
   "outputs": [],
   "source": [
    "from sklearn.linear_model import LogisticRegression"
   ]
  },
  {
   "cell_type": "code",
   "execution_count": null,
   "metadata": {},
   "outputs": [],
   "source": [
    "logModel = LogisiticRegression()\n",
    "logModel.fit(xTrain, yTrain)"
   ]
  }
 ],
 "metadata": {
  "kernelspec": {
   "display_name": "Python 3",
   "language": "python",
   "name": "python3"
  },
  "language_info": {
   "codemirror_mode": {
    "name": "ipython",
    "version": 3
   },
   "file_extension": ".py",
   "mimetype": "text/x-python",
   "name": "python",
   "nbconvert_exporter": "python",
   "pygments_lexer": "ipython3",
   "version": "3.7.0"
  }
 },
 "nbformat": 4,
 "nbformat_minor": 2
}
