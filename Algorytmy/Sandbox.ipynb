{
 "cells": [
  {
   "cell_type": "code",
   "execution_count": 4,
   "metadata": {},
   "outputs": [],
   "source": [
    "import numpy as np\n",
    "import pandas as pd"
   ]
  },
  {
   "cell_type": "markdown",
   "metadata": {},
   "source": [
    "# Parameters Vector\n",
    "\n",
    "Load, normalization and visualisation vector of parameters "
   ]
  },
  {
   "cell_type": "code",
   "execution_count": 3,
   "metadata": {},
   "outputs": [
    {
     "data": {
      "text/html": [
       "<div>\n",
       "<style scoped>\n",
       "    .dataframe tbody tr th:only-of-type {\n",
       "        vertical-align: middle;\n",
       "    }\n",
       "\n",
       "    .dataframe tbody tr th {\n",
       "        vertical-align: top;\n",
       "    }\n",
       "\n",
       "    .dataframe thead th {\n",
       "        text-align: right;\n",
       "    }\n",
       "</style>\n",
       "<table border=\"1\" class=\"dataframe\">\n",
       "  <thead>\n",
       "    <tr style=\"text-align: right;\">\n",
       "      <th></th>\n",
       "      <th>RMS</th>\n",
       "      <th>mean</th>\n",
       "      <th>energy</th>\n",
       "      <th>power</th>\n",
       "      <th>min</th>\n",
       "      <th>max</th>\n",
       "      <th>Status</th>\n",
       "    </tr>\n",
       "  </thead>\n",
       "  <tbody>\n",
       "    <tr>\n",
       "      <th>0</th>\n",
       "      <td>7590.430439</td>\n",
       "      <td>4.744768</td>\n",
       "      <td>5.737035e+12</td>\n",
       "      <td>2.880717e+07</td>\n",
       "      <td>-21949.0</td>\n",
       "      <td>17368.0</td>\n",
       "      <td>chory</td>\n",
       "    </tr>\n",
       "    <tr>\n",
       "      <th>1</th>\n",
       "      <td>5775.307937</td>\n",
       "      <td>9.440565</td>\n",
       "      <td>2.090140e+12</td>\n",
       "      <td>1.667696e+07</td>\n",
       "      <td>-17259.0</td>\n",
       "      <td>18509.0</td>\n",
       "      <td>chory</td>\n",
       "    </tr>\n",
       "    <tr>\n",
       "      <th>2</th>\n",
       "      <td>9099.456807</td>\n",
       "      <td>-14.176042</td>\n",
       "      <td>4.371846e+12</td>\n",
       "      <td>4.139967e+07</td>\n",
       "      <td>-19809.0</td>\n",
       "      <td>24104.0</td>\n",
       "      <td>chory</td>\n",
       "    </tr>\n",
       "    <tr>\n",
       "      <th>3</th>\n",
       "      <td>3181.815796</td>\n",
       "      <td>1.130736</td>\n",
       "      <td>2.850500e+11</td>\n",
       "      <td>5.061886e+06</td>\n",
       "      <td>-6682.0</td>\n",
       "      <td>10508.0</td>\n",
       "      <td>chory</td>\n",
       "    </tr>\n",
       "  </tbody>\n",
       "</table>\n",
       "</div>"
      ],
      "text/plain": [
       "           RMS       mean        energy         power      min      max Status\n",
       "0  7590.430439   4.744768  5.737035e+12  2.880717e+07 -21949.0  17368.0  chory\n",
       "1  5775.307937   9.440565  2.090140e+12  1.667696e+07 -17259.0  18509.0  chory\n",
       "2  9099.456807 -14.176042  4.371846e+12  4.139967e+07 -19809.0  24104.0  chory\n",
       "3  3181.815796   1.130736  2.850500e+11  5.061886e+06  -6682.0  10508.0  chory"
      ]
     },
     "execution_count": 3,
     "metadata": {},
     "output_type": "execute_result"
    }
   ],
   "source": [
    "df = pd.read_csv('voiceParameters.csv')\n",
    "df\n"
   ]
  },
  {
   "cell_type": "markdown",
   "metadata": {},
   "source": [
    "# Detection alghoritm\n",
    "\n",
    "Logistic regression"
   ]
  },
  {
   "cell_type": "markdown",
   "metadata": {},
   "source": [
    "# Train test split"
   ]
  },
  {
   "cell_type": "code",
   "execution_count": null,
   "metadata": {},
   "outputs": [],
   "source": []
  },
  {
   "cell_type": "markdown",
   "metadata": {},
   "source": [
    "# Training and predicting"
   ]
  },
  {
   "cell_type": "code",
   "execution_count": 67,
   "metadata": {},
   "outputs": [],
   "source": [
    "from sklearn.linear_model import LogisticRegression"
   ]
  },
  {
   "cell_type": "code",
   "execution_count": null,
   "metadata": {},
   "outputs": [],
   "source": [
    "logModel = LogisiticRegression()\n",
    "logModel.fit(xTrain, yTrain)"
   ]
  }
 ],
 "metadata": {
  "kernelspec": {
   "display_name": "Python 3",
   "language": "python",
   "name": "python3"
  },
  "language_info": {
   "codemirror_mode": {
    "name": "ipython",
    "version": 3
   },
   "file_extension": ".py",
   "mimetype": "text/x-python",
   "name": "python",
   "nbconvert_exporter": "python",
   "pygments_lexer": "ipython3",
   "version": "3.7.0"
  }
 },
 "nbformat": 4,
 "nbformat_minor": 2
}
