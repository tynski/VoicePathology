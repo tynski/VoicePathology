{
 "cells": [
  {
   "cell_type": "code",
   "execution_count": 1,
   "metadata": {},
   "outputs": [],
   "source": [
    "import numpy as np\n",
    "import pandas as pd\n",
    "import getParametersfromfile\n",
    "import matplotlib.pyplot as plt"
   ]
  },
  {
   "cell_type": "code",
   "execution_count": 2,
   "metadata": {},
   "outputs": [
    {
     "data": {
      "text/html": [
       "<div>\n",
       "<style scoped>\n",
       "    .dataframe tbody tr th:only-of-type {\n",
       "        vertical-align: middle;\n",
       "    }\n",
       "\n",
       "    .dataframe tbody tr th {\n",
       "        vertical-align: top;\n",
       "    }\n",
       "\n",
       "    .dataframe thead th {\n",
       "        text-align: right;\n",
       "    }\n",
       "</style>\n",
       "<table border=\"1\" class=\"dataframe\">\n",
       "  <thead>\n",
       "    <tr style=\"text-align: right;\">\n",
       "      <th></th>\n",
       "      <th>RMS</th>\n",
       "      <th>mean</th>\n",
       "      <th>energy</th>\n",
       "      <th>power</th>\n",
       "      <th>min</th>\n",
       "      <th>max</th>\n",
       "    </tr>\n",
       "  </thead>\n",
       "  <tbody>\n",
       "    <tr>\n",
       "      <th>120-a_n.wav</th>\n",
       "      <td>7590.430439</td>\n",
       "      <td>4.744768</td>\n",
       "      <td>5737034820655</td>\n",
       "      <td>2.880717e+07</td>\n",
       "      <td>-21949</td>\n",
       "      <td>17368</td>\n",
       "    </tr>\n",
       "    <tr>\n",
       "      <th>130-a_n.wav</th>\n",
       "      <td>5775.307937</td>\n",
       "      <td>9.440565</td>\n",
       "      <td>2090139800777</td>\n",
       "      <td>1.667696e+07</td>\n",
       "      <td>-17259</td>\n",
       "      <td>18509</td>\n",
       "    </tr>\n",
       "    <tr>\n",
       "      <th>108-a_n.wav</th>\n",
       "      <td>9099.456807</td>\n",
       "      <td>-14.176042</td>\n",
       "      <td>4371846028901</td>\n",
       "      <td>4.139967e+07</td>\n",
       "      <td>-19809</td>\n",
       "      <td>24104</td>\n",
       "    </tr>\n",
       "    <tr>\n",
       "      <th>127-a_n.wav</th>\n",
       "      <td>3181.815796</td>\n",
       "      <td>1.130736</td>\n",
       "      <td>285049985787</td>\n",
       "      <td>5.061886e+06</td>\n",
       "      <td>-6682</td>\n",
       "      <td>10508</td>\n",
       "    </tr>\n",
       "  </tbody>\n",
       "</table>\n",
       "</div>"
      ],
      "text/plain": [
       "                     RMS       mean         energy         power     min  \\\n",
       "120-a_n.wav  7590.430439   4.744768  5737034820655  2.880717e+07  -21949   \n",
       "130-a_n.wav  5775.307937   9.440565  2090139800777  1.667696e+07  -17259   \n",
       "108-a_n.wav  9099.456807 -14.176042  4371846028901  4.139967e+07  -19809   \n",
       "127-a_n.wav  3181.815796   1.130736   285049985787  5.061886e+06   -6682   \n",
       "\n",
       "               max  \n",
       "120-a_n.wav  17368  \n",
       "130-a_n.wav  18509  \n",
       "108-a_n.wav  24104  \n",
       "127-a_n.wav  10508  "
      ]
     },
     "execution_count": 2,
     "metadata": {},
     "output_type": "execute_result"
    }
   ],
   "source": [
    "filePath = '/home/barti/Documents/voicePathology/voiceDataset/test'\n",
    "c = getParametersfromfile.ParametersFromFile('/home/barti/Documents/voicePathology/voiceDataset/test')\n",
    "c"
   ]
  },
  {
   "cell_type": "code",
   "execution_count": 7,
   "metadata": {},
   "outputs": [
    {
     "data": {
      "image/png": "[encoded data removed]",
      "text/plain": [
       "<Figure size 432x288 with 1 Axes>"
      ]
     },
     "metadata": {},
     "output_type": "display_data"
    }
   ],
   "source": [
    "labels = 'trening', 'walidacja', 'test'\n",
    "sizes = [600,200,200]\n",
    "colors = ['gold', 'yellowgreen', 'lightcoral', 'lightskyblue']\n",
    "plt.pie(sizes,labels=labels,colors=colors,autopct='%1.1f%%', startangle=140)\n",
    "plt.axis('equal')\n",
    "plt.show()"
   ]
  },
  {
   "cell_type": "code",
   "execution_count": null,
   "metadata": {},
   "outputs": [],
   "source": []
  }
 ],
 "metadata": {
  "kernelspec": {
   "display_name": "Python 3",
   "language": "python",
   "name": "python3"
  },
  "language_info": {
   "codemirror_mode": {
    "name": "ipython",
    "version": 3
   },
   "file_extension": ".py",
   "mimetype": "text/x-python",
   "name": "python",
   "nbconvert_exporter": "python",
   "pygments_lexer": "ipython3",
   "version": "3.7.0"
  }
 },
 "nbformat": 4,
 "nbformat_minor": 2
}
