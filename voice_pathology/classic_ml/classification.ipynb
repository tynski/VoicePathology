{
 "cells": [
  {
   "cell_type": "code",
   "execution_count": 98,
   "metadata": {},
   "outputs": [],
   "source": [
    "import numpy as np\n",
    "import pandas as pd\n",
    "import matplotlib.pyplot as plt\n",
    "from sklearn.metrics import classification_report, confusion_matrix\n",
    "\n",
    "# This is a bit of magic to make matplotlib figures appear inline in the notebook\n",
    "# rather than in a new window.\n",
    "%matplotlib inline\n",
    "plt.rcParams['figure.figsize'] = (14.0, 6.0) # set default size of plots\n",
    "plt.rcParams['image.interpolation'] = 'nearest'\n",
    "plt.rcParams['image.cmap'] = 'gray'"
   ]
  },
  {
   "cell_type": "markdown",
   "metadata": {},
   "source": [
    "# Parameters Vector\n",
    "\n",
    "Load and normalization vector of parameters."
   ]
  },
  {
   "cell_type": "code",
   "execution_count": 70,
   "metadata": {},
   "outputs": [
    {
     "data": {
      "text/html": [
       "<div>\n",
       "<style scoped>\n",
       "    .dataframe tbody tr th:only-of-type {\n",
       "        vertical-align: middle;\n",
       "    }\n",
       "\n",
       "    .dataframe tbody tr th {\n",
       "        vertical-align: top;\n",
       "    }\n",
       "\n",
       "    .dataframe thead th {\n",
       "        text-align: right;\n",
       "    }\n",
       "</style>\n",
       "<table border=\"1\" class=\"dataframe\">\n",
       "  <thead>\n",
       "    <tr style=\"text-align: right;\">\n",
       "      <th></th>\n",
       "      <th>MAX</th>\n",
       "      <th>MIN</th>\n",
       "      <th>RMS</th>\n",
       "      <th>KURTOSIS</th>\n",
       "      <th>SKEWNESS</th>\n",
       "      <th>Status</th>\n",
       "    </tr>\n",
       "  </thead>\n",
       "  <tbody>\n",
       "    <tr>\n",
       "      <th>0</th>\n",
       "      <td>29241.0</td>\n",
       "      <td>-29320.0</td>\n",
       "      <td>6289.637492</td>\n",
       "      <td>1.154522</td>\n",
       "      <td>-0.278947</td>\n",
       "      <td>Zdrowy</td>\n",
       "    </tr>\n",
       "    <tr>\n",
       "      <th>1</th>\n",
       "      <td>22856.0</td>\n",
       "      <td>-29453.0</td>\n",
       "      <td>5107.071001</td>\n",
       "      <td>2.979691</td>\n",
       "      <td>0.072257</td>\n",
       "      <td>Zdrowy</td>\n",
       "    </tr>\n",
       "    <tr>\n",
       "      <th>2</th>\n",
       "      <td>22061.0</td>\n",
       "      <td>-23299.0</td>\n",
       "      <td>6599.787734</td>\n",
       "      <td>0.712650</td>\n",
       "      <td>-0.001332</td>\n",
       "      <td>Zdrowy</td>\n",
       "    </tr>\n",
       "    <tr>\n",
       "      <th>3</th>\n",
       "      <td>9884.0</td>\n",
       "      <td>-13521.0</td>\n",
       "      <td>3353.459070</td>\n",
       "      <td>0.969484</td>\n",
       "      <td>0.309495</td>\n",
       "      <td>Zdrowy</td>\n",
       "    </tr>\n",
       "    <tr>\n",
       "      <th>4</th>\n",
       "      <td>13997.0</td>\n",
       "      <td>-19188.0</td>\n",
       "      <td>4252.315146</td>\n",
       "      <td>1.981925</td>\n",
       "      <td>-0.035390</td>\n",
       "      <td>Zdrowy</td>\n",
       "    </tr>\n",
       "  </tbody>\n",
       "</table>\n",
       "</div>"
      ],
      "text/plain": [
       "       MAX      MIN          RMS  KURTOSIS  SKEWNESS  Status\n",
       "0  29241.0 -29320.0  6289.637492  1.154522 -0.278947  Zdrowy\n",
       "1  22856.0 -29453.0  5107.071001  2.979691  0.072257  Zdrowy\n",
       "2  22061.0 -23299.0  6599.787734  0.712650 -0.001332  Zdrowy\n",
       "3   9884.0 -13521.0  3353.459070  0.969484  0.309495  Zdrowy\n",
       "4  13997.0 -19188.0  4252.315146  1.981925 -0.035390  Zdrowy"
      ]
     },
     "execution_count": 70,
     "metadata": {},
     "output_type": "execute_result"
    }
   ],
   "source": [
    "# Loading csv file with parameters\n",
    "allpatients = pd.read_csv('./data/male_a_1.csv')\n",
    "allpatients.head()"
   ]
  },
  {
   "cell_type": "markdown",
   "metadata": {},
   "source": [
    "Features has diffrent rows, so they have to be normalized."
   ]
  },
  {
   "cell_type": "code",
   "execution_count": 71,
   "metadata": {},
   "outputs": [
    {
     "data": {
      "text/html": [
       "<div>\n",
       "<style scoped>\n",
       "    .dataframe tbody tr th:only-of-type {\n",
       "        vertical-align: middle;\n",
       "    }\n",
       "\n",
       "    .dataframe tbody tr th {\n",
       "        vertical-align: top;\n",
       "    }\n",
       "\n",
       "    .dataframe thead th {\n",
       "        text-align: right;\n",
       "    }\n",
       "</style>\n",
       "<table border=\"1\" class=\"dataframe\">\n",
       "  <thead>\n",
       "    <tr style=\"text-align: right;\">\n",
       "      <th></th>\n",
       "      <th>MAX</th>\n",
       "      <th>MIN</th>\n",
       "      <th>RMS</th>\n",
       "      <th>KURTOSIS</th>\n",
       "      <th>SKEWNESS</th>\n",
       "      <th>Status</th>\n",
       "    </tr>\n",
       "  </thead>\n",
       "  <tbody>\n",
       "    <tr>\n",
       "      <th>0</th>\n",
       "      <td>2.264942</td>\n",
       "      <td>-1.416545</td>\n",
       "      <td>0.316645</td>\n",
       "      <td>0.756835</td>\n",
       "      <td>-0.489999</td>\n",
       "      <td>Zdrowy</td>\n",
       "    </tr>\n",
       "    <tr>\n",
       "      <th>1</th>\n",
       "      <td>1.073054</td>\n",
       "      <td>-1.437500</td>\n",
       "      <td>-0.343569</td>\n",
       "      <td>2.560710</td>\n",
       "      <td>0.357747</td>\n",
       "      <td>Zdrowy</td>\n",
       "    </tr>\n",
       "    <tr>\n",
       "      <th>2</th>\n",
       "      <td>0.924651</td>\n",
       "      <td>-0.467857</td>\n",
       "      <td>0.489798</td>\n",
       "      <td>0.320119</td>\n",
       "      <td>0.180116</td>\n",
       "      <td>Zdrowy</td>\n",
       "    </tr>\n",
       "    <tr>\n",
       "      <th>3</th>\n",
       "      <td>-1.348430</td>\n",
       "      <td>1.072796</td>\n",
       "      <td>-1.322592</td>\n",
       "      <td>0.573956</td>\n",
       "      <td>0.930400</td>\n",
       "      <td>Zdrowy</td>\n",
       "    </tr>\n",
       "    <tr>\n",
       "      <th>4</th>\n",
       "      <td>-0.580656</td>\n",
       "      <td>0.179885</td>\n",
       "      <td>-0.820770</td>\n",
       "      <td>1.574585</td>\n",
       "      <td>0.097906</td>\n",
       "      <td>Zdrowy</td>\n",
       "    </tr>\n",
       "  </tbody>\n",
       "</table>\n",
       "</div>"
      ],
      "text/plain": [
       "        MAX       MIN       RMS  KURTOSIS  SKEWNESS  Status\n",
       "0  2.264942 -1.416545  0.316645  0.756835 -0.489999  Zdrowy\n",
       "1  1.073054 -1.437500 -0.343569  2.560710  0.357747  Zdrowy\n",
       "2  0.924651 -0.467857  0.489798  0.320119  0.180116  Zdrowy\n",
       "3 -1.348430  1.072796 -1.322592  0.573956  0.930400  Zdrowy\n",
       "4 -0.580656  0.179885 -0.820770  1.574585  0.097906  Zdrowy"
      ]
     },
     "execution_count": 71,
     "metadata": {},
     "output_type": "execute_result"
    }
   ],
   "source": [
    "features = allpatients.drop(labels='Status',axis=1).columns\n",
    "for i in features:\n",
    "    allpatients[i] = (allpatients[i] - np.mean(allpatients[i]))/np.std(allpatients[i])\n",
    "allpatients.head()"
   ]
  },
  {
   "cell_type": "markdown",
   "metadata": {},
   "source": [
    "# Dummy variables\n",
    "We'll need to convert categorical features (Status) to dummy variables, because our alghoritm can't understant what means 'healthy'."
   ]
  },
  {
   "cell_type": "code",
   "execution_count": 72,
   "metadata": {},
   "outputs": [],
   "source": [
    "status = pd.get_dummies(allpatients['Status'],drop_first=True)"
   ]
  },
  {
   "cell_type": "code",
   "execution_count": 73,
   "metadata": {},
   "outputs": [],
   "source": [
    "allpatients.drop(['Status'],axis=1,inplace=True)"
   ]
  },
  {
   "cell_type": "code",
   "execution_count": 74,
   "metadata": {},
   "outputs": [
    {
     "data": {
      "text/html": [
       "<div>\n",
       "<style scoped>\n",
       "    .dataframe tbody tr th:only-of-type {\n",
       "        vertical-align: middle;\n",
       "    }\n",
       "\n",
       "    .dataframe tbody tr th {\n",
       "        vertical-align: top;\n",
       "    }\n",
       "\n",
       "    .dataframe thead th {\n",
       "        text-align: right;\n",
       "    }\n",
       "</style>\n",
       "<table border=\"1\" class=\"dataframe\">\n",
       "  <thead>\n",
       "    <tr style=\"text-align: right;\">\n",
       "      <th></th>\n",
       "      <th>MAX</th>\n",
       "      <th>MIN</th>\n",
       "      <th>RMS</th>\n",
       "      <th>KURTOSIS</th>\n",
       "      <th>SKEWNESS</th>\n",
       "      <th>Pathology</th>\n",
       "    </tr>\n",
       "  </thead>\n",
       "  <tbody>\n",
       "    <tr>\n",
       "      <th>0</th>\n",
       "      <td>2.264942</td>\n",
       "      <td>-1.416545</td>\n",
       "      <td>0.316645</td>\n",
       "      <td>0.756835</td>\n",
       "      <td>-0.489999</td>\n",
       "      <td>1</td>\n",
       "    </tr>\n",
       "    <tr>\n",
       "      <th>1</th>\n",
       "      <td>1.073054</td>\n",
       "      <td>-1.437500</td>\n",
       "      <td>-0.343569</td>\n",
       "      <td>2.560710</td>\n",
       "      <td>0.357747</td>\n",
       "      <td>1</td>\n",
       "    </tr>\n",
       "    <tr>\n",
       "      <th>2</th>\n",
       "      <td>0.924651</td>\n",
       "      <td>-0.467857</td>\n",
       "      <td>0.489798</td>\n",
       "      <td>0.320119</td>\n",
       "      <td>0.180116</td>\n",
       "      <td>1</td>\n",
       "    </tr>\n",
       "    <tr>\n",
       "      <th>3</th>\n",
       "      <td>-1.348430</td>\n",
       "      <td>1.072796</td>\n",
       "      <td>-1.322592</td>\n",
       "      <td>0.573956</td>\n",
       "      <td>0.930400</td>\n",
       "      <td>1</td>\n",
       "    </tr>\n",
       "    <tr>\n",
       "      <th>4</th>\n",
       "      <td>-0.580656</td>\n",
       "      <td>0.179885</td>\n",
       "      <td>-0.820770</td>\n",
       "      <td>1.574585</td>\n",
       "      <td>0.097906</td>\n",
       "      <td>1</td>\n",
       "    </tr>\n",
       "  </tbody>\n",
       "</table>\n",
       "</div>"
      ],
      "text/plain": [
       "        MAX       MIN       RMS  KURTOSIS  SKEWNESS  Pathology\n",
       "0  2.264942 -1.416545  0.316645  0.756835 -0.489999          1\n",
       "1  1.073054 -1.437500 -0.343569  2.560710  0.357747          1\n",
       "2  0.924651 -0.467857  0.489798  0.320119  0.180116          1\n",
       "3 -1.348430  1.072796 -1.322592  0.573956  0.930400          1\n",
       "4 -0.580656  0.179885 -0.820770  1.574585  0.097906          1"
      ]
     },
     "execution_count": 74,
     "metadata": {},
     "output_type": "execute_result"
    }
   ],
   "source": [
    "allpatients['Pathology'] = status\n",
    "allpatients.head()"
   ]
  },
  {
   "cell_type": "markdown",
   "metadata": {},
   "source": [
    "# Train test split\n",
    "Dataset is splitted into train set 75% and test set 25%."
   ]
  },
  {
   "cell_type": "code",
   "execution_count": 75,
   "metadata": {},
   "outputs": [],
   "source": [
    "from sklearn.model_selection import train_test_split"
   ]
  },
  {
   "cell_type": "code",
   "execution_count": 76,
   "metadata": {},
   "outputs": [],
   "source": [
    "X_train, X_test, y_train, y_test = train_test_split(allpatients.drop(['Pathology'], axis=1), \n",
    "                                                    allpatients['Pathology'], \n",
    "                                                    test_size=0.25, \n",
    "                                                    random_state=42)"
   ]
  },
  {
   "cell_type": "markdown",
   "metadata": {},
   "source": [
    "### K-fold validation\n",
    "In order to find best hiper-parameters k-fold validation is used, due to low number of train examples"
   ]
  },
  {
   "cell_type": "code",
   "execution_count": 77,
   "metadata": {},
   "outputs": [],
   "source": [
    "num_folds = 5\n",
    "\n",
    "X_train_folds = []\n",
    "y_train_folds = []\n",
    "\n",
    "X_train_folds = np.array_split(X_train, num_folds)\n",
    "y_train_folds = np.array_split(y_train, num_folds)"
   ]
  },
  {
   "cell_type": "markdown",
   "metadata": {},
   "source": [
    "# Logistic Regression Algorithm"
   ]
  },
  {
   "cell_type": "code",
   "execution_count": 78,
   "metadata": {},
   "outputs": [],
   "source": [
    "from sklearn.linear_model import LogisticRegression"
   ]
  },
  {
   "cell_type": "code",
   "execution_count": 93,
   "metadata": {},
   "outputs": [],
   "source": [
    "accuracies = {}\n",
    "C = [1e-2, 4e-2, 8e-2, 1e-1, 2e-1, 4e-1, 6e-1, 8e-1, 1, 1.5, 2]\n",
    "\n",
    "for c in C:\n",
    "    for i in range(num_folds):\n",
    "        logModel = LogisticRegression(penalty='l1', C=c, solver='liblinear')\n",
    "        \n",
    "        train_set = np.concatenate(X_train_folds[:i]+X_train_folds[i+1:])\n",
    "        labels_set = np.concatenate(y_train_folds[:i]+y_train_folds[i+1:])\n",
    "        \n",
    "        logModel.fit(train_set, labels_set) \n",
    "        \n",
    "        y_val_pred = logModel.predict(X_train_folds[i])\n",
    "        val_acc = np.mean(y_val_pred == y_train_folds[i])\n",
    "        \n",
    "        if c in accuracies:\n",
    "            accuracies[c].extend([val_acc])\n",
    "        else:\n",
    "            accuracies[c] = [val_acc]"
   ]
  },
  {
   "cell_type": "code",
   "execution_count": 94,
   "metadata": {},
   "outputs": [
    {
     "data": {
      "image/png": "[encoded data removed]",
      "text/plain": [
       "<Figure size 864x432 with 1 Axes>"
      ]
     },
     "metadata": {
      "needs_background": "light"
     },
     "output_type": "display_data"
    }
   ],
   "source": [
    "# plot the raw observations\n",
    "\n",
    "for c in C:\n",
    "    acc = accuracies[c]\n",
    "    plt.scatter([c] * len(acc), acc)\n",
    "\n",
    "# plot the trend line with error bars that correspond to standard deviation\n",
    "accuracies_mean = np.array([np.mean(v) for k,v in sorted(accuracies.items())])\n",
    "accuracies_std = np.array([np.std(v) for k,v in sorted(accuracies.items())])\n",
    "plt.errorbar(C, accuracies_mean, yerr=accuracies_std)\n",
    "plt.xlabel('Regularyzacja', fontsize=14)\n",
    "plt.ylabel('Dokładność zbioru walidacyjnego', fontsize=14)\n",
    "plt.xticks(fontsize=14)\n",
    "plt.yticks(fontsize=14)\n",
    "plt.show()"
   ]
  },
  {
   "cell_type": "code",
   "execution_count": 81,
   "metadata": {},
   "outputs": [],
   "source": [
    "# Based on the cross-validation results above  I picked optimal C.\n",
    "# I retrain the classifier using all the training data, and test it on the test\n",
    "# data.\n",
    "c = 0.6\n",
    "log_model = LogisticRegression(penalty='l1', C=c, solver='liblinear')\n",
    "log_model.fit(X_train, y_train)\n",
    "prediction = log_model.predict(X_test)"
   ]
  },
  {
   "cell_type": "markdown",
   "metadata": {},
   "source": [
    "# Evaluation\n",
    "Check precission, recall, f1-score using classification report"
   ]
  },
  {
   "cell_type": "code",
   "execution_count": 82,
   "metadata": {},
   "outputs": [],
   "source": [
    "from sklearn.metrics import classification_report, confusion_matrix"
   ]
  },
  {
   "cell_type": "code",
   "execution_count": 83,
   "metadata": {
    "scrolled": true
   },
   "outputs": [
    {
     "name": "stdout",
     "output_type": "stream",
     "text": [
      "              precision    recall  f1-score   support\n",
      "\n",
      "           0       0.55      0.63      0.59        67\n",
      "           1       0.54      0.46      0.50        63\n",
      "\n",
      "   micro avg       0.55      0.55      0.55       130\n",
      "   macro avg       0.54      0.54      0.54       130\n",
      "weighted avg       0.55      0.55      0.54       130\n",
      "\n"
     ]
    }
   ],
   "source": [
    "print(classification_report(y_test,prediction))"
   ]
  },
  {
   "cell_type": "code",
   "execution_count": 84,
   "metadata": {},
   "outputs": [
    {
     "name": "stdout",
     "output_type": "stream",
     "text": [
      "[[42 25]\n",
      " [34 29]]\n"
     ]
    }
   ],
   "source": [
    "print(confusion_matrix(y_test,prediction))"
   ]
  },
  {
   "cell_type": "markdown",
   "metadata": {},
   "source": [
    "# Random Forest Algorithm"
   ]
  },
  {
   "cell_type": "code",
   "execution_count": 85,
   "metadata": {},
   "outputs": [],
   "source": [
    "from sklearn.ensemble import RandomForestClassifier"
   ]
  },
  {
   "cell_type": "code",
   "execution_count": 95,
   "metadata": {},
   "outputs": [],
   "source": [
    "accuracies = {}\n",
    "n_estimators = [10, 50, 100, 120, 140, 160, 180, 200, 250, 300]\n",
    "\n",
    "for n in n_estimators:\n",
    "    for i in range(num_folds):\n",
    "        rf_model = RandomForestClassifier(n_estimators=n)\n",
    "        \n",
    "        train_set = np.concatenate(X_train_folds[:i]+X_train_folds[i+1:])\n",
    "        labels_set = np.concatenate(y_train_folds[:i]+y_train_folds[i+1:])\n",
    "        \n",
    "        rf_model.fit(train_set, labels_set) \n",
    "        \n",
    "        y_val_pred = rf_model.predict(X_train_folds[i])\n",
    "        val_acc = np.mean(y_val_pred == y_train_folds[i])\n",
    "        \n",
    "        if n in accuracies:\n",
    "            accuracies[n].extend([val_acc])\n",
    "        else:\n",
    "            accuracies[n] = [val_acc]"
   ]
  },
  {
   "cell_type": "code",
   "execution_count": 99,
   "metadata": {
    "scrolled": true
   },
   "outputs": [
    {
     "data": {
      "image/png": "[encoded data removed]",
      "text/plain": [
       "<Figure size 720x432 with 1 Axes>"
      ]
     },
     "metadata": {
      "needs_background": "light"
     },
     "output_type": "display_data"
    }
   ],
   "source": [
    "# plot the raw observations\n",
    "\n",
    "for n in n_estimators:\n",
    "    acc = accuracies[n]\n",
    "    plt.scatter([n] * len(acc), acc)\n",
    "\n",
    "# plot the trend line with error bars that correspond to standard deviation\n",
    "accuracies_mean = np.array([np.mean(v) for k,v in sorted(accuracies.items())])\n",
    "accuracies_std = np.array([np.std(v) for k,v in sorted(accuracies.items())])\n",
    "plt.errorbar(n_estimators, accuracies_mean, yerr=accuracies_std)\n",
    "plt.xlabel('liczba drzew', fontsize=14)\n",
    "plt.ylabel('dokładność zbioru walidacyjnego', fontsize=14)\n",
    "plt.xticks(fontsize=14)\n",
    "plt.yticks(fontsize=14)\n",
    "plt.show()"
   ]
  },
  {
   "cell_type": "code",
   "execution_count": 97,
   "metadata": {},
   "outputs": [],
   "source": [
    "# Based on the cross-validation results above  I picked optimal number of estimators.\n",
    "# I retrain the classifier using all the training data, and test it on the test\n",
    "# data.\n",
    "best_n = 140\n",
    "rf_model = RandomForestClassifier(n_estimators=best_n)\n",
    "rf_model.fit(X_train, y_train)\n",
    "prediction = rf_model.predict(X_test)"
   ]
  },
  {
   "cell_type": "markdown",
   "metadata": {},
   "source": [
    "# Evaluation\n",
    "Check precission, recall, f1-score using classification report"
   ]
  },
  {
   "cell_type": "code",
   "execution_count": 89,
   "metadata": {
    "scrolled": true
   },
   "outputs": [
    {
     "name": "stdout",
     "output_type": "stream",
     "text": [
      "              precision    recall  f1-score   support\n",
      "\n",
      "           0       0.59      0.49      0.54        67\n",
      "           1       0.54      0.63      0.58        63\n",
      "\n",
      "   micro avg       0.56      0.56      0.56       130\n",
      "   macro avg       0.56      0.56      0.56       130\n",
      "weighted avg       0.57      0.56      0.56       130\n",
      "\n"
     ]
    }
   ],
   "source": [
    "print(classification_report(y_test,prediction))"
   ]
  },
  {
   "cell_type": "code",
   "execution_count": 90,
   "metadata": {},
   "outputs": [
    {
     "name": "stdout",
     "output_type": "stream",
     "text": [
      "[[33 34]\n",
      " [23 40]]\n"
     ]
    }
   ],
   "source": [
    "print(confusion_matrix(y_test,prediction))"
   ]
  }
 ],
 "metadata": {
  "kernelspec": {
   "display_name": "Python 3",
   "language": "python",
   "name": "python3"
  },
  "language_info": {
   "codemirror_mode": {
    "name": "ipython",
    "version": 3
   },
   "file_extension": ".py",
   "mimetype": "text/x-python",
   "name": "python",
   "nbconvert_exporter": "python",
   "pygments_lexer": "ipython3",
   "version": "3.7.1"
  }
 },
 "nbformat": 4,
 "nbformat_minor": 2
}