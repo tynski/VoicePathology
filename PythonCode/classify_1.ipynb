{
 "cells": [
  {
   "cell_type": "code",
   "execution_count": 111,
   "metadata": {},
   "outputs": [],
   "source": [
    "import numpy as np\n",
    "import pandas as pd\n",
    "import matplotlib.pyplot as plt\n",
    "from sklearn.metrics import classification_report, confusion_matrix\n",
    "\n",
    "# This is a bit of magic to make matplotlib figures appear inline in the notebook\n",
    "# rather than in a new window.\n",
    "%matplotlib inline\n",
    "plt.rcParams['figure.figsize'] = (14.0, 6.0) # set default size of plots\n",
    "plt.rcParams['image.interpolation'] = 'nearest'\n",
    "plt.rcParams['image.cmap'] = 'gray'"
   ]
  },
  {
   "cell_type": "markdown",
   "metadata": {},
   "source": [
    "# Parameters Vector\n",
    "\n",
    "Load and normalization vector of parameters."
   ]
  },
  {
   "cell_type": "code",
   "execution_count": 176,
   "metadata": {
    "scrolled": true
   },
   "outputs": [
    {
     "data": {
      "text/html": [
       "<div>\n",
       "<style scoped>\n",
       "    .dataframe tbody tr th:only-of-type {\n",
       "        vertical-align: middle;\n",
       "    }\n",
       "\n",
       "    .dataframe tbody tr th {\n",
       "        vertical-align: top;\n",
       "    }\n",
       "\n",
       "    .dataframe thead th {\n",
       "        text-align: right;\n",
       "    }\n",
       "</style>\n",
       "<table border=\"1\" class=\"dataframe\">\n",
       "  <thead>\n",
       "    <tr style=\"text-align: right;\">\n",
       "      <th></th>\n",
       "      <th>MAX</th>\n",
       "      <th>MIN</th>\n",
       "      <th>RMS</th>\n",
       "      <th>KURTOSIS</th>\n",
       "      <th>SKEWNESS</th>\n",
       "      <th>Status</th>\n",
       "    </tr>\n",
       "  </thead>\n",
       "  <tbody>\n",
       "    <tr>\n",
       "      <th>0</th>\n",
       "      <td>18760.0</td>\n",
       "      <td>-11958.0</td>\n",
       "      <td>5294.547930</td>\n",
       "      <td>0.317484</td>\n",
       "      <td>0.894478</td>\n",
       "      <td>Chory</td>\n",
       "    </tr>\n",
       "    <tr>\n",
       "      <th>1</th>\n",
       "      <td>7822.0</td>\n",
       "      <td>-9809.0</td>\n",
       "      <td>3423.929549</td>\n",
       "      <td>-0.643199</td>\n",
       "      <td>-0.277961</td>\n",
       "      <td>Chory</td>\n",
       "    </tr>\n",
       "    <tr>\n",
       "      <th>2</th>\n",
       "      <td>8645.0</td>\n",
       "      <td>-12309.0</td>\n",
       "      <td>3791.464376</td>\n",
       "      <td>-0.876762</td>\n",
       "      <td>-0.070322</td>\n",
       "      <td>Chory</td>\n",
       "    </tr>\n",
       "    <tr>\n",
       "      <th>3</th>\n",
       "      <td>7948.0</td>\n",
       "      <td>-13705.0</td>\n",
       "      <td>3430.957024</td>\n",
       "      <td>-0.716686</td>\n",
       "      <td>-0.419052</td>\n",
       "      <td>Chory</td>\n",
       "    </tr>\n",
       "    <tr>\n",
       "      <th>4</th>\n",
       "      <td>19539.0</td>\n",
       "      <td>-17650.0</td>\n",
       "      <td>4096.550818</td>\n",
       "      <td>0.617535</td>\n",
       "      <td>0.500717</td>\n",
       "      <td>Chory</td>\n",
       "    </tr>\n",
       "  </tbody>\n",
       "</table>\n",
       "</div>"
      ],
      "text/plain": [
       "       MAX      MIN          RMS  KURTOSIS  SKEWNESS Status\n",
       "0  18760.0 -11958.0  5294.547930  0.317484  0.894478  Chory\n",
       "1   7822.0  -9809.0  3423.929549 -0.643199 -0.277961  Chory\n",
       "2   8645.0 -12309.0  3791.464376 -0.876762 -0.070322  Chory\n",
       "3   7948.0 -13705.0  3430.957024 -0.716686 -0.419052  Chory\n",
       "4  19539.0 -17650.0  4096.550818  0.617535  0.500717  Chory"
      ]
     },
     "execution_count": 176,
     "metadata": {},
     "output_type": "execute_result"
    }
   ],
   "source": [
    "# Loading csv file with parameters\n",
    "allpatients = pd.read_csv('Dataset/female_a_1.csv')\n",
    "allpatients.head()"
   ]
  },
  {
   "cell_type": "code",
   "execution_count": 177,
   "metadata": {},
   "outputs": [
    {
     "data": {
      "text/html": [
       "<div>\n",
       "<style scoped>\n",
       "    .dataframe tbody tr th:only-of-type {\n",
       "        vertical-align: middle;\n",
       "    }\n",
       "\n",
       "    .dataframe tbody tr th {\n",
       "        vertical-align: top;\n",
       "    }\n",
       "\n",
       "    .dataframe thead th {\n",
       "        text-align: right;\n",
       "    }\n",
       "</style>\n",
       "<table border=\"1\" class=\"dataframe\">\n",
       "  <thead>\n",
       "    <tr style=\"text-align: right;\">\n",
       "      <th></th>\n",
       "      <th>MAX</th>\n",
       "      <th>MIN</th>\n",
       "      <th>RMS</th>\n",
       "      <th>KURTOSIS</th>\n",
       "      <th>SKEWNESS</th>\n",
       "      <th>Status</th>\n",
       "    </tr>\n",
       "  </thead>\n",
       "  <tbody>\n",
       "    <tr>\n",
       "      <th>0</th>\n",
       "      <td>0.392833</td>\n",
       "      <td>0.650963</td>\n",
       "      <td>-0.147024</td>\n",
       "      <td>0.270322</td>\n",
       "      <td>1.307170</td>\n",
       "      <td>Chory</td>\n",
       "    </tr>\n",
       "    <tr>\n",
       "      <th>1</th>\n",
       "      <td>-1.637035</td>\n",
       "      <td>0.990899</td>\n",
       "      <td>-1.229182</td>\n",
       "      <td>-0.782410</td>\n",
       "      <td>-1.406034</td>\n",
       "      <td>Chory</td>\n",
       "    </tr>\n",
       "    <tr>\n",
       "      <th>2</th>\n",
       "      <td>-1.484303</td>\n",
       "      <td>0.595441</td>\n",
       "      <td>-1.016562</td>\n",
       "      <td>-1.038352</td>\n",
       "      <td>-0.925525</td>\n",
       "      <td>Chory</td>\n",
       "    </tr>\n",
       "    <tr>\n",
       "      <th>3</th>\n",
       "      <td>-1.613652</td>\n",
       "      <td>0.374617</td>\n",
       "      <td>-1.225117</td>\n",
       "      <td>-0.862938</td>\n",
       "      <td>-1.732540</td>\n",
       "      <td>Chory</td>\n",
       "    </tr>\n",
       "    <tr>\n",
       "      <th>4</th>\n",
       "      <td>0.537400</td>\n",
       "      <td>-0.249415</td>\n",
       "      <td>-0.840069</td>\n",
       "      <td>0.599122</td>\n",
       "      <td>0.395947</td>\n",
       "      <td>Chory</td>\n",
       "    </tr>\n",
       "  </tbody>\n",
       "</table>\n",
       "</div>"
      ],
      "text/plain": [
       "        MAX       MIN       RMS  KURTOSIS  SKEWNESS Status\n",
       "0  0.392833  0.650963 -0.147024  0.270322  1.307170  Chory\n",
       "1 -1.637035  0.990899 -1.229182 -0.782410 -1.406034  Chory\n",
       "2 -1.484303  0.595441 -1.016562 -1.038352 -0.925525  Chory\n",
       "3 -1.613652  0.374617 -1.225117 -0.862938 -1.732540  Chory\n",
       "4  0.537400 -0.249415 -0.840069  0.599122  0.395947  Chory"
      ]
     },
     "execution_count": 177,
     "metadata": {},
     "output_type": "execute_result"
    }
   ],
   "source": [
    "#Features has diffrent range, so they have to be normalized.\n",
    "features = allpatients.drop(labels='Status', axis=1).columns\n",
    "for i in features:\n",
    "    allpatients[i] = (allpatients[i] - np.mean(allpatients[i]))/np.std(allpatients[i])\n",
    "allpatients.head()"
   ]
  },
  {
   "cell_type": "markdown",
   "metadata": {},
   "source": [
    "# Dummy variables"
   ]
  },
  {
   "cell_type": "markdown",
   "metadata": {},
   "source": [
    "We'll need to convert categorical features (Status) to dummy variables, because our alghoritm can't understant what means 'healthy'."
   ]
  },
  {
   "cell_type": "code",
   "execution_count": 182,
   "metadata": {},
   "outputs": [],
   "source": [
    "status = pd.get_dummies(allpatients['Status'],drop_first=True)"
   ]
  },
  {
   "cell_type": "code",
   "execution_count": 183,
   "metadata": {},
   "outputs": [],
   "source": [
    "allpatients.drop(['Status'],axis=1,inplace=True)"
   ]
  },
  {
   "cell_type": "code",
   "execution_count": 184,
   "metadata": {},
   "outputs": [
    {
     "data": {
      "text/html": [
       "<div>\n",
       "<style scoped>\n",
       "    .dataframe tbody tr th:only-of-type {\n",
       "        vertical-align: middle;\n",
       "    }\n",
       "\n",
       "    .dataframe tbody tr th {\n",
       "        vertical-align: top;\n",
       "    }\n",
       "\n",
       "    .dataframe thead th {\n",
       "        text-align: right;\n",
       "    }\n",
       "</style>\n",
       "<table border=\"1\" class=\"dataframe\">\n",
       "  <thead>\n",
       "    <tr style=\"text-align: right;\">\n",
       "      <th></th>\n",
       "      <th>MAX</th>\n",
       "      <th>MIN</th>\n",
       "      <th>RMS</th>\n",
       "      <th>KURTOSIS</th>\n",
       "      <th>SKEWNESS</th>\n",
       "      <th>Chory</th>\n",
       "    </tr>\n",
       "  </thead>\n",
       "  <tbody>\n",
       "    <tr>\n",
       "      <th>0</th>\n",
       "      <td>0.392833</td>\n",
       "      <td>0.650963</td>\n",
       "      <td>-0.147024</td>\n",
       "      <td>0.270322</td>\n",
       "      <td>1.307170</td>\n",
       "      <td>0</td>\n",
       "    </tr>\n",
       "    <tr>\n",
       "      <th>1</th>\n",
       "      <td>-1.637035</td>\n",
       "      <td>0.990899</td>\n",
       "      <td>-1.229182</td>\n",
       "      <td>-0.782410</td>\n",
       "      <td>-1.406034</td>\n",
       "      <td>0</td>\n",
       "    </tr>\n",
       "    <tr>\n",
       "      <th>2</th>\n",
       "      <td>-1.484303</td>\n",
       "      <td>0.595441</td>\n",
       "      <td>-1.016562</td>\n",
       "      <td>-1.038352</td>\n",
       "      <td>-0.925525</td>\n",
       "      <td>0</td>\n",
       "    </tr>\n",
       "    <tr>\n",
       "      <th>3</th>\n",
       "      <td>-1.613652</td>\n",
       "      <td>0.374617</td>\n",
       "      <td>-1.225117</td>\n",
       "      <td>-0.862938</td>\n",
       "      <td>-1.732540</td>\n",
       "      <td>0</td>\n",
       "    </tr>\n",
       "    <tr>\n",
       "      <th>4</th>\n",
       "      <td>0.537400</td>\n",
       "      <td>-0.249415</td>\n",
       "      <td>-0.840069</td>\n",
       "      <td>0.599122</td>\n",
       "      <td>0.395947</td>\n",
       "      <td>0</td>\n",
       "    </tr>\n",
       "  </tbody>\n",
       "</table>\n",
       "</div>"
      ],
      "text/plain": [
       "        MAX       MIN       RMS  KURTOSIS  SKEWNESS  Chory\n",
       "0  0.392833  0.650963 -0.147024  0.270322  1.307170      0\n",
       "1 -1.637035  0.990899 -1.229182 -0.782410 -1.406034      0\n",
       "2 -1.484303  0.595441 -1.016562 -1.038352 -0.925525      0\n",
       "3 -1.613652  0.374617 -1.225117 -0.862938 -1.732540      0\n",
       "4  0.537400 -0.249415 -0.840069  0.599122  0.395947      0"
      ]
     },
     "execution_count": 184,
     "metadata": {},
     "output_type": "execute_result"
    }
   ],
   "source": [
    "allpatients['Chory'] = status\n",
    "allpatients.head()"
   ]
  },
  {
   "cell_type": "markdown",
   "metadata": {},
   "source": [
    "# Train test split\n",
    "Dataset is splitted into train set 75% and test set 25%."
   ]
  },
  {
   "cell_type": "code",
   "execution_count": 185,
   "metadata": {},
   "outputs": [],
   "source": [
    "from sklearn.model_selection import train_test_split"
   ]
  },
  {
   "cell_type": "code",
   "execution_count": 186,
   "metadata": {},
   "outputs": [],
   "source": [
    "X_train, X_test, y_train, y_test = train_test_split(allpatients.drop(['Chory'],axis=1), \n",
    "                                                    allpatients['Chory'], \n",
    "                                                    test_size=0.25, \n",
    "                                                    random_state=42)"
   ]
  },
  {
   "cell_type": "markdown",
   "metadata": {},
   "source": [
    "### K-fold validation\n",
    "In order to find best hiper-parameters k-fold validation is used, due to low number of train examples"
   ]
  },
  {
   "cell_type": "code",
   "execution_count": 187,
   "metadata": {},
   "outputs": [],
   "source": [
    "num_folds = 5\n",
    "\n",
    "X_train_folds = []\n",
    "y_train_folds = []\n",
    "\n",
    "X_train_folds = np.array_split(X_train, num_folds)\n",
    "y_train_folds = np.array_split(y_train, num_folds)"
   ]
  },
  {
   "cell_type": "markdown",
   "metadata": {},
   "source": [
    "# Logistic Regression"
   ]
  },
  {
   "cell_type": "code",
   "execution_count": 188,
   "metadata": {},
   "outputs": [],
   "source": [
    "from sklearn.linear_model import LogisticRegression"
   ]
  },
  {
   "cell_type": "code",
   "execution_count": 189,
   "metadata": {},
   "outputs": [],
   "source": [
    "accuracies = {}\n",
    "C = [1e-2, 1e-1, 5e-1, 1, 1.4, 1.8, 2, 2.4, 2.8, 3, 5, 10]\n",
    "\n",
    "for c in C:\n",
    "    for i in range(num_folds):\n",
    "        logModel = LogisticRegression(penalty='l1', C=c, solver='liblinear')\n",
    "        \n",
    "        train_set = np.concatenate(X_train_folds[:i]+X_train_folds[i+1:])\n",
    "        labels_set = np.concatenate(y_train_folds[:i]+y_train_folds[i+1:])\n",
    "        \n",
    "        logModel.fit(train_set, labels_set) \n",
    "        \n",
    "        y_val_pred = logModel.predict(X_train_folds[i])\n",
    "        val_acc = np.mean(y_val_pred == y_train_folds[i])\n",
    "        \n",
    "        if c in accuracies:\n",
    "            accuracies[c].extend([val_acc])\n",
    "        else:\n",
    "            accuracies[c] = [val_acc]"
   ]
  },
  {
   "cell_type": "code",
   "execution_count": 190,
   "metadata": {},
   "outputs": [
    {
     "data": {
      "image/png": "[encoded data removed]",
      "text/plain": [
       "<Figure size 1008x432 with 1 Axes>"
      ]
     },
     "metadata": {
      "needs_background": "light"
     },
     "output_type": "display_data"
    }
   ],
   "source": [
    "# plot the raw observations\n",
    "\n",
    "for c in C:\n",
    "    acc = accuracies[c]\n",
    "    plt.scatter([c] * len(acc), acc)\n",
    "\n",
    "# plot the trend line with error bars that correspond to standard deviation\n",
    "accuracies_mean = np.array([np.mean(v) for k,v in sorted(accuracies.items())])\n",
    "accuracies_std = np.array([np.std(v) for k,v in sorted(accuracies.items())])\n",
    "plt.errorbar(C, accuracies_mean, yerr=accuracies_std)\n",
    "plt.xlabel('Regularyzacja', fontsize=14)\n",
    "plt.ylabel('Dokładność zbioru walidacyjnego', fontsize=14)\n",
    "plt.xticks(fontsize=14)\n",
    "plt.yticks(fontsize=14)\n",
    "plt.show()"
   ]
  },
  {
   "cell_type": "code",
   "execution_count": 191,
   "metadata": {},
   "outputs": [],
   "source": [
    "# Based on the cross-validation results above  I picked optimal C.\n",
    "# I retrain the classifier using all the training data, and test it on the test\n",
    "# data.\n",
    "c = 2\n",
    "log_model = LogisticRegression(penalty='l1', C=c, solver='liblinear')\n",
    "log_model.fit(X_train, y_train)\n",
    "prediction = log_model.predict(X_test)"
   ]
  },
  {
   "cell_type": "markdown",
   "metadata": {},
   "source": [
    "# Evaluation\n",
    "Check precission, recall, f1-score using classification report"
   ]
  },
  {
   "cell_type": "code",
   "execution_count": 192,
   "metadata": {},
   "outputs": [
    {
     "name": "stdout",
     "output_type": "stream",
     "text": [
      "              precision    recall  f1-score   support\n",
      "\n",
      "           0       0.56      0.69      0.62       105\n",
      "           1       0.61      0.48      0.54       109\n",
      "\n",
      "   micro avg       0.58      0.58      0.58       214\n",
      "   macro avg       0.58      0.58      0.58       214\n",
      "weighted avg       0.59      0.58      0.57       214\n",
      "\n"
     ]
    }
   ],
   "source": [
    "print(classification_report(y_test,prediction))"
   ]
  },
  {
   "cell_type": "code",
   "execution_count": 193,
   "metadata": {},
   "outputs": [
    {
     "name": "stdout",
     "output_type": "stream",
     "text": [
      "[[72 33]\n",
      " [57 52]]\n"
     ]
    }
   ],
   "source": [
    "print(confusion_matrix(y_test,prediction))"
   ]
  },
  {
   "cell_type": "markdown",
   "metadata": {},
   "source": [
    "# Random Forest"
   ]
  },
  {
   "cell_type": "code",
   "execution_count": 194,
   "metadata": {},
   "outputs": [],
   "source": [
    "from sklearn.ensemble import RandomForestClassifier"
   ]
  },
  {
   "cell_type": "code",
   "execution_count": 195,
   "metadata": {},
   "outputs": [],
   "source": [
    "accuracies = {}\n",
    "n_estimators = [10, 50, 100, 120, 140, 160, 180, 200, 250, 300]\n",
    "\n",
    "for n in n_estimators:\n",
    "    for i in range(num_folds):\n",
    "        rf_model = RandomForestClassifier(n_estimators=n)\n",
    "        \n",
    "        train_set = np.concatenate(X_train_folds[:i]+X_train_folds[i+1:])\n",
    "        labels_set = np.concatenate(y_train_folds[:i]+y_train_folds[i+1:])\n",
    "        \n",
    "        rf_model.fit(train_set, labels_set) \n",
    "        \n",
    "        y_val_pred = rf_model.predict(X_train_folds[i])\n",
    "        val_acc = np.mean(y_val_pred == y_train_folds[i])\n",
    "        \n",
    "        if n in accuracies:\n",
    "            accuracies[n].extend([val_acc])\n",
    "        else:\n",
    "            accuracies[n] = [val_acc]"
   ]
  },
  {
   "cell_type": "code",
   "execution_count": 196,
   "metadata": {},
   "outputs": [
    {
     "data": {
      "image/png": "[encoded data removed]",
      "text/plain": [
       "<Figure size 1008x432 with 1 Axes>"
      ]
     },
     "metadata": {
      "needs_background": "light"
     },
     "output_type": "display_data"
    }
   ],
   "source": [
    "# plot the raw observations\n",
    "\n",
    "for n in n_estimators:\n",
    "    acc = accuracies[n]\n",
    "    plt.scatter([n] * len(acc), acc)\n",
    "\n",
    "# plot the trend line with error bars that correspond to standard deviation\n",
    "accuracies_mean = np.array([np.mean(v) for k,v in sorted(accuracies.items())])\n",
    "accuracies_std = np.array([np.std(v) for k,v in sorted(accuracies.items())])\n",
    "plt.errorbar(n_estimators, accuracies_mean, yerr=accuracies_std)\n",
    "plt.xlabel('liczba drzew', fontsize=14)\n",
    "plt.ylabel('dokładność zbioru walidacyjnego', fontsize=14)\n",
    "plt.xticks(fontsize=14)\n",
    "plt.yticks(fontsize=14)\n",
    "plt.show()"
   ]
  },
  {
   "cell_type": "code",
   "execution_count": 197,
   "metadata": {},
   "outputs": [],
   "source": [
    "# Based on the cross-validation results above  I picked optimal number of estimators.\n",
    "# I retrain the classifier using all the training data, and test it on the test\n",
    "# data.\n",
    "best_n = 140\n",
    "rf_model = RandomForestClassifier(n_estimators=best_n)\n",
    "rf_model.fit(X_train, y_train)\n",
    "prediction = rf_model.predict(X_test)"
   ]
  },
  {
   "cell_type": "markdown",
   "metadata": {},
   "source": [
    "# Evaluation"
   ]
  },
  {
   "cell_type": "code",
   "execution_count": 198,
   "metadata": {},
   "outputs": [
    {
     "name": "stdout",
     "output_type": "stream",
     "text": [
      "              precision    recall  f1-score   support\n",
      "\n",
      "           0       0.59      0.61      0.60       105\n",
      "           1       0.61      0.59      0.60       109\n",
      "\n",
      "   micro avg       0.60      0.60      0.60       214\n",
      "   macro avg       0.60      0.60      0.60       214\n",
      "weighted avg       0.60      0.60      0.60       214\n",
      "\n"
     ]
    }
   ],
   "source": [
    "print(classification_report(y_test, prediction))"
   ]
  },
  {
   "cell_type": "code",
   "execution_count": 173,
   "metadata": {},
   "outputs": [
    {
     "name": "stdout",
     "output_type": "stream",
     "text": [
      "[[35 32]\n",
      " [20 43]]\n"
     ]
    }
   ],
   "source": [
    "print(confusion_matrix(y_test, prediction))"
   ]
  },
  {
   "cell_type": "code",
   "execution_count": 174,
   "metadata": {},
   "outputs": [],
   "source": [
    "feature_importance = rf_model.feature_importances_"
   ]
  },
  {
   "cell_type": "code",
   "execution_count": 175,
   "metadata": {},
   "outputs": [
    {
     "data": {
      "text/plain": [
       "[Text(0,0,'Maks'),\n",
       " Text(0,0,'Min'),\n",
       " Text(0,0,'RMS'),\n",
       " Text(0,0,'Kurt'),\n",
       " Text(0,0,'Skos')]"
      ]
     },
     "execution_count": 175,
     "metadata": {},
     "output_type": "execute_result"
    },
    {
     "data": {
      "image/png": "[encoded data removed]",
      "text/plain": [
       "<Figure size 1080x432 with 1 Axes>"
      ]
     },
     "metadata": {
      "needs_background": "light"
     },
     "output_type": "display_data"
    }
   ],
   "source": [
    "fig, ax = plt.subplots()\n",
    "fig.set_size_inches(15, 6)\n",
    "plt.grid(b=False)\n",
    "ind = np.arange(len(feature_importance))  # the x locations for the groups\n",
    "width = 0.4  # the width of the bars\n",
    "ax.bar(ind, feature_importance, width, color='IndianRed')\n",
    "ax.set_ylabel('Waga parametru', fontsize=12)\n",
    "ax.set_xticks(ind)\n",
    "ax.set_xticklabels(['Maks', 'Min', 'RMS', 'Kurt', 'Skos'], fontsize=12)"
   ]
  }
 ],
 "metadata": {
  "kernelspec": {
   "display_name": "Python 3",
   "language": "python",
   "name": "python3"
  },
  "language_info": {
   "codemirror_mode": {
    "name": "ipython",
    "version": 3
   },
   "file_extension": ".py",
   "mimetype": "text/x-python",
   "name": "python",
   "nbconvert_exporter": "python",
   "pygments_lexer": "ipython3",
   "version": "3.7.1"
  }
 },
 "nbformat": 4,
 "nbformat_minor": 2
}
