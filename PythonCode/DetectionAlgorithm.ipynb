{
 "cells": [
  {
   "cell_type": "code",
   "execution_count": 1,
   "metadata": {},
   "outputs": [],
   "source": [
    "import numpy as np\n",
    "import pandas as pd"
   ]
  },
  {
   "cell_type": "markdown",
   "metadata": {},
   "source": [
    "# Parameters Vector\n",
    "\n",
    "Load, merge, normalization vector of parameters."
   ]
  },
  {
   "cell_type": "code",
   "execution_count": 2,
   "metadata": {
    "scrolled": true
   },
   "outputs": [],
   "source": [
    "# Loading each csv file\n",
    "df1 = pd.read_csv('malehealthy.csv')\n",
    "df2 = pd.read_csv('malepathology.csv')\n",
    "df3 = pd.read_csv('femalehealthy.csv')\n",
    "df4 = pd.read_csv('femalepathology.csv')"
   ]
  },
  {
   "cell_type": "markdown",
   "metadata": {},
   "source": [
    "Concatenating all four DataFrames into one."
   ]
  },
  {
   "cell_type": "code",
   "execution_count": 3,
   "metadata": {},
   "outputs": [
    {
     "data": {
      "text/html": [
       "<div>\n",
       "<style scoped>\n",
       "    .dataframe tbody tr th:only-of-type {\n",
       "        vertical-align: middle;\n",
       "    }\n",
       "\n",
       "    .dataframe tbody tr th {\n",
       "        vertical-align: top;\n",
       "    }\n",
       "\n",
       "    .dataframe thead th {\n",
       "        text-align: right;\n",
       "    }\n",
       "</style>\n",
       "<table border=\"1\" class=\"dataframe\">\n",
       "  <thead>\n",
       "    <tr style=\"text-align: right;\">\n",
       "      <th></th>\n",
       "      <th>STD</th>\n",
       "      <th>MEAN</th>\n",
       "      <th>MAX</th>\n",
       "      <th>MIN</th>\n",
       "      <th>RMS</th>\n",
       "      <th>ENERGY</th>\n",
       "      <th>POWER</th>\n",
       "      <th>Status</th>\n",
       "    </tr>\n",
       "  </thead>\n",
       "  <tbody>\n",
       "    <tr>\n",
       "      <th>0</th>\n",
       "      <td>6289.628284</td>\n",
       "      <td>10.762239</td>\n",
       "      <td>29241.0</td>\n",
       "      <td>-29320.0</td>\n",
       "      <td>6289.637492</td>\n",
       "      <td>3.142491e+12</td>\n",
       "      <td>1.977965e+07</td>\n",
       "      <td>healthy</td>\n",
       "    </tr>\n",
       "    <tr>\n",
       "      <th>1</th>\n",
       "      <td>5107.064228</td>\n",
       "      <td>-8.317314</td>\n",
       "      <td>22856.0</td>\n",
       "      <td>-29453.0</td>\n",
       "      <td>5107.071001</td>\n",
       "      <td>2.332659e+12</td>\n",
       "      <td>1.304101e+07</td>\n",
       "      <td>healthy</td>\n",
       "    </tr>\n",
       "    <tr>\n",
       "      <th>2</th>\n",
       "      <td>6599.732595</td>\n",
       "      <td>26.978027</td>\n",
       "      <td>22061.0</td>\n",
       "      <td>-23299.0</td>\n",
       "      <td>6599.787734</td>\n",
       "      <td>1.791987e+12</td>\n",
       "      <td>2.177833e+07</td>\n",
       "      <td>healthy</td>\n",
       "    </tr>\n",
       "    <tr>\n",
       "      <th>3</th>\n",
       "      <td>3353.416152</td>\n",
       "      <td>-16.966091</td>\n",
       "      <td>9884.0</td>\n",
       "      <td>-13521.0</td>\n",
       "      <td>3353.459070</td>\n",
       "      <td>8.231281e+11</td>\n",
       "      <td>5.622805e+06</td>\n",
       "      <td>healthy</td>\n",
       "    </tr>\n",
       "    <tr>\n",
       "      <th>4</th>\n",
       "      <td>4251.474562</td>\n",
       "      <td>84.546723</td>\n",
       "      <td>13997.0</td>\n",
       "      <td>-19188.0</td>\n",
       "      <td>4252.315146</td>\n",
       "      <td>1.523442e+12</td>\n",
       "      <td>9.041038e+06</td>\n",
       "      <td>healthy</td>\n",
       "    </tr>\n",
       "  </tbody>\n",
       "</table>\n",
       "</div>"
      ],
      "text/plain": [
       "           STD       MEAN      MAX      MIN          RMS        ENERGY  \\\n",
       "0  6289.628284  10.762239  29241.0 -29320.0  6289.637492  3.142491e+12   \n",
       "1  5107.064228  -8.317314  22856.0 -29453.0  5107.071001  2.332659e+12   \n",
       "2  6599.732595  26.978027  22061.0 -23299.0  6599.787734  1.791987e+12   \n",
       "3  3353.416152 -16.966091   9884.0 -13521.0  3353.459070  8.231281e+11   \n",
       "4  4251.474562  84.546723  13997.0 -19188.0  4252.315146  1.523442e+12   \n",
       "\n",
       "          POWER   Status  \n",
       "0  1.977965e+07  healthy  \n",
       "1  1.304101e+07  healthy  \n",
       "2  2.177833e+07  healthy  \n",
       "3  5.622805e+06  healthy  \n",
       "4  9.041038e+06  healthy  "
      ]
     },
     "execution_count": 3,
     "metadata": {},
     "output_type": "execute_result"
    }
   ],
   "source": [
    "allpatients = pd.concat([df1,df2,df3,df4])\n",
    "allpatients.head()"
   ]
  },
  {
   "cell_type": "markdown",
   "metadata": {},
   "source": [
    "Features has diffrent rows, so they have to be normalized."
   ]
  },
  {
   "cell_type": "code",
   "execution_count": 4,
   "metadata": {},
   "outputs": [
    {
     "data": {
      "text/html": [
       "<div>\n",
       "<style scoped>\n",
       "    .dataframe tbody tr th:only-of-type {\n",
       "        vertical-align: middle;\n",
       "    }\n",
       "\n",
       "    .dataframe tbody tr th {\n",
       "        vertical-align: top;\n",
       "    }\n",
       "\n",
       "    .dataframe thead th {\n",
       "        text-align: right;\n",
       "    }\n",
       "</style>\n",
       "<table border=\"1\" class=\"dataframe\">\n",
       "  <thead>\n",
       "    <tr style=\"text-align: right;\">\n",
       "      <th></th>\n",
       "      <th>STD</th>\n",
       "      <th>MEAN</th>\n",
       "      <th>MAX</th>\n",
       "      <th>MIN</th>\n",
       "      <th>RMS</th>\n",
       "      <th>ENERGY</th>\n",
       "      <th>POWER</th>\n",
       "      <th>Status</th>\n",
       "    </tr>\n",
       "  </thead>\n",
       "  <tbody>\n",
       "    <tr>\n",
       "      <th>0</th>\n",
       "      <td>0.427009</td>\n",
       "      <td>0.166092</td>\n",
       "      <td>2.282855</td>\n",
       "      <td>-1.734309</td>\n",
       "      <td>0.411114</td>\n",
       "      <td>0.642207</td>\n",
       "      <td>0.251356</td>\n",
       "      <td>healthy</td>\n",
       "    </tr>\n",
       "    <tr>\n",
       "      <th>1</th>\n",
       "      <td>-0.252270</td>\n",
       "      <td>0.131723</td>\n",
       "      <td>1.098892</td>\n",
       "      <td>-1.754664</td>\n",
       "      <td>-0.270637</td>\n",
       "      <td>0.117862</td>\n",
       "      <td>-0.369856</td>\n",
       "      <td>healthy</td>\n",
       "    </tr>\n",
       "    <tr>\n",
       "      <th>2</th>\n",
       "      <td>0.605136</td>\n",
       "      <td>0.195303</td>\n",
       "      <td>0.951476</td>\n",
       "      <td>-0.812862</td>\n",
       "      <td>0.589916</td>\n",
       "      <td>-0.232209</td>\n",
       "      <td>0.435609</td>\n",
       "      <td>healthy</td>\n",
       "    </tr>\n",
       "    <tr>\n",
       "      <th>3</th>\n",
       "      <td>-1.259587</td>\n",
       "      <td>0.116143</td>\n",
       "      <td>-1.306491</td>\n",
       "      <td>0.683552</td>\n",
       "      <td>-1.281596</td>\n",
       "      <td>-0.859520</td>\n",
       "      <td>-1.053716</td>\n",
       "      <td>healthy</td>\n",
       "    </tr>\n",
       "    <tr>\n",
       "      <th>4</th>\n",
       "      <td>-0.743731</td>\n",
       "      <td>0.299006</td>\n",
       "      <td>-0.543822</td>\n",
       "      <td>-0.183720</td>\n",
       "      <td>-0.763404</td>\n",
       "      <td>-0.406085</td>\n",
       "      <td>-0.738600</td>\n",
       "      <td>healthy</td>\n",
       "    </tr>\n",
       "  </tbody>\n",
       "</table>\n",
       "</div>"
      ],
      "text/plain": [
       "        STD      MEAN       MAX       MIN       RMS    ENERGY     POWER  \\\n",
       "0  0.427009  0.166092  2.282855 -1.734309  0.411114  0.642207  0.251356   \n",
       "1 -0.252270  0.131723  1.098892 -1.754664 -0.270637  0.117862 -0.369856   \n",
       "2  0.605136  0.195303  0.951476 -0.812862  0.589916 -0.232209  0.435609   \n",
       "3 -1.259587  0.116143 -1.306491  0.683552 -1.281596 -0.859520 -1.053716   \n",
       "4 -0.743731  0.299006 -0.543822 -0.183720 -0.763404 -0.406085 -0.738600   \n",
       "\n",
       "    Status  \n",
       "0  healthy  \n",
       "1  healthy  \n",
       "2  healthy  \n",
       "3  healthy  \n",
       "4  healthy  "
      ]
     },
     "execution_count": 4,
     "metadata": {},
     "output_type": "execute_result"
    }
   ],
   "source": [
    "features = ['STD','MEAN','MAX','MIN','RMS','ENERGY','POWER']\n",
    "for i in features:\n",
    "    allpatients[i] = (allpatients[i] - np.mean(allpatients[i]))/np.std(allpatients[i])\n",
    "allpatients.head()"
   ]
  },
  {
   "cell_type": "markdown",
   "metadata": {},
   "source": [
    "Afterwards data have to be suffled, in order to avoid overfitting"
   ]
  },
  {
   "cell_type": "code",
   "execution_count": 5,
   "metadata": {},
   "outputs": [
    {
     "data": {
      "text/html": [
       "<div>\n",
       "<style scoped>\n",
       "    .dataframe tbody tr th:only-of-type {\n",
       "        vertical-align: middle;\n",
       "    }\n",
       "\n",
       "    .dataframe tbody tr th {\n",
       "        vertical-align: top;\n",
       "    }\n",
       "\n",
       "    .dataframe thead th {\n",
       "        text-align: right;\n",
       "    }\n",
       "</style>\n",
       "<table border=\"1\" class=\"dataframe\">\n",
       "  <thead>\n",
       "    <tr style=\"text-align: right;\">\n",
       "      <th></th>\n",
       "      <th>STD</th>\n",
       "      <th>MEAN</th>\n",
       "      <th>MAX</th>\n",
       "      <th>MIN</th>\n",
       "      <th>RMS</th>\n",
       "      <th>ENERGY</th>\n",
       "      <th>POWER</th>\n",
       "      <th>Status</th>\n",
       "    </tr>\n",
       "  </thead>\n",
       "  <tbody>\n",
       "    <tr>\n",
       "      <th>0</th>\n",
       "      <td>-0.463581</td>\n",
       "      <td>0.157359</td>\n",
       "      <td>-0.684377</td>\n",
       "      <td>0.440832</td>\n",
       "      <td>-0.482717</td>\n",
       "      <td>-0.535412</td>\n",
       "      <td>-0.536817</td>\n",
       "      <td>healthy</td>\n",
       "    </tr>\n",
       "    <tr>\n",
       "      <th>1</th>\n",
       "      <td>2.161011</td>\n",
       "      <td>0.151043</td>\n",
       "      <td>1.180852</td>\n",
       "      <td>-0.766798</td>\n",
       "      <td>2.151418</td>\n",
       "      <td>1.154339</td>\n",
       "      <td>2.421687</td>\n",
       "      <td>pathology</td>\n",
       "    </tr>\n",
       "    <tr>\n",
       "      <th>2</th>\n",
       "      <td>0.164834</td>\n",
       "      <td>0.133889</td>\n",
       "      <td>-0.539372</td>\n",
       "      <td>0.965602</td>\n",
       "      <td>0.147983</td>\n",
       "      <td>0.377179</td>\n",
       "      <td>-0.003686</td>\n",
       "      <td>pathology</td>\n",
       "    </tr>\n",
       "    <tr>\n",
       "      <th>3</th>\n",
       "      <td>-1.150112</td>\n",
       "      <td>0.163762</td>\n",
       "      <td>-0.572378</td>\n",
       "      <td>1.469559</td>\n",
       "      <td>-1.171741</td>\n",
       "      <td>-0.612636</td>\n",
       "      <td>-0.993132</td>\n",
       "      <td>healthy</td>\n",
       "    </tr>\n",
       "    <tr>\n",
       "      <th>4</th>\n",
       "      <td>-0.542493</td>\n",
       "      <td>0.150808</td>\n",
       "      <td>-0.615583</td>\n",
       "      <td>1.569034</td>\n",
       "      <td>-0.561919</td>\n",
       "      <td>-0.702437</td>\n",
       "      <td>-0.595969</td>\n",
       "      <td>pathology</td>\n",
       "    </tr>\n",
       "  </tbody>\n",
       "</table>\n",
       "</div>"
      ],
      "text/plain": [
       "        STD      MEAN       MAX       MIN       RMS    ENERGY     POWER  \\\n",
       "0 -0.463581  0.157359 -0.684377  0.440832 -0.482717 -0.535412 -0.536817   \n",
       "1  2.161011  0.151043  1.180852 -0.766798  2.151418  1.154339  2.421687   \n",
       "2  0.164834  0.133889 -0.539372  0.965602  0.147983  0.377179 -0.003686   \n",
       "3 -1.150112  0.163762 -0.572378  1.469559 -1.171741 -0.612636 -0.993132   \n",
       "4 -0.542493  0.150808 -0.615583  1.569034 -0.561919 -0.702437 -0.595969   \n",
       "\n",
       "      Status  \n",
       "0    healthy  \n",
       "1  pathology  \n",
       "2  pathology  \n",
       "3    healthy  \n",
       "4  pathology  "
      ]
     },
     "execution_count": 5,
     "metadata": {},
     "output_type": "execute_result"
    }
   ],
   "source": [
    "allpatients = allpatients.sample(frac=1).reset_index(drop=True)\n",
    "allpatients.head()"
   ]
  },
  {
   "cell_type": "markdown",
   "metadata": {},
   "source": [
    "We'll need to convert categorical features (Status) to dummy variables, because our alghoritm can't understant what means 'healthy'."
   ]
  },
  {
   "cell_type": "code",
   "execution_count": 6,
   "metadata": {},
   "outputs": [],
   "source": [
    "status = pd.get_dummies(allpatients['Status'],drop_first=True)"
   ]
  },
  {
   "cell_type": "code",
   "execution_count": 7,
   "metadata": {},
   "outputs": [],
   "source": [
    "allpatients.drop(['Status'],axis=1,inplace=True)"
   ]
  },
  {
   "cell_type": "code",
   "execution_count": 8,
   "metadata": {},
   "outputs": [
    {
     "data": {
      "text/html": [
       "<div>\n",
       "<style scoped>\n",
       "    .dataframe tbody tr th:only-of-type {\n",
       "        vertical-align: middle;\n",
       "    }\n",
       "\n",
       "    .dataframe tbody tr th {\n",
       "        vertical-align: top;\n",
       "    }\n",
       "\n",
       "    .dataframe thead th {\n",
       "        text-align: right;\n",
       "    }\n",
       "</style>\n",
       "<table border=\"1\" class=\"dataframe\">\n",
       "  <thead>\n",
       "    <tr style=\"text-align: right;\">\n",
       "      <th></th>\n",
       "      <th>STD</th>\n",
       "      <th>MEAN</th>\n",
       "      <th>MAX</th>\n",
       "      <th>MIN</th>\n",
       "      <th>RMS</th>\n",
       "      <th>ENERGY</th>\n",
       "      <th>POWER</th>\n",
       "      <th>Pathology</th>\n",
       "    </tr>\n",
       "  </thead>\n",
       "  <tbody>\n",
       "    <tr>\n",
       "      <th>0</th>\n",
       "      <td>-0.463581</td>\n",
       "      <td>0.157359</td>\n",
       "      <td>-0.684377</td>\n",
       "      <td>0.440832</td>\n",
       "      <td>-0.482717</td>\n",
       "      <td>-0.535412</td>\n",
       "      <td>-0.536817</td>\n",
       "      <td>0</td>\n",
       "    </tr>\n",
       "    <tr>\n",
       "      <th>1</th>\n",
       "      <td>2.161011</td>\n",
       "      <td>0.151043</td>\n",
       "      <td>1.180852</td>\n",
       "      <td>-0.766798</td>\n",
       "      <td>2.151418</td>\n",
       "      <td>1.154339</td>\n",
       "      <td>2.421687</td>\n",
       "      <td>1</td>\n",
       "    </tr>\n",
       "    <tr>\n",
       "      <th>2</th>\n",
       "      <td>0.164834</td>\n",
       "      <td>0.133889</td>\n",
       "      <td>-0.539372</td>\n",
       "      <td>0.965602</td>\n",
       "      <td>0.147983</td>\n",
       "      <td>0.377179</td>\n",
       "      <td>-0.003686</td>\n",
       "      <td>1</td>\n",
       "    </tr>\n",
       "    <tr>\n",
       "      <th>3</th>\n",
       "      <td>-1.150112</td>\n",
       "      <td>0.163762</td>\n",
       "      <td>-0.572378</td>\n",
       "      <td>1.469559</td>\n",
       "      <td>-1.171741</td>\n",
       "      <td>-0.612636</td>\n",
       "      <td>-0.993132</td>\n",
       "      <td>0</td>\n",
       "    </tr>\n",
       "    <tr>\n",
       "      <th>4</th>\n",
       "      <td>-0.542493</td>\n",
       "      <td>0.150808</td>\n",
       "      <td>-0.615583</td>\n",
       "      <td>1.569034</td>\n",
       "      <td>-0.561919</td>\n",
       "      <td>-0.702437</td>\n",
       "      <td>-0.595969</td>\n",
       "      <td>1</td>\n",
       "    </tr>\n",
       "  </tbody>\n",
       "</table>\n",
       "</div>"
      ],
      "text/plain": [
       "        STD      MEAN       MAX       MIN       RMS    ENERGY     POWER  \\\n",
       "0 -0.463581  0.157359 -0.684377  0.440832 -0.482717 -0.535412 -0.536817   \n",
       "1  2.161011  0.151043  1.180852 -0.766798  2.151418  1.154339  2.421687   \n",
       "2  0.164834  0.133889 -0.539372  0.965602  0.147983  0.377179 -0.003686   \n",
       "3 -1.150112  0.163762 -0.572378  1.469559 -1.171741 -0.612636 -0.993132   \n",
       "4 -0.542493  0.150808 -0.615583  1.569034 -0.561919 -0.702437 -0.595969   \n",
       "\n",
       "   Pathology  \n",
       "0          0  \n",
       "1          1  \n",
       "2          1  \n",
       "3          0  \n",
       "4          1  "
      ]
     },
     "execution_count": 8,
     "metadata": {},
     "output_type": "execute_result"
    }
   ],
   "source": [
    "allpatients['Pathology'] = status\n",
    "allpatients.head()"
   ]
  },
  {
   "cell_type": "markdown",
   "metadata": {},
   "source": [
    "# Detection alghoritm\n",
    "\n",
    "Building logistic regression algorithm"
   ]
  },
  {
   "cell_type": "markdown",
   "metadata": {},
   "source": [
    "# Train test split"
   ]
  },
  {
   "cell_type": "code",
   "execution_count": 9,
   "metadata": {},
   "outputs": [],
   "source": [
    "from sklearn.model_selection import train_test_split"
   ]
  },
  {
   "cell_type": "code",
   "execution_count": 10,
   "metadata": {},
   "outputs": [],
   "source": [
    "X_train, X_test, y_train, y_test = train_test_split(allpatients.drop(['Pathology'],axis=1), \n",
    "                                                    allpatients['Pathology'], \n",
    "                                                    test_size=0.30, \n",
    "                                                    random_state=42)"
   ]
  },
  {
   "cell_type": "markdown",
   "metadata": {},
   "source": [
    "# Training and predicting"
   ]
  },
  {
   "cell_type": "code",
   "execution_count": 11,
   "metadata": {},
   "outputs": [],
   "source": [
    "from sklearn.linear_model import LogisticRegression"
   ]
  },
  {
   "cell_type": "code",
   "execution_count": 44,
   "metadata": {},
   "outputs": [
    {
     "name": "stderr",
     "output_type": "stream",
     "text": [
      "/home/barti/miniconda3/lib/python3.7/site-packages/sklearn/linear_model/logistic.py:432: FutureWarning: Default solver will be changed to 'lbfgs' in 0.22. Specify a solver to silence this warning.\n",
      "  FutureWarning)\n"
     ]
    },
    {
     "data": {
      "text/plain": [
       "LogisticRegression(C=1e-05, class_weight=None, dual=False, fit_intercept=True,\n",
       "          intercept_scaling=1, max_iter=1000, multi_class='warn',\n",
       "          n_jobs=None, penalty='l2', random_state=None, solver='warn',\n",
       "          tol=0.0001, verbose=0, warm_start=False)"
      ]
     },
     "execution_count": 44,
     "metadata": {},
     "output_type": "execute_result"
    }
   ],
   "source": [
    "logModel = LogisticRegression(max_iter=1000, C = 0.00001)\n",
    "logModel.fit(X_train, y_train)"
   ]
  },
  {
   "cell_type": "code",
   "execution_count": 45,
   "metadata": {},
   "outputs": [],
   "source": [
    "prediction = logModel.predict(X_test)"
   ]
  },
  {
   "cell_type": "markdown",
   "metadata": {},
   "source": [
    "# Evaluation\n",
    "Check precission, recall, f1-score using classification report"
   ]
  },
  {
   "cell_type": "code",
   "execution_count": 46,
   "metadata": {},
   "outputs": [],
   "source": [
    "from sklearn.metrics import classification_report"
   ]
  },
  {
   "cell_type": "code",
   "execution_count": 47,
   "metadata": {},
   "outputs": [
    {
     "name": "stdout",
     "output_type": "stream",
     "text": [
      "              precision    recall  f1-score   support\n",
      "\n",
      "           0       0.50      0.31      0.38       212\n",
      "           1       0.70      0.84      0.76       401\n",
      "\n",
      "   micro avg       0.65      0.65      0.65       613\n",
      "   macro avg       0.60      0.57      0.57       613\n",
      "weighted avg       0.63      0.65      0.63       613\n",
      "\n"
     ]
    }
   ],
   "source": [
    "print(classification_report(y_test,prediction))"
   ]
  }
 ],
 "metadata": {
  "kernelspec": {
   "display_name": "Python 3",
   "language": "python",
   "name": "python3"
  },
  "language_info": {
   "codemirror_mode": {
    "name": "ipython",
    "version": 3
   },
   "file_extension": ".py",
   "mimetype": "text/x-python",
   "name": "python",
   "nbconvert_exporter": "python",
   "pygments_lexer": "ipython3",
   "version": "3.7.0"
  }
 },
 "nbformat": 4,
 "nbformat_minor": 2
}
