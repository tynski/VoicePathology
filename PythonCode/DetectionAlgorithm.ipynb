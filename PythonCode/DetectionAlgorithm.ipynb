{
 "cells": [
  {
   "cell_type": "code",
   "execution_count": 1,
   "metadata": {},
   "outputs": [],
   "source": [
    "import numpy as np\n",
    "import pandas as pd"
   ]
  },
  {
   "cell_type": "markdown",
   "metadata": {},
   "source": [
    "# Parameters Vector\n",
    "\n",
    "Load, merge, normalization and visualisation vector of parameters."
   ]
  },
  {
   "cell_type": "code",
   "execution_count": 18,
   "metadata": {
    "scrolled": true
   },
   "outputs": [],
   "source": [
    "# Loading each csv file\n",
    "df1 = pd.read_csv('malehealthy.csv')\n",
    "df2 = pd.read_csv('malepathology.csv')\n",
    "df3 = pd.read_csv('femalehealthy.csv')\n",
    "df4 = pd.read_csv('femalepathology.csv')"
   ]
  },
  {
   "cell_type": "markdown",
   "metadata": {},
   "source": [
    "Concatenating all four DataFrames into one."
   ]
  },
  {
   "cell_type": "code",
   "execution_count": 19,
   "metadata": {},
   "outputs": [
    {
     "data": {
      "text/html": [
       "<div>\n",
       "<style scoped>\n",
       "    .dataframe tbody tr th:only-of-type {\n",
       "        vertical-align: middle;\n",
       "    }\n",
       "\n",
       "    .dataframe tbody tr th {\n",
       "        vertical-align: top;\n",
       "    }\n",
       "\n",
       "    .dataframe thead th {\n",
       "        text-align: right;\n",
       "    }\n",
       "</style>\n",
       "<table border=\"1\" class=\"dataframe\">\n",
       "  <thead>\n",
       "    <tr style=\"text-align: right;\">\n",
       "      <th></th>\n",
       "      <th>STD</th>\n",
       "      <th>MEAN</th>\n",
       "      <th>MAX</th>\n",
       "      <th>MIN</th>\n",
       "      <th>RMS</th>\n",
       "      <th>ENERGY</th>\n",
       "      <th>POWER</th>\n",
       "      <th>Status</th>\n",
       "    </tr>\n",
       "  </thead>\n",
       "  <tbody>\n",
       "    <tr>\n",
       "      <th>0</th>\n",
       "      <td>6289.628284</td>\n",
       "      <td>10.762239</td>\n",
       "      <td>29241.0</td>\n",
       "      <td>-29320.0</td>\n",
       "      <td>6289.637492</td>\n",
       "      <td>3.142491e+12</td>\n",
       "      <td>1.977965e+07</td>\n",
       "      <td>healthy</td>\n",
       "    </tr>\n",
       "    <tr>\n",
       "      <th>1</th>\n",
       "      <td>5107.064228</td>\n",
       "      <td>-8.317314</td>\n",
       "      <td>22856.0</td>\n",
       "      <td>-29453.0</td>\n",
       "      <td>5107.071001</td>\n",
       "      <td>2.332659e+12</td>\n",
       "      <td>1.304101e+07</td>\n",
       "      <td>healthy</td>\n",
       "    </tr>\n",
       "    <tr>\n",
       "      <th>2</th>\n",
       "      <td>6599.732595</td>\n",
       "      <td>26.978027</td>\n",
       "      <td>22061.0</td>\n",
       "      <td>-23299.0</td>\n",
       "      <td>6599.787734</td>\n",
       "      <td>1.791987e+12</td>\n",
       "      <td>2.177833e+07</td>\n",
       "      <td>healthy</td>\n",
       "    </tr>\n",
       "    <tr>\n",
       "      <th>3</th>\n",
       "      <td>3353.416152</td>\n",
       "      <td>-16.966091</td>\n",
       "      <td>9884.0</td>\n",
       "      <td>-13521.0</td>\n",
       "      <td>3353.459070</td>\n",
       "      <td>8.231281e+11</td>\n",
       "      <td>5.622805e+06</td>\n",
       "      <td>healthy</td>\n",
       "    </tr>\n",
       "    <tr>\n",
       "      <th>4</th>\n",
       "      <td>4251.474562</td>\n",
       "      <td>84.546723</td>\n",
       "      <td>13997.0</td>\n",
       "      <td>-19188.0</td>\n",
       "      <td>4252.315146</td>\n",
       "      <td>1.523442e+12</td>\n",
       "      <td>9.041038e+06</td>\n",
       "      <td>healthy</td>\n",
       "    </tr>\n",
       "  </tbody>\n",
       "</table>\n",
       "</div>"
      ],
      "text/plain": [
       "           STD       MEAN      MAX      MIN          RMS        ENERGY  \\\n",
       "0  6289.628284  10.762239  29241.0 -29320.0  6289.637492  3.142491e+12   \n",
       "1  5107.064228  -8.317314  22856.0 -29453.0  5107.071001  2.332659e+12   \n",
       "2  6599.732595  26.978027  22061.0 -23299.0  6599.787734  1.791987e+12   \n",
       "3  3353.416152 -16.966091   9884.0 -13521.0  3353.459070  8.231281e+11   \n",
       "4  4251.474562  84.546723  13997.0 -19188.0  4252.315146  1.523442e+12   \n",
       "\n",
       "          POWER   Status  \n",
       "0  1.977965e+07  healthy  \n",
       "1  1.304101e+07  healthy  \n",
       "2  2.177833e+07  healthy  \n",
       "3  5.622805e+06  healthy  \n",
       "4  9.041038e+06  healthy  "
      ]
     },
     "execution_count": 19,
     "metadata": {},
     "output_type": "execute_result"
    }
   ],
   "source": [
    "allpatients = pd.concat([df1,df2,df3,df4])\n",
    "allpatients.head()"
   ]
  },
  {
   "cell_type": "markdown",
   "metadata": {},
   "source": [
    "Features has diffrent rows, so they have to be normalized."
   ]
  },
  {
   "cell_type": "code",
   "execution_count": 20,
   "metadata": {},
   "outputs": [
    {
     "data": {
      "text/html": [
       "<div>\n",
       "<style scoped>\n",
       "    .dataframe tbody tr th:only-of-type {\n",
       "        vertical-align: middle;\n",
       "    }\n",
       "\n",
       "    .dataframe tbody tr th {\n",
       "        vertical-align: top;\n",
       "    }\n",
       "\n",
       "    .dataframe thead th {\n",
       "        text-align: right;\n",
       "    }\n",
       "</style>\n",
       "<table border=\"1\" class=\"dataframe\">\n",
       "  <thead>\n",
       "    <tr style=\"text-align: right;\">\n",
       "      <th></th>\n",
       "      <th>STD</th>\n",
       "      <th>MEAN</th>\n",
       "      <th>MAX</th>\n",
       "      <th>MIN</th>\n",
       "      <th>RMS</th>\n",
       "      <th>ENERGY</th>\n",
       "      <th>POWER</th>\n",
       "      <th>Status</th>\n",
       "    </tr>\n",
       "  </thead>\n",
       "  <tbody>\n",
       "    <tr>\n",
       "      <th>0</th>\n",
       "      <td>0.427009</td>\n",
       "      <td>0.166092</td>\n",
       "      <td>2.282855</td>\n",
       "      <td>-1.734309</td>\n",
       "      <td>0.411114</td>\n",
       "      <td>0.642207</td>\n",
       "      <td>0.251356</td>\n",
       "      <td>healthy</td>\n",
       "    </tr>\n",
       "    <tr>\n",
       "      <th>1</th>\n",
       "      <td>-0.252270</td>\n",
       "      <td>0.131723</td>\n",
       "      <td>1.098892</td>\n",
       "      <td>-1.754664</td>\n",
       "      <td>-0.270637</td>\n",
       "      <td>0.117862</td>\n",
       "      <td>-0.369856</td>\n",
       "      <td>healthy</td>\n",
       "    </tr>\n",
       "    <tr>\n",
       "      <th>2</th>\n",
       "      <td>0.605136</td>\n",
       "      <td>0.195303</td>\n",
       "      <td>0.951476</td>\n",
       "      <td>-0.812862</td>\n",
       "      <td>0.589916</td>\n",
       "      <td>-0.232209</td>\n",
       "      <td>0.435609</td>\n",
       "      <td>healthy</td>\n",
       "    </tr>\n",
       "    <tr>\n",
       "      <th>3</th>\n",
       "      <td>-1.259587</td>\n",
       "      <td>0.116143</td>\n",
       "      <td>-1.306491</td>\n",
       "      <td>0.683552</td>\n",
       "      <td>-1.281596</td>\n",
       "      <td>-0.859520</td>\n",
       "      <td>-1.053716</td>\n",
       "      <td>healthy</td>\n",
       "    </tr>\n",
       "    <tr>\n",
       "      <th>4</th>\n",
       "      <td>-0.743731</td>\n",
       "      <td>0.299006</td>\n",
       "      <td>-0.543822</td>\n",
       "      <td>-0.183720</td>\n",
       "      <td>-0.763404</td>\n",
       "      <td>-0.406085</td>\n",
       "      <td>-0.738600</td>\n",
       "      <td>healthy</td>\n",
       "    </tr>\n",
       "  </tbody>\n",
       "</table>\n",
       "</div>"
      ],
      "text/plain": [
       "        STD      MEAN       MAX       MIN       RMS    ENERGY     POWER  \\\n",
       "0  0.427009  0.166092  2.282855 -1.734309  0.411114  0.642207  0.251356   \n",
       "1 -0.252270  0.131723  1.098892 -1.754664 -0.270637  0.117862 -0.369856   \n",
       "2  0.605136  0.195303  0.951476 -0.812862  0.589916 -0.232209  0.435609   \n",
       "3 -1.259587  0.116143 -1.306491  0.683552 -1.281596 -0.859520 -1.053716   \n",
       "4 -0.743731  0.299006 -0.543822 -0.183720 -0.763404 -0.406085 -0.738600   \n",
       "\n",
       "    Status  \n",
       "0  healthy  \n",
       "1  healthy  \n",
       "2  healthy  \n",
       "3  healthy  \n",
       "4  healthy  "
      ]
     },
     "execution_count": 20,
     "metadata": {},
     "output_type": "execute_result"
    }
   ],
   "source": [
    "features = ['STD','MEAN','MAX','MIN','RMS','ENERGY','POWER']\n",
    "for i in features:\n",
    "    allpatients[i] = (allpatients[i] - np.mean(allpatients[i]))/np.std(allpatients[i])\n",
    "allpatients.head()"
   ]
  },
  {
   "cell_type": "markdown",
   "metadata": {},
   "source": [
    "# Detection alghoritm\n",
    "\n",
    "Logistic regression"
   ]
  },
  {
   "cell_type": "markdown",
   "metadata": {},
   "source": [
    "# Train test split"
   ]
  },
  {
   "cell_type": "code",
   "execution_count": null,
   "metadata": {},
   "outputs": [],
   "source": []
  },
  {
   "cell_type": "markdown",
   "metadata": {},
   "source": [
    "# Training and predicting"
   ]
  },
  {
   "cell_type": "code",
   "execution_count": 67,
   "metadata": {},
   "outputs": [],
   "source": [
    "from sklearn.linear_model import LogisticRegression"
   ]
  },
  {
   "cell_type": "code",
   "execution_count": null,
   "metadata": {},
   "outputs": [],
   "source": [
    "logModel = LogisiticRegression()\n",
    "logModel.fit(xTrain, yTrain)"
   ]
  }
 ],
 "metadata": {
  "kernelspec": {
   "display_name": "Python 3",
   "language": "python",
   "name": "python3"
  },
  "language_info": {
   "codemirror_mode": {
    "name": "ipython",
    "version": 3
   },
   "file_extension": ".py",
   "mimetype": "text/x-python",
   "name": "python",
   "nbconvert_exporter": "python",
   "pygments_lexer": "ipython3",
   "version": "3.7.0"
  }
 },
 "nbformat": 4,
 "nbformat_minor": 2
}
