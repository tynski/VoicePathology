{
 "cells": [
  {
   "cell_type": "code",
   "execution_count": 1,
   "metadata": {},
   "outputs": [],
   "source": [
    "import numpy as np\n",
    "import pandas as pd\n",
    "import matplotlib.pyplot as plt\n",
    "from sklearn.metrics import classification_report, confusion_matrix\n",
    "\n",
    "# This is a bit of magic to make matplotlib figures appear inline in the notebook\n",
    "# rather than in a new window.\n",
    "%matplotlib inline\n",
    "plt.rcParams['figure.figsize'] = (14.0, 6.0) # set default size of plots\n",
    "plt.rcParams['image.interpolation'] = 'nearest'\n",
    "plt.rcParams['image.cmap'] = 'gray'"
   ]
  },
  {
   "cell_type": "markdown",
   "metadata": {},
   "source": [
    "# Parameters Vector\n",
    "\n",
    "Load and normalization vector of parameters."
   ]
  },
  {
   "cell_type": "code",
   "execution_count": 2,
   "metadata": {},
   "outputs": [
    {
     "data": {
      "text/html": [
       "<div>\n",
       "<style scoped>\n",
       "    .dataframe tbody tr th:only-of-type {\n",
       "        vertical-align: middle;\n",
       "    }\n",
       "\n",
       "    .dataframe tbody tr th {\n",
       "        vertical-align: top;\n",
       "    }\n",
       "\n",
       "    .dataframe thead th {\n",
       "        text-align: right;\n",
       "    }\n",
       "</style>\n",
       "<table border=\"1\" class=\"dataframe\">\n",
       "  <thead>\n",
       "    <tr style=\"text-align: right;\">\n",
       "      <th></th>\n",
       "      <th>MFCC1</th>\n",
       "      <th>MFCC2</th>\n",
       "      <th>MFCC3</th>\n",
       "      <th>MCCC4</th>\n",
       "      <th>MFCC5</th>\n",
       "      <th>MFCC6</th>\n",
       "      <th>MFCC7</th>\n",
       "      <th>MFCC8</th>\n",
       "      <th>MFCC9</th>\n",
       "      <th>MFCC10</th>\n",
       "      <th>RMS</th>\n",
       "      <th>ZCR</th>\n",
       "      <th>F0</th>\n",
       "      <th>MAX</th>\n",
       "      <th>MIN</th>\n",
       "      <th>KURTOSIS</th>\n",
       "      <th>SKEWNESS</th>\n",
       "      <th>Status</th>\n",
       "    </tr>\n",
       "  </thead>\n",
       "  <tbody>\n",
       "    <tr>\n",
       "      <th>0</th>\n",
       "      <td>-303.015882</td>\n",
       "      <td>171.770014</td>\n",
       "      <td>23.962297</td>\n",
       "      <td>43.650769</td>\n",
       "      <td>9.547406</td>\n",
       "      <td>-55.057280</td>\n",
       "      <td>-21.297396</td>\n",
       "      <td>24.501631</td>\n",
       "      <td>-24.074705</td>\n",
       "      <td>-15.834192</td>\n",
       "      <td>0.149083</td>\n",
       "      <td>0.023166</td>\n",
       "      <td>259.811738</td>\n",
       "      <td>0.357885</td>\n",
       "      <td>-0.377139</td>\n",
       "      <td>-1.038502</td>\n",
       "      <td>-0.100370</td>\n",
       "      <td>pathology</td>\n",
       "    </tr>\n",
       "    <tr>\n",
       "      <th>1</th>\n",
       "      <td>-322.692875</td>\n",
       "      <td>156.532736</td>\n",
       "      <td>24.702311</td>\n",
       "      <td>52.098856</td>\n",
       "      <td>-14.031591</td>\n",
       "      <td>-25.690700</td>\n",
       "      <td>-11.094217</td>\n",
       "      <td>22.755757</td>\n",
       "      <td>-17.596149</td>\n",
       "      <td>5.974894</td>\n",
       "      <td>0.179201</td>\n",
       "      <td>0.003880</td>\n",
       "      <td>0.000000</td>\n",
       "      <td>0.053661</td>\n",
       "      <td>-0.348985</td>\n",
       "      <td>-0.808634</td>\n",
       "      <td>-0.214333</td>\n",
       "      <td>pathology</td>\n",
       "    </tr>\n",
       "    <tr>\n",
       "      <th>2</th>\n",
       "      <td>-307.322733</td>\n",
       "      <td>163.261093</td>\n",
       "      <td>10.991072</td>\n",
       "      <td>16.943577</td>\n",
       "      <td>1.593675</td>\n",
       "      <td>-27.612259</td>\n",
       "      <td>-4.458281</td>\n",
       "      <td>16.553246</td>\n",
       "      <td>-19.983558</td>\n",
       "      <td>14.423408</td>\n",
       "      <td>0.162946</td>\n",
       "      <td>0.025964</td>\n",
       "      <td>294.735951</td>\n",
       "      <td>0.372771</td>\n",
       "      <td>-0.266694</td>\n",
       "      <td>-1.139643</td>\n",
       "      <td>0.331242</td>\n",
       "      <td>pathology</td>\n",
       "    </tr>\n",
       "    <tr>\n",
       "      <th>3</th>\n",
       "      <td>-416.298423</td>\n",
       "      <td>173.463889</td>\n",
       "      <td>80.511257</td>\n",
       "      <td>17.148492</td>\n",
       "      <td>15.552671</td>\n",
       "      <td>2.502285</td>\n",
       "      <td>-8.669750</td>\n",
       "      <td>-13.164509</td>\n",
       "      <td>-0.365472</td>\n",
       "      <td>5.026875</td>\n",
       "      <td>0.140968</td>\n",
       "      <td>0.026229</td>\n",
       "      <td>293.190902</td>\n",
       "      <td>0.344217</td>\n",
       "      <td>-0.286615</td>\n",
       "      <td>-0.681276</td>\n",
       "      <td>0.162832</td>\n",
       "      <td>pathology</td>\n",
       "    </tr>\n",
       "    <tr>\n",
       "      <th>4</th>\n",
       "      <td>-476.890376</td>\n",
       "      <td>101.382304</td>\n",
       "      <td>-0.553796</td>\n",
       "      <td>2.361753</td>\n",
       "      <td>-5.619128</td>\n",
       "      <td>10.416791</td>\n",
       "      <td>-3.419598</td>\n",
       "      <td>13.961156</td>\n",
       "      <td>-10.402344</td>\n",
       "      <td>2.472402</td>\n",
       "      <td>0.020596</td>\n",
       "      <td>0.088291</td>\n",
       "      <td>133.974897</td>\n",
       "      <td>0.230742</td>\n",
       "      <td>-0.228238</td>\n",
       "      <td>13.034427</td>\n",
       "      <td>0.536848</td>\n",
       "      <td>pathology</td>\n",
       "    </tr>\n",
       "  </tbody>\n",
       "</table>\n",
       "</div>"
      ],
      "text/plain": [
       "        MFCC1       MFCC2      MFCC3      MCCC4      MFCC5      MFCC6  \\\n",
       "0 -303.015882  171.770014  23.962297  43.650769   9.547406 -55.057280   \n",
       "1 -322.692875  156.532736  24.702311  52.098856 -14.031591 -25.690700   \n",
       "2 -307.322733  163.261093  10.991072  16.943577   1.593675 -27.612259   \n",
       "3 -416.298423  173.463889  80.511257  17.148492  15.552671   2.502285   \n",
       "4 -476.890376  101.382304  -0.553796   2.361753  -5.619128  10.416791   \n",
       "\n",
       "       MFCC7      MFCC8      MFCC9     MFCC10       RMS       ZCR          F0  \\\n",
       "0 -21.297396  24.501631 -24.074705 -15.834192  0.149083  0.023166  259.811738   \n",
       "1 -11.094217  22.755757 -17.596149   5.974894  0.179201  0.003880    0.000000   \n",
       "2  -4.458281  16.553246 -19.983558  14.423408  0.162946  0.025964  294.735951   \n",
       "3  -8.669750 -13.164509  -0.365472   5.026875  0.140968  0.026229  293.190902   \n",
       "4  -3.419598  13.961156 -10.402344   2.472402  0.020596  0.088291  133.974897   \n",
       "\n",
       "        MAX       MIN   KURTOSIS  SKEWNESS     Status  \n",
       "0  0.357885 -0.377139  -1.038502 -0.100370  pathology  \n",
       "1  0.053661 -0.348985  -0.808634 -0.214333  pathology  \n",
       "2  0.372771 -0.266694  -1.139643  0.331242  pathology  \n",
       "3  0.344217 -0.286615  -0.681276  0.162832  pathology  \n",
       "4  0.230742 -0.228238  13.034427  0.536848  pathology  "
      ]
     },
     "execution_count": 2,
     "metadata": {},
     "output_type": "execute_result"
    }
   ],
   "source": [
    "# Loading csv file with parameters\n",
    "allpatients = pd.read_csv('Dataset/male_u_2.csv')\n",
    "allpatients.head()"
   ]
  },
  {
   "cell_type": "markdown",
   "metadata": {},
   "source": [
    "Features has diffrent rows, so they have to be normalized."
   ]
  },
  {
   "cell_type": "code",
   "execution_count": 3,
   "metadata": {},
   "outputs": [
    {
     "data": {
      "text/html": [
       "<div>\n",
       "<style scoped>\n",
       "    .dataframe tbody tr th:only-of-type {\n",
       "        vertical-align: middle;\n",
       "    }\n",
       "\n",
       "    .dataframe tbody tr th {\n",
       "        vertical-align: top;\n",
       "    }\n",
       "\n",
       "    .dataframe thead th {\n",
       "        text-align: right;\n",
       "    }\n",
       "</style>\n",
       "<table border=\"1\" class=\"dataframe\">\n",
       "  <thead>\n",
       "    <tr style=\"text-align: right;\">\n",
       "      <th></th>\n",
       "      <th>MFCC1</th>\n",
       "      <th>MFCC2</th>\n",
       "      <th>MFCC3</th>\n",
       "      <th>MCCC4</th>\n",
       "      <th>MFCC5</th>\n",
       "      <th>MFCC6</th>\n",
       "      <th>MFCC7</th>\n",
       "      <th>MFCC8</th>\n",
       "      <th>MFCC9</th>\n",
       "      <th>MFCC10</th>\n",
       "      <th>RMS</th>\n",
       "      <th>ZCR</th>\n",
       "      <th>F0</th>\n",
       "      <th>MAX</th>\n",
       "      <th>MIN</th>\n",
       "      <th>KURTOSIS</th>\n",
       "      <th>SKEWNESS</th>\n",
       "      <th>Status</th>\n",
       "    </tr>\n",
       "  </thead>\n",
       "  <tbody>\n",
       "    <tr>\n",
       "      <th>0</th>\n",
       "      <td>0.680580</td>\n",
       "      <td>0.445105</td>\n",
       "      <td>-1.743567</td>\n",
       "      <td>0.867082</td>\n",
       "      <td>1.244846</td>\n",
       "      <td>-3.085135</td>\n",
       "      <td>-0.938599</td>\n",
       "      <td>1.816346</td>\n",
       "      <td>-1.976556</td>\n",
       "      <td>-1.950056</td>\n",
       "      <td>0.048912</td>\n",
       "      <td>-0.054214</td>\n",
       "      <td>0.539082</td>\n",
       "      <td>0.139392</td>\n",
       "      <td>-0.414935</td>\n",
       "      <td>-0.459391</td>\n",
       "      <td>-0.309856</td>\n",
       "      <td>pathology</td>\n",
       "    </tr>\n",
       "    <tr>\n",
       "      <th>1</th>\n",
       "      <td>0.191078</td>\n",
       "      <td>-0.243123</td>\n",
       "      <td>-1.708246</td>\n",
       "      <td>1.365553</td>\n",
       "      <td>-0.850429</td>\n",
       "      <td>-1.040613</td>\n",
       "      <td>-0.110026</td>\n",
       "      <td>1.653252</td>\n",
       "      <td>-1.403103</td>\n",
       "      <td>0.353855</td>\n",
       "      <td>0.656823</td>\n",
       "      <td>-2.789304</td>\n",
       "      <td>-3.311711</td>\n",
       "      <td>-2.510742</td>\n",
       "      <td>-0.161577</td>\n",
       "      <td>-0.166768</td>\n",
       "      <td>-0.632097</td>\n",
       "      <td>pathology</td>\n",
       "    </tr>\n",
       "    <tr>\n",
       "      <th>2</th>\n",
       "      <td>0.573439</td>\n",
       "      <td>0.060779</td>\n",
       "      <td>-2.362692</td>\n",
       "      <td>-0.708751</td>\n",
       "      <td>0.538062</td>\n",
       "      <td>-1.174393</td>\n",
       "      <td>0.428861</td>\n",
       "      <td>1.073835</td>\n",
       "      <td>-1.614426</td>\n",
       "      <td>1.246355</td>\n",
       "      <td>0.328743</td>\n",
       "      <td>0.342526</td>\n",
       "      <td>1.056711</td>\n",
       "      <td>0.269059</td>\n",
       "      <td>0.578975</td>\n",
       "      <td>-0.588144</td>\n",
       "      <td>0.910576</td>\n",
       "      <td>pathology</td>\n",
       "    </tr>\n",
       "    <tr>\n",
       "      <th>3</th>\n",
       "      <td>-2.137537</td>\n",
       "      <td>0.521612</td>\n",
       "      <td>0.955551</td>\n",
       "      <td>-0.696660</td>\n",
       "      <td>1.778485</td>\n",
       "      <td>0.922204</td>\n",
       "      <td>0.086859</td>\n",
       "      <td>-1.702298</td>\n",
       "      <td>0.122078</td>\n",
       "      <td>0.253706</td>\n",
       "      <td>-0.114876</td>\n",
       "      <td>0.380078</td>\n",
       "      <td>1.033811</td>\n",
       "      <td>0.020324</td>\n",
       "      <td>0.399703</td>\n",
       "      <td>-0.004641</td>\n",
       "      <td>0.434380</td>\n",
       "      <td>pathology</td>\n",
       "    </tr>\n",
       "    <tr>\n",
       "      <th>4</th>\n",
       "      <td>-3.644877</td>\n",
       "      <td>-2.734121</td>\n",
       "      <td>-2.913736</td>\n",
       "      <td>-1.569137</td>\n",
       "      <td>-0.102881</td>\n",
       "      <td>1.473217</td>\n",
       "      <td>0.513210</td>\n",
       "      <td>0.831691</td>\n",
       "      <td>-0.766341</td>\n",
       "      <td>-0.016148</td>\n",
       "      <td>-2.544480</td>\n",
       "      <td>9.181434</td>\n",
       "      <td>-1.326005</td>\n",
       "      <td>-0.968166</td>\n",
       "      <td>0.925050</td>\n",
       "      <td>17.455507</td>\n",
       "      <td>1.491952</td>\n",
       "      <td>pathology</td>\n",
       "    </tr>\n",
       "  </tbody>\n",
       "</table>\n",
       "</div>"
      ],
      "text/plain": [
       "      MFCC1     MFCC2     MFCC3     MCCC4     MFCC5     MFCC6     MFCC7  \\\n",
       "0  0.680580  0.445105 -1.743567  0.867082  1.244846 -3.085135 -0.938599   \n",
       "1  0.191078 -0.243123 -1.708246  1.365553 -0.850429 -1.040613 -0.110026   \n",
       "2  0.573439  0.060779 -2.362692 -0.708751  0.538062 -1.174393  0.428861   \n",
       "3 -2.137537  0.521612  0.955551 -0.696660  1.778485  0.922204  0.086859   \n",
       "4 -3.644877 -2.734121 -2.913736 -1.569137 -0.102881  1.473217  0.513210   \n",
       "\n",
       "      MFCC8     MFCC9    MFCC10       RMS       ZCR        F0       MAX  \\\n",
       "0  1.816346 -1.976556 -1.950056  0.048912 -0.054214  0.539082  0.139392   \n",
       "1  1.653252 -1.403103  0.353855  0.656823 -2.789304 -3.311711 -2.510742   \n",
       "2  1.073835 -1.614426  1.246355  0.328743  0.342526  1.056711  0.269059   \n",
       "3 -1.702298  0.122078  0.253706 -0.114876  0.380078  1.033811  0.020324   \n",
       "4  0.831691 -0.766341 -0.016148 -2.544480  9.181434 -1.326005 -0.968166   \n",
       "\n",
       "        MIN   KURTOSIS  SKEWNESS     Status  \n",
       "0 -0.414935  -0.459391 -0.309856  pathology  \n",
       "1 -0.161577  -0.166768 -0.632097  pathology  \n",
       "2  0.578975  -0.588144  0.910576  pathology  \n",
       "3  0.399703  -0.004641  0.434380  pathology  \n",
       "4  0.925050  17.455507  1.491952  pathology  "
      ]
     },
     "execution_count": 3,
     "metadata": {},
     "output_type": "execute_result"
    }
   ],
   "source": [
    "features = allpatients.drop(labels='Status',axis=1).columns\n",
    "for i in features:\n",
    "    allpatients[i] = (allpatients[i] - np.mean(allpatients[i]))/np.std(allpatients[i])\n",
    "allpatients.head()"
   ]
  },
  {
   "cell_type": "markdown",
   "metadata": {},
   "source": [
    "# Dummy variables\n",
    "We'll need to convert categorical features (Status) to dummy variables, because our alghoritm can't understant what means 'healthy'."
   ]
  },
  {
   "cell_type": "code",
   "execution_count": 4,
   "metadata": {},
   "outputs": [],
   "source": [
    "status = pd.get_dummies(allpatients['Status'],drop_first=True)"
   ]
  },
  {
   "cell_type": "code",
   "execution_count": 5,
   "metadata": {},
   "outputs": [],
   "source": [
    "allpatients.drop(['Status'],axis=1,inplace=True)"
   ]
  },
  {
   "cell_type": "code",
   "execution_count": 6,
   "metadata": {},
   "outputs": [
    {
     "ename": "ValueError",
     "evalue": "Wrong number of items passed 0, placement implies 1",
     "output_type": "error",
     "traceback": [
      "\u001b[0;31m---------------------------------------------------------------------------\u001b[0m",
      "\u001b[0;31mKeyError\u001b[0m                                  Traceback (most recent call last)",
      "\u001b[0;32m~/miniconda3/lib/python3.7/site-packages/pandas/core/indexes/base.py\u001b[0m in \u001b[0;36mget_loc\u001b[0;34m(self, key, method, tolerance)\u001b[0m\n\u001b[1;32m   3077\u001b[0m             \u001b[0;32mtry\u001b[0m\u001b[0;34m:\u001b[0m\u001b[0;34m\u001b[0m\u001b[0;34m\u001b[0m\u001b[0m\n\u001b[0;32m-> 3078\u001b[0;31m                 \u001b[0;32mreturn\u001b[0m \u001b[0mself\u001b[0m\u001b[0;34m.\u001b[0m\u001b[0m_engine\u001b[0m\u001b[0;34m.\u001b[0m\u001b[0mget_loc\u001b[0m\u001b[0;34m(\u001b[0m\u001b[0mkey\u001b[0m\u001b[0;34m)\u001b[0m\u001b[0;34m\u001b[0m\u001b[0;34m\u001b[0m\u001b[0m\n\u001b[0m\u001b[1;32m   3079\u001b[0m             \u001b[0;32mexcept\u001b[0m \u001b[0mKeyError\u001b[0m\u001b[0;34m:\u001b[0m\u001b[0;34m\u001b[0m\u001b[0;34m\u001b[0m\u001b[0m\n",
      "\u001b[0;32mpandas/_libs/index.pyx\u001b[0m in \u001b[0;36mpandas._libs.index.IndexEngine.get_loc\u001b[0;34m()\u001b[0m\n",
      "\u001b[0;32mpandas/_libs/index.pyx\u001b[0m in \u001b[0;36mpandas._libs.index.IndexEngine.get_loc\u001b[0;34m()\u001b[0m\n",
      "\u001b[0;32mpandas/_libs/hashtable_class_helper.pxi\u001b[0m in \u001b[0;36mpandas._libs.hashtable.PyObjectHashTable.get_item\u001b[0;34m()\u001b[0m\n",
      "\u001b[0;32mpandas/_libs/hashtable_class_helper.pxi\u001b[0m in \u001b[0;36mpandas._libs.hashtable.PyObjectHashTable.get_item\u001b[0;34m()\u001b[0m\n",
      "\u001b[0;31mKeyError\u001b[0m: 'Pathology'",
      "\nDuring handling of the above exception, another exception occurred:\n",
      "\u001b[0;31mKeyError\u001b[0m                                  Traceback (most recent call last)",
      "\u001b[0;32m~/miniconda3/lib/python3.7/site-packages/pandas/core/internals.py\u001b[0m in \u001b[0;36mset\u001b[0;34m(self, item, value, check)\u001b[0m\n\u001b[1;32m   4242\u001b[0m         \u001b[0;32mtry\u001b[0m\u001b[0;34m:\u001b[0m\u001b[0;34m\u001b[0m\u001b[0;34m\u001b[0m\u001b[0m\n\u001b[0;32m-> 4243\u001b[0;31m             \u001b[0mloc\u001b[0m \u001b[0;34m=\u001b[0m \u001b[0mself\u001b[0m\u001b[0;34m.\u001b[0m\u001b[0mitems\u001b[0m\u001b[0;34m.\u001b[0m\u001b[0mget_loc\u001b[0m\u001b[0;34m(\u001b[0m\u001b[0mitem\u001b[0m\u001b[0;34m)\u001b[0m\u001b[0;34m\u001b[0m\u001b[0;34m\u001b[0m\u001b[0m\n\u001b[0m\u001b[1;32m   4244\u001b[0m         \u001b[0;32mexcept\u001b[0m \u001b[0mKeyError\u001b[0m\u001b[0;34m:\u001b[0m\u001b[0;34m\u001b[0m\u001b[0;34m\u001b[0m\u001b[0m\n",
      "\u001b[0;32m~/miniconda3/lib/python3.7/site-packages/pandas/core/indexes/base.py\u001b[0m in \u001b[0;36mget_loc\u001b[0;34m(self, key, method, tolerance)\u001b[0m\n\u001b[1;32m   3079\u001b[0m             \u001b[0;32mexcept\u001b[0m \u001b[0mKeyError\u001b[0m\u001b[0;34m:\u001b[0m\u001b[0;34m\u001b[0m\u001b[0;34m\u001b[0m\u001b[0m\n\u001b[0;32m-> 3080\u001b[0;31m                 \u001b[0;32mreturn\u001b[0m \u001b[0mself\u001b[0m\u001b[0;34m.\u001b[0m\u001b[0m_engine\u001b[0m\u001b[0;34m.\u001b[0m\u001b[0mget_loc\u001b[0m\u001b[0;34m(\u001b[0m\u001b[0mself\u001b[0m\u001b[0;34m.\u001b[0m\u001b[0m_maybe_cast_indexer\u001b[0m\u001b[0;34m(\u001b[0m\u001b[0mkey\u001b[0m\u001b[0;34m)\u001b[0m\u001b[0;34m)\u001b[0m\u001b[0;34m\u001b[0m\u001b[0;34m\u001b[0m\u001b[0m\n\u001b[0m\u001b[1;32m   3081\u001b[0m \u001b[0;34m\u001b[0m\u001b[0m\n",
      "\u001b[0;32mpandas/_libs/index.pyx\u001b[0m in \u001b[0;36mpandas._libs.index.IndexEngine.get_loc\u001b[0;34m()\u001b[0m\n",
      "\u001b[0;32mpandas/_libs/index.pyx\u001b[0m in \u001b[0;36mpandas._libs.index.IndexEngine.get_loc\u001b[0;34m()\u001b[0m\n",
      "\u001b[0;32mpandas/_libs/hashtable_class_helper.pxi\u001b[0m in \u001b[0;36mpandas._libs.hashtable.PyObjectHashTable.get_item\u001b[0;34m()\u001b[0m\n",
      "\u001b[0;32mpandas/_libs/hashtable_class_helper.pxi\u001b[0m in \u001b[0;36mpandas._libs.hashtable.PyObjectHashTable.get_item\u001b[0;34m()\u001b[0m\n",
      "\u001b[0;31mKeyError\u001b[0m: 'Pathology'",
      "\nDuring handling of the above exception, another exception occurred:\n",
      "\u001b[0;31mValueError\u001b[0m                                Traceback (most recent call last)",
      "\u001b[0;32m<ipython-input-6-85ffd66ef563>\u001b[0m in \u001b[0;36m<module>\u001b[0;34m()\u001b[0m\n\u001b[0;32m----> 1\u001b[0;31m \u001b[0mallpatients\u001b[0m\u001b[0;34m[\u001b[0m\u001b[0;34m'Pathology'\u001b[0m\u001b[0;34m]\u001b[0m \u001b[0;34m=\u001b[0m \u001b[0mstatus\u001b[0m\u001b[0;34m\u001b[0m\u001b[0;34m\u001b[0m\u001b[0m\n\u001b[0m\u001b[1;32m      2\u001b[0m \u001b[0mallpatients\u001b[0m\u001b[0;34m.\u001b[0m\u001b[0mhead\u001b[0m\u001b[0;34m(\u001b[0m\u001b[0;34m)\u001b[0m\u001b[0;34m\u001b[0m\u001b[0;34m\u001b[0m\u001b[0m\n",
      "\u001b[0;32m~/miniconda3/lib/python3.7/site-packages/pandas/core/frame.py\u001b[0m in \u001b[0;36m__setitem__\u001b[0;34m(self, key, value)\u001b[0m\n\u001b[1;32m   3117\u001b[0m         \u001b[0;32melse\u001b[0m\u001b[0;34m:\u001b[0m\u001b[0;34m\u001b[0m\u001b[0;34m\u001b[0m\u001b[0m\n\u001b[1;32m   3118\u001b[0m             \u001b[0;31m# set column\u001b[0m\u001b[0;34m\u001b[0m\u001b[0;34m\u001b[0m\u001b[0;34m\u001b[0m\u001b[0m\n\u001b[0;32m-> 3119\u001b[0;31m             \u001b[0mself\u001b[0m\u001b[0;34m.\u001b[0m\u001b[0m_set_item\u001b[0m\u001b[0;34m(\u001b[0m\u001b[0mkey\u001b[0m\u001b[0;34m,\u001b[0m \u001b[0mvalue\u001b[0m\u001b[0;34m)\u001b[0m\u001b[0;34m\u001b[0m\u001b[0;34m\u001b[0m\u001b[0m\n\u001b[0m\u001b[1;32m   3120\u001b[0m \u001b[0;34m\u001b[0m\u001b[0m\n\u001b[1;32m   3121\u001b[0m     \u001b[0;32mdef\u001b[0m \u001b[0m_setitem_slice\u001b[0m\u001b[0;34m(\u001b[0m\u001b[0mself\u001b[0m\u001b[0;34m,\u001b[0m \u001b[0mkey\u001b[0m\u001b[0;34m,\u001b[0m \u001b[0mvalue\u001b[0m\u001b[0;34m)\u001b[0m\u001b[0;34m:\u001b[0m\u001b[0;34m\u001b[0m\u001b[0;34m\u001b[0m\u001b[0m\n",
      "\u001b[0;32m~/miniconda3/lib/python3.7/site-packages/pandas/core/frame.py\u001b[0m in \u001b[0;36m_set_item\u001b[0;34m(self, key, value)\u001b[0m\n\u001b[1;32m   3193\u001b[0m         \u001b[0mself\u001b[0m\u001b[0;34m.\u001b[0m\u001b[0m_ensure_valid_index\u001b[0m\u001b[0;34m(\u001b[0m\u001b[0mvalue\u001b[0m\u001b[0;34m)\u001b[0m\u001b[0;34m\u001b[0m\u001b[0;34m\u001b[0m\u001b[0m\n\u001b[1;32m   3194\u001b[0m         \u001b[0mvalue\u001b[0m \u001b[0;34m=\u001b[0m \u001b[0mself\u001b[0m\u001b[0;34m.\u001b[0m\u001b[0m_sanitize_column\u001b[0m\u001b[0;34m(\u001b[0m\u001b[0mkey\u001b[0m\u001b[0;34m,\u001b[0m \u001b[0mvalue\u001b[0m\u001b[0;34m)\u001b[0m\u001b[0;34m\u001b[0m\u001b[0;34m\u001b[0m\u001b[0m\n\u001b[0;32m-> 3195\u001b[0;31m         \u001b[0mNDFrame\u001b[0m\u001b[0;34m.\u001b[0m\u001b[0m_set_item\u001b[0m\u001b[0;34m(\u001b[0m\u001b[0mself\u001b[0m\u001b[0;34m,\u001b[0m \u001b[0mkey\u001b[0m\u001b[0;34m,\u001b[0m \u001b[0mvalue\u001b[0m\u001b[0;34m)\u001b[0m\u001b[0;34m\u001b[0m\u001b[0;34m\u001b[0m\u001b[0m\n\u001b[0m\u001b[1;32m   3196\u001b[0m \u001b[0;34m\u001b[0m\u001b[0m\n\u001b[1;32m   3197\u001b[0m         \u001b[0;31m# check if we are modifying a copy\u001b[0m\u001b[0;34m\u001b[0m\u001b[0;34m\u001b[0m\u001b[0;34m\u001b[0m\u001b[0m\n",
      "\u001b[0;32m~/miniconda3/lib/python3.7/site-packages/pandas/core/generic.py\u001b[0m in \u001b[0;36m_set_item\u001b[0;34m(self, key, value)\u001b[0m\n\u001b[1;32m   2598\u001b[0m \u001b[0;34m\u001b[0m\u001b[0m\n\u001b[1;32m   2599\u001b[0m     \u001b[0;32mdef\u001b[0m \u001b[0m_set_item\u001b[0m\u001b[0;34m(\u001b[0m\u001b[0mself\u001b[0m\u001b[0;34m,\u001b[0m \u001b[0mkey\u001b[0m\u001b[0;34m,\u001b[0m \u001b[0mvalue\u001b[0m\u001b[0;34m)\u001b[0m\u001b[0;34m:\u001b[0m\u001b[0;34m\u001b[0m\u001b[0;34m\u001b[0m\u001b[0m\n\u001b[0;32m-> 2600\u001b[0;31m         \u001b[0mself\u001b[0m\u001b[0;34m.\u001b[0m\u001b[0m_data\u001b[0m\u001b[0;34m.\u001b[0m\u001b[0mset\u001b[0m\u001b[0;34m(\u001b[0m\u001b[0mkey\u001b[0m\u001b[0;34m,\u001b[0m \u001b[0mvalue\u001b[0m\u001b[0;34m)\u001b[0m\u001b[0;34m\u001b[0m\u001b[0;34m\u001b[0m\u001b[0m\n\u001b[0m\u001b[1;32m   2601\u001b[0m         \u001b[0mself\u001b[0m\u001b[0;34m.\u001b[0m\u001b[0m_clear_item_cache\u001b[0m\u001b[0;34m(\u001b[0m\u001b[0;34m)\u001b[0m\u001b[0;34m\u001b[0m\u001b[0;34m\u001b[0m\u001b[0m\n\u001b[1;32m   2602\u001b[0m \u001b[0;34m\u001b[0m\u001b[0m\n",
      "\u001b[0;32m~/miniconda3/lib/python3.7/site-packages/pandas/core/internals.py\u001b[0m in \u001b[0;36mset\u001b[0;34m(self, item, value, check)\u001b[0m\n\u001b[1;32m   4244\u001b[0m         \u001b[0;32mexcept\u001b[0m \u001b[0mKeyError\u001b[0m\u001b[0;34m:\u001b[0m\u001b[0;34m\u001b[0m\u001b[0;34m\u001b[0m\u001b[0m\n\u001b[1;32m   4245\u001b[0m             \u001b[0;31m# This item wasn't present, just insert at end\u001b[0m\u001b[0;34m\u001b[0m\u001b[0;34m\u001b[0m\u001b[0;34m\u001b[0m\u001b[0m\n\u001b[0;32m-> 4246\u001b[0;31m             \u001b[0mself\u001b[0m\u001b[0;34m.\u001b[0m\u001b[0minsert\u001b[0m\u001b[0;34m(\u001b[0m\u001b[0mlen\u001b[0m\u001b[0;34m(\u001b[0m\u001b[0mself\u001b[0m\u001b[0;34m.\u001b[0m\u001b[0mitems\u001b[0m\u001b[0;34m)\u001b[0m\u001b[0;34m,\u001b[0m \u001b[0mitem\u001b[0m\u001b[0;34m,\u001b[0m \u001b[0mvalue\u001b[0m\u001b[0;34m)\u001b[0m\u001b[0;34m\u001b[0m\u001b[0;34m\u001b[0m\u001b[0m\n\u001b[0m\u001b[1;32m   4247\u001b[0m             \u001b[0;32mreturn\u001b[0m\u001b[0;34m\u001b[0m\u001b[0;34m\u001b[0m\u001b[0m\n\u001b[1;32m   4248\u001b[0m \u001b[0;34m\u001b[0m\u001b[0m\n",
      "\u001b[0;32m~/miniconda3/lib/python3.7/site-packages/pandas/core/internals.py\u001b[0m in \u001b[0;36minsert\u001b[0;34m(self, loc, item, value, allow_duplicates)\u001b[0m\n\u001b[1;32m   4345\u001b[0m \u001b[0;34m\u001b[0m\u001b[0m\n\u001b[1;32m   4346\u001b[0m         block = make_block(values=value, ndim=self.ndim,\n\u001b[0;32m-> 4347\u001b[0;31m                            placement=slice(loc, loc + 1))\n\u001b[0m\u001b[1;32m   4348\u001b[0m \u001b[0;34m\u001b[0m\u001b[0m\n\u001b[1;32m   4349\u001b[0m         \u001b[0;32mfor\u001b[0m \u001b[0mblkno\u001b[0m\u001b[0;34m,\u001b[0m \u001b[0mcount\u001b[0m \u001b[0;32min\u001b[0m \u001b[0m_fast_count_smallints\u001b[0m\u001b[0;34m(\u001b[0m\u001b[0mself\u001b[0m\u001b[0;34m.\u001b[0m\u001b[0m_blknos\u001b[0m\u001b[0;34m[\u001b[0m\u001b[0mloc\u001b[0m\u001b[0;34m:\u001b[0m\u001b[0;34m]\u001b[0m\u001b[0;34m)\u001b[0m\u001b[0;34m:\u001b[0m\u001b[0;34m\u001b[0m\u001b[0;34m\u001b[0m\u001b[0m\n",
      "\u001b[0;32m~/miniconda3/lib/python3.7/site-packages/pandas/core/internals.py\u001b[0m in \u001b[0;36mmake_block\u001b[0;34m(values, placement, klass, ndim, dtype, fastpath)\u001b[0m\n\u001b[1;32m   3203\u001b[0m                      placement=placement, dtype=dtype)\n\u001b[1;32m   3204\u001b[0m \u001b[0;34m\u001b[0m\u001b[0m\n\u001b[0;32m-> 3205\u001b[0;31m     \u001b[0;32mreturn\u001b[0m \u001b[0mklass\u001b[0m\u001b[0;34m(\u001b[0m\u001b[0mvalues\u001b[0m\u001b[0;34m,\u001b[0m \u001b[0mndim\u001b[0m\u001b[0;34m=\u001b[0m\u001b[0mndim\u001b[0m\u001b[0;34m,\u001b[0m \u001b[0mplacement\u001b[0m\u001b[0;34m=\u001b[0m\u001b[0mplacement\u001b[0m\u001b[0;34m)\u001b[0m\u001b[0;34m\u001b[0m\u001b[0;34m\u001b[0m\u001b[0m\n\u001b[0m\u001b[1;32m   3206\u001b[0m \u001b[0;34m\u001b[0m\u001b[0m\n\u001b[1;32m   3207\u001b[0m \u001b[0;31m# TODO: flexible with index=None and/or items=None\u001b[0m\u001b[0;34m\u001b[0m\u001b[0;34m\u001b[0m\u001b[0;34m\u001b[0m\u001b[0m\n",
      "\u001b[0;32m~/miniconda3/lib/python3.7/site-packages/pandas/core/internals.py\u001b[0m in \u001b[0;36m__init__\u001b[0;34m(self, values, placement, ndim)\u001b[0m\n\u001b[1;32m    123\u001b[0m             raise ValueError(\n\u001b[1;32m    124\u001b[0m                 \u001b[0;34m'Wrong number of items passed {val}, placement implies '\u001b[0m\u001b[0;34m\u001b[0m\u001b[0;34m\u001b[0m\u001b[0m\n\u001b[0;32m--> 125\u001b[0;31m                 '{mgr}'.format(val=len(self.values), mgr=len(self.mgr_locs)))\n\u001b[0m\u001b[1;32m    126\u001b[0m \u001b[0;34m\u001b[0m\u001b[0m\n\u001b[1;32m    127\u001b[0m     \u001b[0;32mdef\u001b[0m \u001b[0m_check_ndim\u001b[0m\u001b[0;34m(\u001b[0m\u001b[0mself\u001b[0m\u001b[0;34m,\u001b[0m \u001b[0mvalues\u001b[0m\u001b[0;34m,\u001b[0m \u001b[0mndim\u001b[0m\u001b[0;34m)\u001b[0m\u001b[0;34m:\u001b[0m\u001b[0;34m\u001b[0m\u001b[0;34m\u001b[0m\u001b[0m\n",
      "\u001b[0;31mValueError\u001b[0m: Wrong number of items passed 0, placement implies 1"
     ]
    }
   ],
   "source": [
    "allpatients['Pathology'] = status\n",
    "allpatients.head()"
   ]
  },
  {
   "cell_type": "code",
   "execution_count": null,
   "metadata": {},
   "outputs": [],
   "source": []
  },
  {
   "cell_type": "markdown",
   "metadata": {},
   "source": [
    "# Train test split\n",
    "Dataset is splitted into train set 75% and test set 25%."
   ]
  },
  {
   "cell_type": "code",
   "execution_count": null,
   "metadata": {},
   "outputs": [],
   "source": [
    "from sklearn.model_selection import train_test_split"
   ]
  },
  {
   "cell_type": "code",
   "execution_count": null,
   "metadata": {},
   "outputs": [],
   "source": [
    "X_train, X_test, y_train, y_test = train_test_split(allpatients.drop(['Pathology'], axis=1), \n",
    "                                                    allpatients['Pathology'], \n",
    "                                                    test_size=0.25, \n",
    "                                                    random_state=42)"
   ]
  },
  {
   "cell_type": "markdown",
   "metadata": {},
   "source": [
    "### K-fold validation\n",
    "In order to find best hiper-parameters k-fold validation is used, due to low number of train examples"
   ]
  },
  {
   "cell_type": "code",
   "execution_count": null,
   "metadata": {},
   "outputs": [],
   "source": [
    "num_folds = 5\n",
    "\n",
    "X_train_folds = []\n",
    "y_train_folds = []\n",
    "\n",
    "X_train_folds = np.array_split(X_train, num_folds)\n",
    "y_train_folds = np.array_split(y_train, num_folds)"
   ]
  },
  {
   "cell_type": "markdown",
   "metadata": {},
   "source": [
    "# Logistic Regression Algorithm"
   ]
  },
  {
   "cell_type": "code",
   "execution_count": null,
   "metadata": {},
   "outputs": [],
   "source": [
    "from sklearn.linear_model import LogisticRegression"
   ]
  },
  {
   "cell_type": "code",
   "execution_count": null,
   "metadata": {},
   "outputs": [],
   "source": [
    "accuracies = {}\n",
    "C = [1e-2, 4e-2, 8e-2, 1e-1, 2e-1, 4e-1, 6e-1, 8e-1, 1, 1.5, 2]\n",
    "\n",
    "for c in C:\n",
    "    for i in range(num_folds):\n",
    "        logModel = LogisticRegression(penalty='l1', C=c, solver='liblinear')\n",
    "        \n",
    "        train_set = np.concatenate(X_train_folds[:i]+X_train_folds[i+1:])\n",
    "        labels_set = np.concatenate(y_train_folds[:i]+y_train_folds[i+1:])\n",
    "        \n",
    "        logModel.fit(train_set, labels_set) \n",
    "        \n",
    "        y_val_pred = logModel.predict(X_train_folds[i])\n",
    "        val_acc = np.mean(y_val_pred == y_train_folds[i])\n",
    "        \n",
    "        if c in accuracies:\n",
    "            accuracies[c].extend([val_acc])\n",
    "        else:\n",
    "            accuracies[c] = [val_acc]"
   ]
  },
  {
   "cell_type": "code",
   "execution_count": null,
   "metadata": {},
   "outputs": [],
   "source": [
    "# plot the raw observations\n",
    "\n",
    "for c in C:\n",
    "    acc = accuracies[c]\n",
    "    plt.scatter([c] * len(acc), acc)\n",
    "\n",
    "# plot the trend line with error bars that correspond to standard deviation\n",
    "accuracies_mean = np.array([np.mean(v) for k,v in sorted(accuracies.items())])\n",
    "accuracies_std = np.array([np.std(v) for k,v in sorted(accuracies.items())])\n",
    "plt.errorbar(C, accuracies_mean, yerr=accuracies_std)\n",
    "plt.xlabel('Regularyzacja', fontsize=14)\n",
    "plt.ylabel('Dokładność zbioru walidacyjnego', fontsize=14)\n",
    "plt.xticks(fontsize=14)\n",
    "plt.yticks(fontsize=14)\n",
    "plt.show()"
   ]
  },
  {
   "cell_type": "code",
   "execution_count": null,
   "metadata": {},
   "outputs": [],
   "source": [
    "# Based on the cross-validation results above  I picked optimal C.\n",
    "# I retrain the classifier using all the training data, and test it on the test\n",
    "# data.\n",
    "c = 0.04\n",
    "log_model = LogisticRegression(penalty='l1', C=c, solver='liblinear')\n",
    "log_model.fit(X_train, y_train)\n",
    "prediction = log_model.predict(X_test)"
   ]
  },
  {
   "cell_type": "markdown",
   "metadata": {},
   "source": [
    "# Evaluation\n",
    "Check precission, recall, f1-score using classification report"
   ]
  },
  {
   "cell_type": "code",
   "execution_count": null,
   "metadata": {},
   "outputs": [],
   "source": [
    "from sklearn.metrics import classification_report, confusion_matrix"
   ]
  },
  {
   "cell_type": "code",
   "execution_count": null,
   "metadata": {
    "scrolled": true
   },
   "outputs": [],
   "source": [
    "print(classification_report(y_test,prediction))"
   ]
  },
  {
   "cell_type": "code",
   "execution_count": null,
   "metadata": {},
   "outputs": [],
   "source": [
    "print(confusion_matrix(y_test,prediction))"
   ]
  },
  {
   "cell_type": "markdown",
   "metadata": {},
   "source": [
    "# Random Forest Algorithm"
   ]
  },
  {
   "cell_type": "code",
   "execution_count": null,
   "metadata": {},
   "outputs": [],
   "source": [
    "from sklearn.ensemble import RandomForestClassifier"
   ]
  },
  {
   "cell_type": "code",
   "execution_count": null,
   "metadata": {},
   "outputs": [],
   "source": [
    "accuracies = {}\n",
    "n_estimators = [10, 50, 100, 120, 140, 160, 180, 200, 250, 300]\n",
    "\n",
    "for n in n_estimators:\n",
    "    for i in range(num_folds):\n",
    "        rf_model = RandomForestClassifier(n_estimators=n)\n",
    "        \n",
    "        train_set = np.concatenate(X_train_folds[:i]+X_train_folds[i+1:])\n",
    "        labels_set = np.concatenate(y_train_folds[:i]+y_train_folds[i+1:])\n",
    "        \n",
    "        rf_model.fit(train_set, labels_set) \n",
    "        \n",
    "        y_val_pred = rf_model.predict(X_train_folds[i])\n",
    "        val_acc = np.mean(y_val_pred == y_train_folds[i])\n",
    "        \n",
    "        if n in accuracies:\n",
    "            accuracies[n].extend([val_acc])\n",
    "        else:\n",
    "            accuracies[n] = [val_acc]"
   ]
  },
  {
   "cell_type": "code",
   "execution_count": null,
   "metadata": {},
   "outputs": [],
   "source": [
    "# plot the raw observations\n",
    "\n",
    "for n in n_estimators:\n",
    "    acc = accuracies[n]\n",
    "    plt.scatter([n] * len(acc), acc)\n",
    "\n",
    "# plot the trend line with error bars that correspond to standard deviation\n",
    "accuracies_mean = np.array([np.mean(v) for k,v in sorted(accuracies.items())])\n",
    "accuracies_std = np.array([np.std(v) for k,v in sorted(accuracies.items())])\n",
    "plt.errorbar(n_estimators, accuracies_mean, yerr=accuracies_std)\n",
    "plt.xlabel('liczba drzew', fontsize=14)\n",
    "plt.ylabel('dokładność zbioru walidacyjnego', fontsize=14)\n",
    "plt.xticks(fontsize=14)\n",
    "plt.yticks(fontsize=14)\n",
    "plt.show()"
   ]
  },
  {
   "cell_type": "code",
   "execution_count": null,
   "metadata": {},
   "outputs": [],
   "source": [
    "# Based on the cross-validation results above  I picked optimal number of estimators.\n",
    "# I retrain the classifier using all the training data, and test it on the test\n",
    "# data.\n",
    "best_n = 100\n",
    "rf_model = RandomForestClassifier(n_estimators=best_n)\n",
    "rf_model.fit(X_train, y_train)\n",
    "prediction = rf_model.predict(X_test)"
   ]
  },
  {
   "cell_type": "markdown",
   "metadata": {},
   "source": [
    "# Evaluation\n",
    "Check precission, recall, f1-score using classification report"
   ]
  },
  {
   "cell_type": "code",
   "execution_count": null,
   "metadata": {
    "scrolled": true
   },
   "outputs": [],
   "source": [
    "print(classification_report(y_test,prediction))"
   ]
  },
  {
   "cell_type": "code",
   "execution_count": null,
   "metadata": {},
   "outputs": [],
   "source": [
    "print(confusion_matrix(y_test,prediction))"
   ]
  },
  {
   "cell_type": "code",
   "execution_count": null,
   "metadata": {},
   "outputs": [],
   "source": [
    "feature_importance = rf_model.feature_importances_"
   ]
  },
  {
   "cell_type": "code",
   "execution_count": null,
   "metadata": {},
   "outputs": [],
   "source": [
    "fig, ax = plt.subplots()\n",
    "fig.set_size_inches(15.5, 8)\n",
    "plt.grid(b=False)\n",
    "ind = np.arange(len(feature_importance))  # the x locations for the groups\n",
    "width = 0.4  # the width of the bars\n",
    "ax.bar(ind, feature_importance, width, color='IndianRed')\n",
    "ax.set_ylabel('Waga parametru', fontsize=12)\n",
    "ax.set_xticks(ind)\n",
    "ax.set_xticklabels(['MFCC1', 'MFCC2', 'MFCC3', 'MCCC4', 'MFCC5', 'MFCC6', 'MFCC7', 'MFCC8',\n",
    "       'MFCC9', 'MFCC10', 'RMS', 'ZCR', 'F0', 'Maks', 'Min', 'Kurt',\n",
    "       'Skos'], fontsize=12)"
   ]
  }
 ],
 "metadata": {
  "kernelspec": {
   "display_name": "Python 3",
   "language": "python",
   "name": "python3"
  },
  "language_info": {
   "codemirror_mode": {
    "name": "ipython",
    "version": 3
   },
   "file_extension": ".py",
   "mimetype": "text/x-python",
   "name": "python",
   "nbconvert_exporter": "python",
   "pygments_lexer": "ipython3",
   "version": "3.7.1"
  }
 },
 "nbformat": 4,
 "nbformat_minor": 2
}
