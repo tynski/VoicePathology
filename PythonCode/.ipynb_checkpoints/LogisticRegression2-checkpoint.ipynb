{
 "cells": [
  {
   "cell_type": "code",
   "execution_count": 41,
   "metadata": {},
   "outputs": [],
   "source": [
    "import numpy as np\n",
    "import pandas as pd\n",
    "import matplotlib.pyplot as plt"
   ]
  },
  {
   "cell_type": "markdown",
   "metadata": {},
   "source": [
    "# Parameters Vector\n",
    "\n",
    "Load, merge, normalization vector of parameters."
   ]
  },
  {
   "cell_type": "code",
   "execution_count": 2,
   "metadata": {
    "scrolled": true
   },
   "outputs": [],
   "source": [
    "# Loading each csv file\n",
    "df1 = pd.read_csv('fh2.csv')\n",
    "df2 = pd.read_csv('fp2.csv')"
   ]
  },
  {
   "cell_type": "markdown",
   "metadata": {},
   "source": [
    "Concatenating all four DataFrames into one."
   ]
  },
  {
   "cell_type": "code",
   "execution_count": 3,
   "metadata": {},
   "outputs": [
    {
     "data": {
      "text/html": [
       "<div>\n",
       "<style scoped>\n",
       "    .dataframe tbody tr th:only-of-type {\n",
       "        vertical-align: middle;\n",
       "    }\n",
       "\n",
       "    .dataframe tbody tr th {\n",
       "        vertical-align: top;\n",
       "    }\n",
       "\n",
       "    .dataframe thead th {\n",
       "        text-align: right;\n",
       "    }\n",
       "</style>\n",
       "<table border=\"1\" class=\"dataframe\">\n",
       "  <thead>\n",
       "    <tr style=\"text-align: right;\">\n",
       "      <th></th>\n",
       "      <th>MFCC1</th>\n",
       "      <th>MFCC2</th>\n",
       "      <th>MFCC3</th>\n",
       "      <th>MCCC4</th>\n",
       "      <th>MFCC5</th>\n",
       "      <th>MFCC6</th>\n",
       "      <th>MFCC7</th>\n",
       "      <th>MFCC8</th>\n",
       "      <th>MFCC9</th>\n",
       "      <th>MFCC10</th>\n",
       "      <th>RMS</th>\n",
       "      <th>ZCR</th>\n",
       "      <th>F0</th>\n",
       "      <th>MAX</th>\n",
       "      <th>MIN</th>\n",
       "      <th>KURTOSIS</th>\n",
       "      <th>SKEWNESS</th>\n",
       "      <th>Status</th>\n",
       "    </tr>\n",
       "  </thead>\n",
       "  <tbody>\n",
       "    <tr>\n",
       "      <th>0</th>\n",
       "      <td>-289.653488</td>\n",
       "      <td>104.124024</td>\n",
       "      <td>14.434276</td>\n",
       "      <td>-33.619576</td>\n",
       "      <td>-13.436933</td>\n",
       "      <td>14.829756</td>\n",
       "      <td>15.144119</td>\n",
       "      <td>11.379615</td>\n",
       "      <td>-22.179020</td>\n",
       "      <td>30.988884</td>\n",
       "      <td>0.100807</td>\n",
       "      <td>0.023024</td>\n",
       "      <td>219.762311</td>\n",
       "      <td>0.204873</td>\n",
       "      <td>-0.270142</td>\n",
       "      <td>-1.150720</td>\n",
       "      <td>-0.297840</td>\n",
       "      <td>zdrowy</td>\n",
       "    </tr>\n",
       "    <tr>\n",
       "      <th>1</th>\n",
       "      <td>-163.377016</td>\n",
       "      <td>98.576437</td>\n",
       "      <td>-55.135265</td>\n",
       "      <td>-8.253623</td>\n",
       "      <td>-41.790107</td>\n",
       "      <td>-7.342310</td>\n",
       "      <td>0.837488</td>\n",
       "      <td>-18.994352</td>\n",
       "      <td>-1.040815</td>\n",
       "      <td>12.528805</td>\n",
       "      <td>0.265944</td>\n",
       "      <td>0.066445</td>\n",
       "      <td>746.531394</td>\n",
       "      <td>0.599240</td>\n",
       "      <td>-0.686358</td>\n",
       "      <td>-0.455155</td>\n",
       "      <td>-0.192974</td>\n",
       "      <td>zdrowy</td>\n",
       "    </tr>\n",
       "    <tr>\n",
       "      <th>2</th>\n",
       "      <td>-210.965889</td>\n",
       "      <td>125.565730</td>\n",
       "      <td>-19.524249</td>\n",
       "      <td>-31.481262</td>\n",
       "      <td>-4.936930</td>\n",
       "      <td>-8.431715</td>\n",
       "      <td>14.884468</td>\n",
       "      <td>11.076121</td>\n",
       "      <td>-27.797465</td>\n",
       "      <td>17.576680</td>\n",
       "      <td>0.099667</td>\n",
       "      <td>0.041797</td>\n",
       "      <td>185.845277</td>\n",
       "      <td>0.377677</td>\n",
       "      <td>-0.407918</td>\n",
       "      <td>0.239410</td>\n",
       "      <td>0.580150</td>\n",
       "      <td>zdrowy</td>\n",
       "    </tr>\n",
       "    <tr>\n",
       "      <th>3</th>\n",
       "      <td>-202.761642</td>\n",
       "      <td>127.187211</td>\n",
       "      <td>-28.789877</td>\n",
       "      <td>-40.230883</td>\n",
       "      <td>-29.762514</td>\n",
       "      <td>-1.732737</td>\n",
       "      <td>-18.425592</td>\n",
       "      <td>4.598687</td>\n",
       "      <td>-16.778892</td>\n",
       "      <td>-7.016705</td>\n",
       "      <td>0.223740</td>\n",
       "      <td>0.050293</td>\n",
       "      <td>662.900175</td>\n",
       "      <td>0.575655</td>\n",
       "      <td>-0.560874</td>\n",
       "      <td>-0.244262</td>\n",
       "      <td>-0.015549</td>\n",
       "      <td>zdrowy</td>\n",
       "    </tr>\n",
       "    <tr>\n",
       "      <th>4</th>\n",
       "      <td>-151.496408</td>\n",
       "      <td>127.122116</td>\n",
       "      <td>-41.809578</td>\n",
       "      <td>-35.744106</td>\n",
       "      <td>-30.949673</td>\n",
       "      <td>-13.693395</td>\n",
       "      <td>3.776185</td>\n",
       "      <td>17.975296</td>\n",
       "      <td>-28.473324</td>\n",
       "      <td>10.027781</td>\n",
       "      <td>0.289882</td>\n",
       "      <td>0.064160</td>\n",
       "      <td>790.051471</td>\n",
       "      <td>0.883212</td>\n",
       "      <td>-0.849951</td>\n",
       "      <td>0.831189</td>\n",
       "      <td>0.326061</td>\n",
       "      <td>zdrowy</td>\n",
       "    </tr>\n",
       "  </tbody>\n",
       "</table>\n",
       "</div>"
      ],
      "text/plain": [
       "        MFCC1       MFCC2      MFCC3      MCCC4      MFCC5      MFCC6  \\\n",
       "0 -289.653488  104.124024  14.434276 -33.619576 -13.436933  14.829756   \n",
       "1 -163.377016   98.576437 -55.135265  -8.253623 -41.790107  -7.342310   \n",
       "2 -210.965889  125.565730 -19.524249 -31.481262  -4.936930  -8.431715   \n",
       "3 -202.761642  127.187211 -28.789877 -40.230883 -29.762514  -1.732737   \n",
       "4 -151.496408  127.122116 -41.809578 -35.744106 -30.949673 -13.693395   \n",
       "\n",
       "       MFCC7      MFCC8      MFCC9     MFCC10       RMS       ZCR          F0  \\\n",
       "0  15.144119  11.379615 -22.179020  30.988884  0.100807  0.023024  219.762311   \n",
       "1   0.837488 -18.994352  -1.040815  12.528805  0.265944  0.066445  746.531394   \n",
       "2  14.884468  11.076121 -27.797465  17.576680  0.099667  0.041797  185.845277   \n",
       "3 -18.425592   4.598687 -16.778892  -7.016705  0.223740  0.050293  662.900175   \n",
       "4   3.776185  17.975296 -28.473324  10.027781  0.289882  0.064160  790.051471   \n",
       "\n",
       "        MAX       MIN  KURTOSIS  SKEWNESS  Status  \n",
       "0  0.204873 -0.270142 -1.150720 -0.297840  zdrowy  \n",
       "1  0.599240 -0.686358 -0.455155 -0.192974  zdrowy  \n",
       "2  0.377677 -0.407918  0.239410  0.580150  zdrowy  \n",
       "3  0.575655 -0.560874 -0.244262 -0.015549  zdrowy  \n",
       "4  0.883212 -0.849951  0.831189  0.326061  zdrowy  "
      ]
     },
     "execution_count": 3,
     "metadata": {},
     "output_type": "execute_result"
    }
   ],
   "source": [
    "allpatients = pd.concat([df1,df2])\n",
    "allpatients.head()"
   ]
  },
  {
   "cell_type": "markdown",
   "metadata": {},
   "source": [
    "Features has diffrent rows, so they have to be normalized."
   ]
  },
  {
   "cell_type": "code",
   "execution_count": 5,
   "metadata": {},
   "outputs": [
    {
     "data": {
      "text/html": [
       "<div>\n",
       "<style scoped>\n",
       "    .dataframe tbody tr th:only-of-type {\n",
       "        vertical-align: middle;\n",
       "    }\n",
       "\n",
       "    .dataframe tbody tr th {\n",
       "        vertical-align: top;\n",
       "    }\n",
       "\n",
       "    .dataframe thead th {\n",
       "        text-align: right;\n",
       "    }\n",
       "</style>\n",
       "<table border=\"1\" class=\"dataframe\">\n",
       "  <thead>\n",
       "    <tr style=\"text-align: right;\">\n",
       "      <th></th>\n",
       "      <th>MFCC1</th>\n",
       "      <th>MFCC2</th>\n",
       "      <th>MFCC3</th>\n",
       "      <th>MCCC4</th>\n",
       "      <th>MFCC5</th>\n",
       "      <th>MFCC6</th>\n",
       "      <th>MFCC7</th>\n",
       "      <th>MFCC8</th>\n",
       "      <th>MFCC9</th>\n",
       "      <th>MFCC10</th>\n",
       "      <th>RMS</th>\n",
       "      <th>ZCR</th>\n",
       "      <th>F0</th>\n",
       "      <th>MAX</th>\n",
       "      <th>MIN</th>\n",
       "      <th>KURTOSIS</th>\n",
       "      <th>SKEWNESS</th>\n",
       "      <th>Status</th>\n",
       "    </tr>\n",
       "  </thead>\n",
       "  <tbody>\n",
       "    <tr>\n",
       "      <th>0</th>\n",
       "      <td>-2.228104</td>\n",
       "      <td>-1.161784</td>\n",
       "      <td>1.908387</td>\n",
       "      <td>-0.707695</td>\n",
       "      <td>0.797352</td>\n",
       "      <td>1.317901</td>\n",
       "      <td>0.483101</td>\n",
       "      <td>0.749724</td>\n",
       "      <td>-0.639430</td>\n",
       "      <td>2.301314</td>\n",
       "      <td>-1.446581</td>\n",
       "      <td>-1.849005</td>\n",
       "      <td>-0.785243</td>\n",
       "      <td>-1.910194</td>\n",
       "      <td>1.267859</td>\n",
       "      <td>-1.361749</td>\n",
       "      <td>-1.423722</td>\n",
       "      <td>zdrowy</td>\n",
       "    </tr>\n",
       "    <tr>\n",
       "      <th>1</th>\n",
       "      <td>1.109779</td>\n",
       "      <td>-1.409183</td>\n",
       "      <td>-1.160876</td>\n",
       "      <td>1.206284</td>\n",
       "      <td>-1.006414</td>\n",
       "      <td>-0.413243</td>\n",
       "      <td>-0.610478</td>\n",
       "      <td>-1.667053</td>\n",
       "      <td>1.331933</td>\n",
       "      <td>0.639642</td>\n",
       "      <td>1.558627</td>\n",
       "      <td>1.015723</td>\n",
       "      <td>1.160303</td>\n",
       "      <td>0.357969</td>\n",
       "      <td>-0.801001</td>\n",
       "      <td>-0.598319</td>\n",
       "      <td>-1.184302</td>\n",
       "      <td>zdrowy</td>\n",
       "    </tr>\n",
       "    <tr>\n",
       "      <th>2</th>\n",
       "      <td>-0.148144</td>\n",
       "      <td>-0.205576</td>\n",
       "      <td>0.410208</td>\n",
       "      <td>-0.546350</td>\n",
       "      <td>1.338103</td>\n",
       "      <td>-0.498301</td>\n",
       "      <td>0.463254</td>\n",
       "      <td>0.725576</td>\n",
       "      <td>-1.163409</td>\n",
       "      <td>1.094023</td>\n",
       "      <td>-1.467327</td>\n",
       "      <td>-0.610474</td>\n",
       "      <td>-0.910510</td>\n",
       "      <td>-0.916330</td>\n",
       "      <td>0.583026</td>\n",
       "      <td>0.164013</td>\n",
       "      <td>0.580810</td>\n",
       "      <td>zdrowy</td>\n",
       "    </tr>\n",
       "    <tr>\n",
       "      <th>3</th>\n",
       "      <td>0.068720</td>\n",
       "      <td>-0.133265</td>\n",
       "      <td>0.001428</td>\n",
       "      <td>-1.206549</td>\n",
       "      <td>-0.241245</td>\n",
       "      <td>0.024740</td>\n",
       "      <td>-2.082922</td>\n",
       "      <td>0.210184</td>\n",
       "      <td>-0.135810</td>\n",
       "      <td>-1.119735</td>\n",
       "      <td>0.790594</td>\n",
       "      <td>-0.049939</td>\n",
       "      <td>0.851423</td>\n",
       "      <td>0.222320</td>\n",
       "      <td>-0.177266</td>\n",
       "      <td>-0.366850</td>\n",
       "      <td>-0.779225</td>\n",
       "      <td>zdrowy</td>\n",
       "    </tr>\n",
       "    <tr>\n",
       "      <th>4</th>\n",
       "      <td>1.423821</td>\n",
       "      <td>-0.136168</td>\n",
       "      <td>-0.572974</td>\n",
       "      <td>-0.868001</td>\n",
       "      <td>-0.316770</td>\n",
       "      <td>-0.909121</td>\n",
       "      <td>-0.385848</td>\n",
       "      <td>1.274525</td>\n",
       "      <td>-1.226440</td>\n",
       "      <td>0.414514</td>\n",
       "      <td>1.994266</td>\n",
       "      <td>0.864958</td>\n",
       "      <td>1.321038</td>\n",
       "      <td>1.991206</td>\n",
       "      <td>-1.614164</td>\n",
       "      <td>0.813531</td>\n",
       "      <td>0.000702</td>\n",
       "      <td>zdrowy</td>\n",
       "    </tr>\n",
       "  </tbody>\n",
       "</table>\n",
       "</div>"
      ],
      "text/plain": [
       "      MFCC1     MFCC2     MFCC3     MCCC4     MFCC5     MFCC6     MFCC7  \\\n",
       "0 -2.228104 -1.161784  1.908387 -0.707695  0.797352  1.317901  0.483101   \n",
       "1  1.109779 -1.409183 -1.160876  1.206284 -1.006414 -0.413243 -0.610478   \n",
       "2 -0.148144 -0.205576  0.410208 -0.546350  1.338103 -0.498301  0.463254   \n",
       "3  0.068720 -0.133265  0.001428 -1.206549 -0.241245  0.024740 -2.082922   \n",
       "4  1.423821 -0.136168 -0.572974 -0.868001 -0.316770 -0.909121 -0.385848   \n",
       "\n",
       "      MFCC8     MFCC9    MFCC10       RMS       ZCR        F0       MAX  \\\n",
       "0  0.749724 -0.639430  2.301314 -1.446581 -1.849005 -0.785243 -1.910194   \n",
       "1 -1.667053  1.331933  0.639642  1.558627  1.015723  1.160303  0.357969   \n",
       "2  0.725576 -1.163409  1.094023 -1.467327 -0.610474 -0.910510 -0.916330   \n",
       "3  0.210184 -0.135810 -1.119735  0.790594 -0.049939  0.851423  0.222320   \n",
       "4  1.274525 -1.226440  0.414514  1.994266  0.864958  1.321038  1.991206   \n",
       "\n",
       "        MIN  KURTOSIS  SKEWNESS  Status  \n",
       "0  1.267859 -1.361749 -1.423722  zdrowy  \n",
       "1 -0.801001 -0.598319 -1.184302  zdrowy  \n",
       "2  0.583026  0.164013  0.580810  zdrowy  \n",
       "3 -0.177266 -0.366850 -0.779225  zdrowy  \n",
       "4 -1.614164  0.813531  0.000702  zdrowy  "
      ]
     },
     "execution_count": 5,
     "metadata": {},
     "output_type": "execute_result"
    }
   ],
   "source": [
    "features = allpatients.drop(labels='Status',axis=1).columns\n",
    "for i in features:\n",
    "    allpatients[i] = (allpatients[i] - np.mean(allpatients[i]))/np.std(allpatients[i])\n",
    "allpatients.head()"
   ]
  },
  {
   "cell_type": "markdown",
   "metadata": {},
   "source": [
    "Afterwards data have to be suffled, in order to avoid overfitting"
   ]
  },
  {
   "cell_type": "code",
   "execution_count": 6,
   "metadata": {},
   "outputs": [
    {
     "data": {
      "text/html": [
       "<div>\n",
       "<style scoped>\n",
       "    .dataframe tbody tr th:only-of-type {\n",
       "        vertical-align: middle;\n",
       "    }\n",
       "\n",
       "    .dataframe tbody tr th {\n",
       "        vertical-align: top;\n",
       "    }\n",
       "\n",
       "    .dataframe thead th {\n",
       "        text-align: right;\n",
       "    }\n",
       "</style>\n",
       "<table border=\"1\" class=\"dataframe\">\n",
       "  <thead>\n",
       "    <tr style=\"text-align: right;\">\n",
       "      <th></th>\n",
       "      <th>MFCC1</th>\n",
       "      <th>MFCC2</th>\n",
       "      <th>MFCC3</th>\n",
       "      <th>MCCC4</th>\n",
       "      <th>MFCC5</th>\n",
       "      <th>MFCC6</th>\n",
       "      <th>MFCC7</th>\n",
       "      <th>MFCC8</th>\n",
       "      <th>MFCC9</th>\n",
       "      <th>MFCC10</th>\n",
       "      <th>RMS</th>\n",
       "      <th>ZCR</th>\n",
       "      <th>F0</th>\n",
       "      <th>MAX</th>\n",
       "      <th>MIN</th>\n",
       "      <th>KURTOSIS</th>\n",
       "      <th>SKEWNESS</th>\n",
       "      <th>Status</th>\n",
       "    </tr>\n",
       "  </thead>\n",
       "  <tbody>\n",
       "    <tr>\n",
       "      <th>0</th>\n",
       "      <td>0.014756</td>\n",
       "      <td>1.045626</td>\n",
       "      <td>0.593243</td>\n",
       "      <td>0.304373</td>\n",
       "      <td>0.809573</td>\n",
       "      <td>-1.583106</td>\n",
       "      <td>2.206513</td>\n",
       "      <td>-1.455589</td>\n",
       "      <td>0.333507</td>\n",
       "      <td>0.160808</td>\n",
       "      <td>0.743836</td>\n",
       "      <td>-0.995762</td>\n",
       "      <td>-0.890619</td>\n",
       "      <td>0.285218</td>\n",
       "      <td>0.936879</td>\n",
       "      <td>-0.591400</td>\n",
       "      <td>1.235306</td>\n",
       "      <td>zdrowy</td>\n",
       "    </tr>\n",
       "    <tr>\n",
       "      <th>1</th>\n",
       "      <td>-0.600564</td>\n",
       "      <td>-0.265322</td>\n",
       "      <td>0.398475</td>\n",
       "      <td>0.694714</td>\n",
       "      <td>-0.313341</td>\n",
       "      <td>-0.514125</td>\n",
       "      <td>0.663606</td>\n",
       "      <td>-1.419543</td>\n",
       "      <td>-0.402924</td>\n",
       "      <td>0.935650</td>\n",
       "      <td>0.383775</td>\n",
       "      <td>0.552228</td>\n",
       "      <td>-0.742236</td>\n",
       "      <td>-0.597823</td>\n",
       "      <td>0.470128</td>\n",
       "      <td>-0.709029</td>\n",
       "      <td>0.027503</td>\n",
       "      <td>chory</td>\n",
       "    </tr>\n",
       "    <tr>\n",
       "      <th>2</th>\n",
       "      <td>0.331276</td>\n",
       "      <td>0.356684</td>\n",
       "      <td>-0.553478</td>\n",
       "      <td>1.337691</td>\n",
       "      <td>-0.537121</td>\n",
       "      <td>0.843234</td>\n",
       "      <td>-1.278961</td>\n",
       "      <td>0.941476</td>\n",
       "      <td>-0.795176</td>\n",
       "      <td>1.703238</td>\n",
       "      <td>0.928272</td>\n",
       "      <td>0.403644</td>\n",
       "      <td>-0.793523</td>\n",
       "      <td>-0.634263</td>\n",
       "      <td>-0.241021</td>\n",
       "      <td>-0.950449</td>\n",
       "      <td>-1.327549</td>\n",
       "      <td>chory</td>\n",
       "    </tr>\n",
       "    <tr>\n",
       "      <th>3</th>\n",
       "      <td>1.992549</td>\n",
       "      <td>-0.435536</td>\n",
       "      <td>-0.003438</td>\n",
       "      <td>0.292437</td>\n",
       "      <td>-1.835380</td>\n",
       "      <td>2.631802</td>\n",
       "      <td>-1.464892</td>\n",
       "      <td>1.890212</td>\n",
       "      <td>0.030838</td>\n",
       "      <td>-0.986717</td>\n",
       "      <td>1.749849</td>\n",
       "      <td>0.182998</td>\n",
       "      <td>-0.862773</td>\n",
       "      <td>0.609615</td>\n",
       "      <td>-0.731343</td>\n",
       "      <td>-1.270163</td>\n",
       "      <td>-0.334866</td>\n",
       "      <td>zdrowy</td>\n",
       "    </tr>\n",
       "    <tr>\n",
       "      <th>4</th>\n",
       "      <td>1.130993</td>\n",
       "      <td>0.075420</td>\n",
       "      <td>-1.387867</td>\n",
       "      <td>0.340851</td>\n",
       "      <td>-0.695580</td>\n",
       "      <td>-0.629374</td>\n",
       "      <td>-0.642824</td>\n",
       "      <td>-0.035207</td>\n",
       "      <td>-0.726441</td>\n",
       "      <td>0.357938</td>\n",
       "      <td>1.361054</td>\n",
       "      <td>1.008190</td>\n",
       "      <td>1.648214</td>\n",
       "      <td>0.780773</td>\n",
       "      <td>-0.482650</td>\n",
       "      <td>-0.504549</td>\n",
       "      <td>-0.434905</td>\n",
       "      <td>zdrowy</td>\n",
       "    </tr>\n",
       "  </tbody>\n",
       "</table>\n",
       "</div>"
      ],
      "text/plain": [
       "      MFCC1     MFCC2     MFCC3     MCCC4     MFCC5     MFCC6     MFCC7  \\\n",
       "0  0.014756  1.045626  0.593243  0.304373  0.809573 -1.583106  2.206513   \n",
       "1 -0.600564 -0.265322  0.398475  0.694714 -0.313341 -0.514125  0.663606   \n",
       "2  0.331276  0.356684 -0.553478  1.337691 -0.537121  0.843234 -1.278961   \n",
       "3  1.992549 -0.435536 -0.003438  0.292437 -1.835380  2.631802 -1.464892   \n",
       "4  1.130993  0.075420 -1.387867  0.340851 -0.695580 -0.629374 -0.642824   \n",
       "\n",
       "      MFCC8     MFCC9    MFCC10       RMS       ZCR        F0       MAX  \\\n",
       "0 -1.455589  0.333507  0.160808  0.743836 -0.995762 -0.890619  0.285218   \n",
       "1 -1.419543 -0.402924  0.935650  0.383775  0.552228 -0.742236 -0.597823   \n",
       "2  0.941476 -0.795176  1.703238  0.928272  0.403644 -0.793523 -0.634263   \n",
       "3  1.890212  0.030838 -0.986717  1.749849  0.182998 -0.862773  0.609615   \n",
       "4 -0.035207 -0.726441  0.357938  1.361054  1.008190  1.648214  0.780773   \n",
       "\n",
       "        MIN  KURTOSIS  SKEWNESS  Status  \n",
       "0  0.936879 -0.591400  1.235306  zdrowy  \n",
       "1  0.470128 -0.709029  0.027503   chory  \n",
       "2 -0.241021 -0.950449 -1.327549   chory  \n",
       "3 -0.731343 -1.270163 -0.334866  zdrowy  \n",
       "4 -0.482650 -0.504549 -0.434905  zdrowy  "
      ]
     },
     "execution_count": 6,
     "metadata": {},
     "output_type": "execute_result"
    }
   ],
   "source": [
    "allpatients = allpatients.sample(frac=1).reset_index(drop=True)\n",
    "allpatients.head()"
   ]
  },
  {
   "cell_type": "markdown",
   "metadata": {},
   "source": [
    "# PCA"
   ]
  },
  {
   "cell_type": "code",
   "execution_count": 7,
   "metadata": {},
   "outputs": [],
   "source": [
    "from sklearn.decomposition import PCA"
   ]
  },
  {
   "cell_type": "code",
   "execution_count": 8,
   "metadata": {},
   "outputs": [],
   "source": [
    "pca = PCA(n_components=3)\n",
    "pca.fit(allpatients.drop(['Status'], axis=1))\n",
    "X = pca.transform(allpatients.drop(['Status'], axis=1))\n",
    "X = pd.DataFrame(X, columns=['A','B','C'])\n",
    "X['Status'] = allpatients['Status']"
   ]
  },
  {
   "cell_type": "code",
   "execution_count": 9,
   "metadata": {},
   "outputs": [],
   "source": [
    "from mpl_toolkits.mplot3d import Axes3D"
   ]
  },
  {
   "cell_type": "code",
   "execution_count": 45,
   "metadata": {},
   "outputs": [
    {
     "data": {
      "image/png": "[encoded data removed]",
      "text/plain": [
       "<Figure size 1152x756 with 1 Axes>"
      ]
     },
     "metadata": {},
     "output_type": "display_data"
    }
   ],
   "source": [
    "fig = plt.figure()\n",
    "fig.set_size_inches(16, 10.5)\n",
    "ax = fig.add_subplot(111, projection='3d')\n",
    "ax.scatter(X[X['Status']=='zdrowy']['A'],\n",
    "           X[X['Status']=='zdrowy']['B'],\n",
    "           X[X['Status']=='zdrowy']['C'],\n",
    "           s=100,\n",
    "           c='r',\n",
    "           marker='o',\n",
    "           label='zdrowy')\n",
    "ax.scatter(X[X['Status']=='chory']['A'],\n",
    "           X[X['Status']=='chory']['B'],\n",
    "           X[X['Status']=='chory']['C'],\n",
    "           s=100,\n",
    "           c='b',\n",
    "           marker='v',\n",
    "           label='chory')\n",
    "plt.legend(loc='upper right', frameon = True, title = 'Stan pacjenta')\n",
    "ax.set_yticklabels([])\n",
    "ax.set_xticklabels([])\n",
    "ax.set_zticklabels([])\n",
    "plt.show()"
   ]
  },
  {
   "cell_type": "markdown",
   "metadata": {},
   "source": [
    "# Dummy variables\n",
    "We'll need to convert categorical features (Status) to dummy variables, because our alghoritm can't understant what means 'healthy'."
   ]
  },
  {
   "cell_type": "code",
   "execution_count": 11,
   "metadata": {},
   "outputs": [],
   "source": [
    "status = pd.get_dummies(allpatients['Status'],drop_first=True)"
   ]
  },
  {
   "cell_type": "code",
   "execution_count": 12,
   "metadata": {},
   "outputs": [],
   "source": [
    "allpatients.drop(['Status'],axis=1,inplace=True)"
   ]
  },
  {
   "cell_type": "code",
   "execution_count": 13,
   "metadata": {},
   "outputs": [
    {
     "data": {
      "text/html": [
       "<div>\n",
       "<style scoped>\n",
       "    .dataframe tbody tr th:only-of-type {\n",
       "        vertical-align: middle;\n",
       "    }\n",
       "\n",
       "    .dataframe tbody tr th {\n",
       "        vertical-align: top;\n",
       "    }\n",
       "\n",
       "    .dataframe thead th {\n",
       "        text-align: right;\n",
       "    }\n",
       "</style>\n",
       "<table border=\"1\" class=\"dataframe\">\n",
       "  <thead>\n",
       "    <tr style=\"text-align: right;\">\n",
       "      <th></th>\n",
       "      <th>MFCC1</th>\n",
       "      <th>MFCC2</th>\n",
       "      <th>MFCC3</th>\n",
       "      <th>MCCC4</th>\n",
       "      <th>MFCC5</th>\n",
       "      <th>MFCC6</th>\n",
       "      <th>MFCC7</th>\n",
       "      <th>MFCC8</th>\n",
       "      <th>MFCC9</th>\n",
       "      <th>MFCC10</th>\n",
       "      <th>RMS</th>\n",
       "      <th>ZCR</th>\n",
       "      <th>F0</th>\n",
       "      <th>MAX</th>\n",
       "      <th>MIN</th>\n",
       "      <th>KURTOSIS</th>\n",
       "      <th>SKEWNESS</th>\n",
       "      <th>Chory</th>\n",
       "    </tr>\n",
       "  </thead>\n",
       "  <tbody>\n",
       "    <tr>\n",
       "      <th>0</th>\n",
       "      <td>0.014756</td>\n",
       "      <td>1.045626</td>\n",
       "      <td>0.593243</td>\n",
       "      <td>0.304373</td>\n",
       "      <td>0.809573</td>\n",
       "      <td>-1.583106</td>\n",
       "      <td>2.206513</td>\n",
       "      <td>-1.455589</td>\n",
       "      <td>0.333507</td>\n",
       "      <td>0.160808</td>\n",
       "      <td>0.743836</td>\n",
       "      <td>-0.995762</td>\n",
       "      <td>-0.890619</td>\n",
       "      <td>0.285218</td>\n",
       "      <td>0.936879</td>\n",
       "      <td>-0.591400</td>\n",
       "      <td>1.235306</td>\n",
       "      <td>1</td>\n",
       "    </tr>\n",
       "    <tr>\n",
       "      <th>1</th>\n",
       "      <td>-0.600564</td>\n",
       "      <td>-0.265322</td>\n",
       "      <td>0.398475</td>\n",
       "      <td>0.694714</td>\n",
       "      <td>-0.313341</td>\n",
       "      <td>-0.514125</td>\n",
       "      <td>0.663606</td>\n",
       "      <td>-1.419543</td>\n",
       "      <td>-0.402924</td>\n",
       "      <td>0.935650</td>\n",
       "      <td>0.383775</td>\n",
       "      <td>0.552228</td>\n",
       "      <td>-0.742236</td>\n",
       "      <td>-0.597823</td>\n",
       "      <td>0.470128</td>\n",
       "      <td>-0.709029</td>\n",
       "      <td>0.027503</td>\n",
       "      <td>0</td>\n",
       "    </tr>\n",
       "    <tr>\n",
       "      <th>2</th>\n",
       "      <td>0.331276</td>\n",
       "      <td>0.356684</td>\n",
       "      <td>-0.553478</td>\n",
       "      <td>1.337691</td>\n",
       "      <td>-0.537121</td>\n",
       "      <td>0.843234</td>\n",
       "      <td>-1.278961</td>\n",
       "      <td>0.941476</td>\n",
       "      <td>-0.795176</td>\n",
       "      <td>1.703238</td>\n",
       "      <td>0.928272</td>\n",
       "      <td>0.403644</td>\n",
       "      <td>-0.793523</td>\n",
       "      <td>-0.634263</td>\n",
       "      <td>-0.241021</td>\n",
       "      <td>-0.950449</td>\n",
       "      <td>-1.327549</td>\n",
       "      <td>0</td>\n",
       "    </tr>\n",
       "    <tr>\n",
       "      <th>3</th>\n",
       "      <td>1.992549</td>\n",
       "      <td>-0.435536</td>\n",
       "      <td>-0.003438</td>\n",
       "      <td>0.292437</td>\n",
       "      <td>-1.835380</td>\n",
       "      <td>2.631802</td>\n",
       "      <td>-1.464892</td>\n",
       "      <td>1.890212</td>\n",
       "      <td>0.030838</td>\n",
       "      <td>-0.986717</td>\n",
       "      <td>1.749849</td>\n",
       "      <td>0.182998</td>\n",
       "      <td>-0.862773</td>\n",
       "      <td>0.609615</td>\n",
       "      <td>-0.731343</td>\n",
       "      <td>-1.270163</td>\n",
       "      <td>-0.334866</td>\n",
       "      <td>1</td>\n",
       "    </tr>\n",
       "    <tr>\n",
       "      <th>4</th>\n",
       "      <td>1.130993</td>\n",
       "      <td>0.075420</td>\n",
       "      <td>-1.387867</td>\n",
       "      <td>0.340851</td>\n",
       "      <td>-0.695580</td>\n",
       "      <td>-0.629374</td>\n",
       "      <td>-0.642824</td>\n",
       "      <td>-0.035207</td>\n",
       "      <td>-0.726441</td>\n",
       "      <td>0.357938</td>\n",
       "      <td>1.361054</td>\n",
       "      <td>1.008190</td>\n",
       "      <td>1.648214</td>\n",
       "      <td>0.780773</td>\n",
       "      <td>-0.482650</td>\n",
       "      <td>-0.504549</td>\n",
       "      <td>-0.434905</td>\n",
       "      <td>1</td>\n",
       "    </tr>\n",
       "  </tbody>\n",
       "</table>\n",
       "</div>"
      ],
      "text/plain": [
       "      MFCC1     MFCC2     MFCC3     MCCC4     MFCC5     MFCC6     MFCC7  \\\n",
       "0  0.014756  1.045626  0.593243  0.304373  0.809573 -1.583106  2.206513   \n",
       "1 -0.600564 -0.265322  0.398475  0.694714 -0.313341 -0.514125  0.663606   \n",
       "2  0.331276  0.356684 -0.553478  1.337691 -0.537121  0.843234 -1.278961   \n",
       "3  1.992549 -0.435536 -0.003438  0.292437 -1.835380  2.631802 -1.464892   \n",
       "4  1.130993  0.075420 -1.387867  0.340851 -0.695580 -0.629374 -0.642824   \n",
       "\n",
       "      MFCC8     MFCC9    MFCC10       RMS       ZCR        F0       MAX  \\\n",
       "0 -1.455589  0.333507  0.160808  0.743836 -0.995762 -0.890619  0.285218   \n",
       "1 -1.419543 -0.402924  0.935650  0.383775  0.552228 -0.742236 -0.597823   \n",
       "2  0.941476 -0.795176  1.703238  0.928272  0.403644 -0.793523 -0.634263   \n",
       "3  1.890212  0.030838 -0.986717  1.749849  0.182998 -0.862773  0.609615   \n",
       "4 -0.035207 -0.726441  0.357938  1.361054  1.008190  1.648214  0.780773   \n",
       "\n",
       "        MIN  KURTOSIS  SKEWNESS  Chory  \n",
       "0  0.936879 -0.591400  1.235306      1  \n",
       "1  0.470128 -0.709029  0.027503      0  \n",
       "2 -0.241021 -0.950449 -1.327549      0  \n",
       "3 -0.731343 -1.270163 -0.334866      1  \n",
       "4 -0.482650 -0.504549 -0.434905      1  "
      ]
     },
     "execution_count": 13,
     "metadata": {},
     "output_type": "execute_result"
    }
   ],
   "source": [
    "allpatients['Chory'] = status\n",
    "allpatients.head()"
   ]
  },
  {
   "cell_type": "markdown",
   "metadata": {},
   "source": [
    "# Train test split"
   ]
  },
  {
   "cell_type": "code",
   "execution_count": 14,
   "metadata": {},
   "outputs": [],
   "source": [
    "from sklearn.model_selection import train_test_split"
   ]
  },
  {
   "cell_type": "code",
   "execution_count": 15,
   "metadata": {},
   "outputs": [],
   "source": [
    "X_train, X_test, y_train, y_test = train_test_split(allpatients.drop(['Chory'], axis=1), \n",
    "                                                    allpatients['Chory'], \n",
    "                                                    test_size=0.20, \n",
    "                                                    random_state=42)"
   ]
  },
  {
   "cell_type": "markdown",
   "metadata": {},
   "source": [
    "# Logistic Regression Algorithm"
   ]
  },
  {
   "cell_type": "code",
   "execution_count": 16,
   "metadata": {},
   "outputs": [],
   "source": [
    "from sklearn.linear_model import LogisticRegression"
   ]
  },
  {
   "cell_type": "code",
   "execution_count": 17,
   "metadata": {},
   "outputs": [
    {
     "name": "stderr",
     "output_type": "stream",
     "text": [
      "/home/barti/miniconda3/lib/python3.7/site-packages/sklearn/linear_model/logistic.py:432: FutureWarning: Default solver will be changed to 'lbfgs' in 0.22. Specify a solver to silence this warning.\n",
      "  FutureWarning)\n"
     ]
    },
    {
     "data": {
      "text/plain": [
       "LogisticRegression(C=0.01, class_weight=None, dual=False, fit_intercept=True,\n",
       "          intercept_scaling=1, max_iter=1000, multi_class='warn',\n",
       "          n_jobs=None, penalty='l2', random_state=None, solver='warn',\n",
       "          tol=0.0001, verbose=0, warm_start=False)"
      ]
     },
     "execution_count": 17,
     "metadata": {},
     "output_type": "execute_result"
    }
   ],
   "source": [
    "logModel = LogisticRegression(max_iter=1000, C = 0.01)\n",
    "logModel.fit(X_train, y_train)"
   ]
  },
  {
   "cell_type": "code",
   "execution_count": 18,
   "metadata": {},
   "outputs": [],
   "source": [
    "prediction = logModel.predict(X_test)"
   ]
  },
  {
   "cell_type": "markdown",
   "metadata": {},
   "source": [
    "# Evaluation\n",
    "Check precission, recall, f1-score using classification report"
   ]
  },
  {
   "cell_type": "code",
   "execution_count": 19,
   "metadata": {},
   "outputs": [],
   "source": [
    "from sklearn.metrics import classification_report, confusion_matrix"
   ]
  },
  {
   "cell_type": "code",
   "execution_count": 20,
   "metadata": {},
   "outputs": [
    {
     "name": "stdout",
     "output_type": "stream",
     "text": [
      "              precision    recall  f1-score   support\n",
      "\n",
      "           0       0.64      0.64      0.64        45\n",
      "           1       0.63      0.63      0.63        43\n",
      "\n",
      "   micro avg       0.64      0.64      0.64        88\n",
      "   macro avg       0.64      0.64      0.64        88\n",
      "weighted avg       0.64      0.64      0.64        88\n",
      "\n"
     ]
    }
   ],
   "source": [
    "print(classification_report(y_test,prediction))"
   ]
  },
  {
   "cell_type": "code",
   "execution_count": 21,
   "metadata": {},
   "outputs": [
    {
     "name": "stdout",
     "output_type": "stream",
     "text": [
      "[[29 16]\n",
      " [16 27]]\n"
     ]
    }
   ],
   "source": [
    "print(confusion_matrix(y_test,prediction))"
   ]
  },
  {
   "cell_type": "markdown",
   "metadata": {},
   "source": [
    "# Random Forest Algorithm"
   ]
  },
  {
   "cell_type": "code",
   "execution_count": 22,
   "metadata": {},
   "outputs": [],
   "source": [
    "from sklearn.ensemble import RandomForestClassifier"
   ]
  },
  {
   "cell_type": "code",
   "execution_count": 23,
   "metadata": {},
   "outputs": [],
   "source": [
    "clf = RandomForestClassifier(n_estimators=100)"
   ]
  },
  {
   "cell_type": "code",
   "execution_count": 24,
   "metadata": {},
   "outputs": [
    {
     "data": {
      "text/plain": [
       "RandomForestClassifier(bootstrap=True, class_weight=None, criterion='gini',\n",
       "            max_depth=None, max_features='auto', max_leaf_nodes=None,\n",
       "            min_impurity_decrease=0.0, min_impurity_split=None,\n",
       "            min_samples_leaf=1, min_samples_split=2,\n",
       "            min_weight_fraction_leaf=0.0, n_estimators=100, n_jobs=None,\n",
       "            oob_score=False, random_state=None, verbose=0,\n",
       "            warm_start=False)"
      ]
     },
     "execution_count": 24,
     "metadata": {},
     "output_type": "execute_result"
    }
   ],
   "source": [
    "clf.fit(X_train,y_train)"
   ]
  },
  {
   "cell_type": "code",
   "execution_count": 25,
   "metadata": {},
   "outputs": [],
   "source": [
    "prediction = clf.predict(X_test)"
   ]
  },
  {
   "cell_type": "markdown",
   "metadata": {},
   "source": [
    "# Evaluation\n",
    "Check precission, recall, f1-score using classification report"
   ]
  },
  {
   "cell_type": "code",
   "execution_count": 26,
   "metadata": {},
   "outputs": [
    {
     "name": "stdout",
     "output_type": "stream",
     "text": [
      "              precision    recall  f1-score   support\n",
      "\n",
      "           0       0.58      0.64      0.61        45\n",
      "           1       0.58      0.51      0.54        43\n",
      "\n",
      "   micro avg       0.58      0.58      0.58        88\n",
      "   macro avg       0.58      0.58      0.58        88\n",
      "weighted avg       0.58      0.58      0.58        88\n",
      "\n"
     ]
    }
   ],
   "source": [
    "print(classification_report(y_test,prediction))"
   ]
  },
  {
   "cell_type": "code",
   "execution_count": 27,
   "metadata": {},
   "outputs": [
    {
     "name": "stdout",
     "output_type": "stream",
     "text": [
      "[[29 16]\n",
      " [21 22]]\n"
     ]
    }
   ],
   "source": [
    "print(confusion_matrix(y_test,prediction))"
   ]
  },
  {
   "cell_type": "code",
   "execution_count": 28,
   "metadata": {},
   "outputs": [
    {
     "name": "stdout",
     "output_type": "stream",
     "text": [
      "[0.06209785 0.0873179  0.0755814  0.04445418 0.06525976 0.05944042\n",
      " 0.05610544 0.0447437  0.06089851 0.05096645 0.05486095 0.0506408\n",
      " 0.08141133 0.0436284  0.04118546 0.06709123 0.05431621]\n"
     ]
    }
   ],
   "source": [
    "print(clf.feature_importances_)"
   ]
  },
  {
   "cell_type": "code",
   "execution_count": null,
   "metadata": {},
   "outputs": [],
   "source": []
  }
 ],
 "metadata": {
  "kernelspec": {
   "display_name": "Python 3",
   "language": "python",
   "name": "python3"
  },
  "language_info": {
   "codemirror_mode": {
    "name": "ipython",
    "version": 3
   },
   "file_extension": ".py",
   "mimetype": "text/x-python",
   "name": "python",
   "nbconvert_exporter": "python",
   "pygments_lexer": "ipython3",
   "version": "3.7.0"
  }
 },
 "nbformat": 4,
 "nbformat_minor": 2
}
