{
 "cells": [
  {
   "cell_type": "code",
   "execution_count": 1,
   "metadata": {},
   "outputs": [],
   "source": [
    "import numpy as np\n",
    "import pandas as pd\n",
    "import matplotlib.pyplot as plt"
   ]
  },
  {
   "cell_type": "markdown",
   "metadata": {},
   "source": [
    "# Parameters Vector\n",
    "\n",
    "Load, merge, normalization vector of parameters."
   ]
  },
  {
   "cell_type": "code",
   "execution_count": 2,
   "metadata": {
    "scrolled": true
   },
   "outputs": [],
   "source": [
    "# Loading each csv file\n",
    "df1 = pd.read_csv('Par_T_Domain_Female_Healthy.csv')\n",
    "df2 = pd.read_csv('Par_T_Domain_Female_Pathology.csv')"
   ]
  },
  {
   "cell_type": "markdown",
   "metadata": {},
   "source": [
    "Concatenating all four DataFrames into one."
   ]
  },
  {
   "cell_type": "code",
   "execution_count": 3,
   "metadata": {},
   "outputs": [
    {
     "data": {
      "text/html": [
       "<div>\n",
       "<style scoped>\n",
       "    .dataframe tbody tr th:only-of-type {\n",
       "        vertical-align: middle;\n",
       "    }\n",
       "\n",
       "    .dataframe tbody tr th {\n",
       "        vertical-align: top;\n",
       "    }\n",
       "\n",
       "    .dataframe thead th {\n",
       "        text-align: right;\n",
       "    }\n",
       "</style>\n",
       "<table border=\"1\" class=\"dataframe\">\n",
       "  <thead>\n",
       "    <tr style=\"text-align: right;\">\n",
       "      <th></th>\n",
       "      <th>MAX</th>\n",
       "      <th>MIN</th>\n",
       "      <th>RMS</th>\n",
       "      <th>KURTOSIS</th>\n",
       "      <th>SKEWNESS</th>\n",
       "      <th>Status</th>\n",
       "    </tr>\n",
       "  </thead>\n",
       "  <tbody>\n",
       "    <tr>\n",
       "      <th>0</th>\n",
       "      <td>29241.0</td>\n",
       "      <td>-29320.0</td>\n",
       "      <td>6289.637492</td>\n",
       "      <td>1.154522</td>\n",
       "      <td>-0.278947</td>\n",
       "      <td>Zdrowy</td>\n",
       "    </tr>\n",
       "    <tr>\n",
       "      <th>1</th>\n",
       "      <td>22061.0</td>\n",
       "      <td>-23299.0</td>\n",
       "      <td>6599.787734</td>\n",
       "      <td>0.712650</td>\n",
       "      <td>-0.001332</td>\n",
       "      <td>Zdrowy</td>\n",
       "    </tr>\n",
       "    <tr>\n",
       "      <th>2</th>\n",
       "      <td>24324.0</td>\n",
       "      <td>-29249.0</td>\n",
       "      <td>9754.270240</td>\n",
       "      <td>-0.551226</td>\n",
       "      <td>-0.497291</td>\n",
       "      <td>Zdrowy</td>\n",
       "    </tr>\n",
       "    <tr>\n",
       "      <th>3</th>\n",
       "      <td>23012.0</td>\n",
       "      <td>-26925.0</td>\n",
       "      <td>7738.361761</td>\n",
       "      <td>0.336756</td>\n",
       "      <td>-0.277066</td>\n",
       "      <td>Zdrowy</td>\n",
       "    </tr>\n",
       "    <tr>\n",
       "      <th>4</th>\n",
       "      <td>28861.0</td>\n",
       "      <td>-30733.0</td>\n",
       "      <td>7455.040211</td>\n",
       "      <td>0.127165</td>\n",
       "      <td>-0.143777</td>\n",
       "      <td>Zdrowy</td>\n",
       "    </tr>\n",
       "  </tbody>\n",
       "</table>\n",
       "</div>"
      ],
      "text/plain": [
       "       MAX      MIN          RMS  KURTOSIS  SKEWNESS  Status\n",
       "0  29241.0 -29320.0  6289.637492  1.154522 -0.278947  Zdrowy\n",
       "1  22061.0 -23299.0  6599.787734  0.712650 -0.001332  Zdrowy\n",
       "2  24324.0 -29249.0  9754.270240 -0.551226 -0.497291  Zdrowy\n",
       "3  23012.0 -26925.0  7738.361761  0.336756 -0.277066  Zdrowy\n",
       "4  28861.0 -30733.0  7455.040211  0.127165 -0.143777  Zdrowy"
      ]
     },
     "execution_count": 3,
     "metadata": {},
     "output_type": "execute_result"
    }
   ],
   "source": [
    "allpatients = pd.concat([df1,df2])\n",
    "allpatients.head()"
   ]
  },
  {
   "cell_type": "markdown",
   "metadata": {},
   "source": [
    "Features has diffrent rows, so they have to be normalized."
   ]
  },
  {
   "cell_type": "code",
   "execution_count": 4,
   "metadata": {},
   "outputs": [
    {
     "data": {
      "text/html": [
       "<div>\n",
       "<style scoped>\n",
       "    .dataframe tbody tr th:only-of-type {\n",
       "        vertical-align: middle;\n",
       "    }\n",
       "\n",
       "    .dataframe tbody tr th {\n",
       "        vertical-align: top;\n",
       "    }\n",
       "\n",
       "    .dataframe thead th {\n",
       "        text-align: right;\n",
       "    }\n",
       "</style>\n",
       "<table border=\"1\" class=\"dataframe\">\n",
       "  <thead>\n",
       "    <tr style=\"text-align: right;\">\n",
       "      <th></th>\n",
       "      <th>MAX</th>\n",
       "      <th>MIN</th>\n",
       "      <th>RMS</th>\n",
       "      <th>KURTOSIS</th>\n",
       "      <th>SKEWNESS</th>\n",
       "      <th>Status</th>\n",
       "    </tr>\n",
       "  </thead>\n",
       "  <tbody>\n",
       "    <tr>\n",
       "      <th>0</th>\n",
       "      <td>1.958214</td>\n",
       "      <td>-1.181396</td>\n",
       "      <td>0.129290</td>\n",
       "      <td>0.753749</td>\n",
       "      <td>-0.525741</td>\n",
       "      <td>Zdrowy</td>\n",
       "    </tr>\n",
       "    <tr>\n",
       "      <th>1</th>\n",
       "      <td>0.690612</td>\n",
       "      <td>-0.251412</td>\n",
       "      <td>0.317922</td>\n",
       "      <td>0.359683</td>\n",
       "      <td>0.203949</td>\n",
       "      <td>Zdrowy</td>\n",
       "    </tr>\n",
       "    <tr>\n",
       "      <th>2</th>\n",
       "      <td>1.090136</td>\n",
       "      <td>-1.170430</td>\n",
       "      <td>2.236455</td>\n",
       "      <td>-0.767457</td>\n",
       "      <td>-1.099642</td>\n",
       "      <td>Zdrowy</td>\n",
       "    </tr>\n",
       "    <tr>\n",
       "      <th>3</th>\n",
       "      <td>0.858508</td>\n",
       "      <td>-0.811473</td>\n",
       "      <td>1.010394</td>\n",
       "      <td>0.024456</td>\n",
       "      <td>-0.520797</td>\n",
       "      <td>Zdrowy</td>\n",
       "    </tr>\n",
       "    <tr>\n",
       "      <th>4</th>\n",
       "      <td>1.891126</td>\n",
       "      <td>-1.399644</td>\n",
       "      <td>0.838080</td>\n",
       "      <td>-0.162460</td>\n",
       "      <td>-0.170455</td>\n",
       "      <td>Zdrowy</td>\n",
       "    </tr>\n",
       "  </tbody>\n",
       "</table>\n",
       "</div>"
      ],
      "text/plain": [
       "        MAX       MIN       RMS  KURTOSIS  SKEWNESS  Status\n",
       "0  1.958214 -1.181396  0.129290  0.753749 -0.525741  Zdrowy\n",
       "1  0.690612 -0.251412  0.317922  0.359683  0.203949  Zdrowy\n",
       "2  1.090136 -1.170430  2.236455 -0.767457 -1.099642  Zdrowy\n",
       "3  0.858508 -0.811473  1.010394  0.024456 -0.520797  Zdrowy\n",
       "4  1.891126 -1.399644  0.838080 -0.162460 -0.170455  Zdrowy"
      ]
     },
     "execution_count": 4,
     "metadata": {},
     "output_type": "execute_result"
    }
   ],
   "source": [
    "features = allpatients.drop(labels='Status', axis=1).columns\n",
    "for i in features:\n",
    "    allpatients[i] = (allpatients[i] - np.mean(allpatients[i]))/np.std(allpatients[i])\n",
    "allpatients.head()"
   ]
  },
  {
   "cell_type": "markdown",
   "metadata": {},
   "source": [
    "Afterwards data have to be suffled, in order to avoid overfitting"
   ]
  },
  {
   "cell_type": "code",
   "execution_count": 5,
   "metadata": {},
   "outputs": [
    {
     "data": {
      "text/html": [
       "<div>\n",
       "<style scoped>\n",
       "    .dataframe tbody tr th:only-of-type {\n",
       "        vertical-align: middle;\n",
       "    }\n",
       "\n",
       "    .dataframe tbody tr th {\n",
       "        vertical-align: top;\n",
       "    }\n",
       "\n",
       "    .dataframe thead th {\n",
       "        text-align: right;\n",
       "    }\n",
       "</style>\n",
       "<table border=\"1\" class=\"dataframe\">\n",
       "  <thead>\n",
       "    <tr style=\"text-align: right;\">\n",
       "      <th></th>\n",
       "      <th>MAX</th>\n",
       "      <th>MIN</th>\n",
       "      <th>RMS</th>\n",
       "      <th>KURTOSIS</th>\n",
       "      <th>SKEWNESS</th>\n",
       "      <th>Status</th>\n",
       "    </tr>\n",
       "  </thead>\n",
       "  <tbody>\n",
       "    <tr>\n",
       "      <th>0</th>\n",
       "      <td>1.891126</td>\n",
       "      <td>-1.399644</td>\n",
       "      <td>0.838080</td>\n",
       "      <td>-0.162460</td>\n",
       "      <td>-0.170455</td>\n",
       "      <td>Zdrowy</td>\n",
       "    </tr>\n",
       "    <tr>\n",
       "      <th>1</th>\n",
       "      <td>-0.550330</td>\n",
       "      <td>1.019767</td>\n",
       "      <td>-1.209828</td>\n",
       "      <td>0.716292</td>\n",
       "      <td>1.977104</td>\n",
       "      <td>Chory</td>\n",
       "    </tr>\n",
       "    <tr>\n",
       "      <th>2</th>\n",
       "      <td>1.744769</td>\n",
       "      <td>-1.403660</td>\n",
       "      <td>2.199378</td>\n",
       "      <td>-0.601394</td>\n",
       "      <td>0.832453</td>\n",
       "      <td>Chory</td>\n",
       "    </tr>\n",
       "    <tr>\n",
       "      <th>3</th>\n",
       "      <td>-1.810517</td>\n",
       "      <td>1.826185</td>\n",
       "      <td>-1.503346</td>\n",
       "      <td>-1.259057</td>\n",
       "      <td>0.347013</td>\n",
       "      <td>Chory</td>\n",
       "    </tr>\n",
       "    <tr>\n",
       "      <th>4</th>\n",
       "      <td>-0.507959</td>\n",
       "      <td>-0.563261</td>\n",
       "      <td>-1.008194</td>\n",
       "      <td>3.444582</td>\n",
       "      <td>-1.810063</td>\n",
       "      <td>Chory</td>\n",
       "    </tr>\n",
       "  </tbody>\n",
       "</table>\n",
       "</div>"
      ],
      "text/plain": [
       "        MAX       MIN       RMS  KURTOSIS  SKEWNESS  Status\n",
       "0  1.891126 -1.399644  0.838080 -0.162460 -0.170455  Zdrowy\n",
       "1 -0.550330  1.019767 -1.209828  0.716292  1.977104   Chory\n",
       "2  1.744769 -1.403660  2.199378 -0.601394  0.832453   Chory\n",
       "3 -1.810517  1.826185 -1.503346 -1.259057  0.347013   Chory\n",
       "4 -0.507959 -0.563261 -1.008194  3.444582 -1.810063   Chory"
      ]
     },
     "execution_count": 5,
     "metadata": {},
     "output_type": "execute_result"
    }
   ],
   "source": [
    "allpatients = allpatients.sample(frac=1).reset_index(drop=True)\n",
    "allpatients.head()"
   ]
  },
  {
   "cell_type": "markdown",
   "metadata": {},
   "source": [
    "# PCA"
   ]
  },
  {
   "cell_type": "code",
   "execution_count": 6,
   "metadata": {},
   "outputs": [],
   "source": [
    "from sklearn.decomposition import PCA"
   ]
  },
  {
   "cell_type": "code",
   "execution_count": 7,
   "metadata": {},
   "outputs": [],
   "source": [
    "pca = PCA(n_components=3)\n",
    "pca.fit(allpatients.drop(['Status'], axis=1))\n",
    "X = pca.transform(allpatients.drop(['Status'], axis=1))\n",
    "X = pd.DataFrame(X, columns=['A','B','C'])\n",
    "X['Status'] = allpatients['Status']"
   ]
  },
  {
   "cell_type": "code",
   "execution_count": 8,
   "metadata": {},
   "outputs": [],
   "source": [
    "from mpl_toolkits.mplot3d import Axes3D"
   ]
  },
  {
   "cell_type": "code",
   "execution_count": 9,
   "metadata": {},
   "outputs": [
    {
     "data": {
      "image/png": "[encoded data removed]",
      "text/plain": [
       "<Figure size 1152x756 with 1 Axes>"
      ]
     },
     "metadata": {
      "needs_background": "light"
     },
     "output_type": "display_data"
    }
   ],
   "source": [
    "fig = plt.figure()\n",
    "fig.set_size_inches(16, 10.5)\n",
    "ax = fig.add_subplot(111, projection='3d')\n",
    "ax.scatter(X[X['Status']=='Zdrowy']['A'],\n",
    "           X[X['Status']=='Zdrowy']['B'],\n",
    "           X[X['Status']=='Zdrowy']['C'],\n",
    "           s=100,\n",
    "           c='r',\n",
    "           marker='o',\n",
    "           label='Zdrowy')\n",
    "ax.scatter(X[X['Status']=='Chory']['A'],\n",
    "           X[X['Status']=='Chory']['B'],\n",
    "           X[X['Status']=='Chory']['C'],\n",
    "           s=100,\n",
    "           c='b',\n",
    "           marker='v',\n",
    "           label='Chory')\n",
    "plt.legend(loc='upper right', frameon = True, title = 'Stan pacjenta')\n",
    "ax.set_yticklabels([])\n",
    "ax.set_xticklabels([])\n",
    "ax.set_zticklabels([])\n",
    "ax.set_xlabel('Pierwsza główna składowa')\n",
    "ax.set_ylabel('Druga głowna składowa')\n",
    "ax.set_zlabel('Trzecia głowna składowa')\n",
    "#ax.view_init(30, angle)\n",
    "plt.show()"
   ]
  },
  {
   "cell_type": "markdown",
   "metadata": {},
   "source": [
    "# Dummy variables"
   ]
  },
  {
   "cell_type": "markdown",
   "metadata": {},
   "source": [
    "We'll need to convert categorical features (Status) to dummy variables, because our alghoritm can't understant what means 'healthy'."
   ]
  },
  {
   "cell_type": "code",
   "execution_count": 10,
   "metadata": {},
   "outputs": [],
   "source": [
    "status = pd.get_dummies(allpatients['Status'],drop_first=True)"
   ]
  },
  {
   "cell_type": "code",
   "execution_count": 11,
   "metadata": {},
   "outputs": [],
   "source": [
    "allpatients.drop(['Status'],axis=1,inplace=True)"
   ]
  },
  {
   "cell_type": "code",
   "execution_count": 12,
   "metadata": {},
   "outputs": [
    {
     "data": {
      "text/html": [
       "<div>\n",
       "<style scoped>\n",
       "    .dataframe tbody tr th:only-of-type {\n",
       "        vertical-align: middle;\n",
       "    }\n",
       "\n",
       "    .dataframe tbody tr th {\n",
       "        vertical-align: top;\n",
       "    }\n",
       "\n",
       "    .dataframe thead th {\n",
       "        text-align: right;\n",
       "    }\n",
       "</style>\n",
       "<table border=\"1\" class=\"dataframe\">\n",
       "  <thead>\n",
       "    <tr style=\"text-align: right;\">\n",
       "      <th></th>\n",
       "      <th>MAX</th>\n",
       "      <th>MIN</th>\n",
       "      <th>RMS</th>\n",
       "      <th>KURTOSIS</th>\n",
       "      <th>SKEWNESS</th>\n",
       "      <th>Chory</th>\n",
       "    </tr>\n",
       "  </thead>\n",
       "  <tbody>\n",
       "    <tr>\n",
       "      <th>0</th>\n",
       "      <td>1.891126</td>\n",
       "      <td>-1.399644</td>\n",
       "      <td>0.838080</td>\n",
       "      <td>-0.162460</td>\n",
       "      <td>-0.170455</td>\n",
       "      <td>1</td>\n",
       "    </tr>\n",
       "    <tr>\n",
       "      <th>1</th>\n",
       "      <td>-0.550330</td>\n",
       "      <td>1.019767</td>\n",
       "      <td>-1.209828</td>\n",
       "      <td>0.716292</td>\n",
       "      <td>1.977104</td>\n",
       "      <td>0</td>\n",
       "    </tr>\n",
       "    <tr>\n",
       "      <th>2</th>\n",
       "      <td>1.744769</td>\n",
       "      <td>-1.403660</td>\n",
       "      <td>2.199378</td>\n",
       "      <td>-0.601394</td>\n",
       "      <td>0.832453</td>\n",
       "      <td>0</td>\n",
       "    </tr>\n",
       "    <tr>\n",
       "      <th>3</th>\n",
       "      <td>-1.810517</td>\n",
       "      <td>1.826185</td>\n",
       "      <td>-1.503346</td>\n",
       "      <td>-1.259057</td>\n",
       "      <td>0.347013</td>\n",
       "      <td>0</td>\n",
       "    </tr>\n",
       "    <tr>\n",
       "      <th>4</th>\n",
       "      <td>-0.507959</td>\n",
       "      <td>-0.563261</td>\n",
       "      <td>-1.008194</td>\n",
       "      <td>3.444582</td>\n",
       "      <td>-1.810063</td>\n",
       "      <td>0</td>\n",
       "    </tr>\n",
       "  </tbody>\n",
       "</table>\n",
       "</div>"
      ],
      "text/plain": [
       "        MAX       MIN       RMS  KURTOSIS  SKEWNESS  Chory\n",
       "0  1.891126 -1.399644  0.838080 -0.162460 -0.170455      1\n",
       "1 -0.550330  1.019767 -1.209828  0.716292  1.977104      0\n",
       "2  1.744769 -1.403660  2.199378 -0.601394  0.832453      0\n",
       "3 -1.810517  1.826185 -1.503346 -1.259057  0.347013      0\n",
       "4 -0.507959 -0.563261 -1.008194  3.444582 -1.810063      0"
      ]
     },
     "execution_count": 12,
     "metadata": {},
     "output_type": "execute_result"
    }
   ],
   "source": [
    "allpatients['Chory'] = status\n",
    "allpatients.head()"
   ]
  },
  {
   "cell_type": "markdown",
   "metadata": {},
   "source": [
    "# Logistic regression algorithm"
   ]
  },
  {
   "cell_type": "markdown",
   "metadata": {},
   "source": [
    "# Train test split"
   ]
  },
  {
   "cell_type": "code",
   "execution_count": 13,
   "metadata": {},
   "outputs": [],
   "source": [
    "from sklearn.model_selection import train_test_split"
   ]
  },
  {
   "cell_type": "code",
   "execution_count": 14,
   "metadata": {},
   "outputs": [],
   "source": [
    "X_train, X_test, y_train, y_test = train_test_split(allpatients.drop(['Chory'],axis=1), \n",
    "                                                    allpatients['Chory'], \n",
    "                                                    test_size=0.20, \n",
    "                                                    random_state=42)"
   ]
  },
  {
   "cell_type": "markdown",
   "metadata": {},
   "source": [
    "# Training and predicting"
   ]
  },
  {
   "cell_type": "code",
   "execution_count": 15,
   "metadata": {},
   "outputs": [],
   "source": [
    "from sklearn.linear_model import LogisticRegression"
   ]
  },
  {
   "cell_type": "code",
   "execution_count": 30,
   "metadata": {},
   "outputs": [
    {
     "name": "stderr",
     "output_type": "stream",
     "text": [
      "/home/barti/miniconda3/lib/python3.7/site-packages/sklearn/linear_model/logistic.py:432: FutureWarning: Default solver will be changed to 'lbfgs' in 0.22. Specify a solver to silence this warning.\n",
      "  FutureWarning)\n"
     ]
    },
    {
     "data": {
      "text/plain": [
       "LogisticRegression(C=0.1, class_weight=None, dual=False, fit_intercept=True,\n",
       "          intercept_scaling=1, max_iter=1000, multi_class='warn',\n",
       "          n_jobs=None, penalty='l2', random_state=None, solver='warn',\n",
       "          tol=0.0001, verbose=0, warm_start=False)"
      ]
     },
     "execution_count": 30,
     "metadata": {},
     "output_type": "execute_result"
    }
   ],
   "source": [
    "logModel = LogisticRegression(max_iter=1000, C = 0.1)\n",
    "logModel.fit(X_train, y_train)"
   ]
  },
  {
   "cell_type": "code",
   "execution_count": 31,
   "metadata": {},
   "outputs": [],
   "source": [
    "prediction = logModel.predict(X_test)"
   ]
  },
  {
   "cell_type": "markdown",
   "metadata": {},
   "source": [
    "# Evaluation\n",
    "Check precission, recall, f1-score using classification report"
   ]
  },
  {
   "cell_type": "code",
   "execution_count": 32,
   "metadata": {},
   "outputs": [],
   "source": [
    "from sklearn.metrics import classification_report, confusion_matrix"
   ]
  },
  {
   "cell_type": "code",
   "execution_count": 33,
   "metadata": {},
   "outputs": [
    {
     "name": "stdout",
     "output_type": "stream",
     "text": [
      "              precision    recall  f1-score   support\n",
      "\n",
      "           0       0.75      0.60      0.67        10\n",
      "           1       0.64      0.78      0.70         9\n",
      "\n",
      "   micro avg       0.68      0.68      0.68        19\n",
      "   macro avg       0.69      0.69      0.68        19\n",
      "weighted avg       0.70      0.68      0.68        19\n",
      "\n"
     ]
    }
   ],
   "source": [
    "print(classification_report(y_test,prediction))"
   ]
  },
  {
   "cell_type": "code",
   "execution_count": 20,
   "metadata": {},
   "outputs": [
    {
     "name": "stdout",
     "output_type": "stream",
     "text": [
      "[[6 4]\n",
      " [2 7]]\n"
     ]
    }
   ],
   "source": [
    "print(confusion_matrix(y_test,prediction))"
   ]
  },
  {
   "cell_type": "markdown",
   "metadata": {},
   "source": [
    "# Random Forest"
   ]
  },
  {
   "cell_type": "code",
   "execution_count": 21,
   "metadata": {},
   "outputs": [],
   "source": [
    "from sklearn.ensemble import RandomForestClassifier"
   ]
  },
  {
   "cell_type": "code",
   "execution_count": 22,
   "metadata": {},
   "outputs": [],
   "source": [
    "clf = RandomForestClassifier(n_estimators=100)"
   ]
  },
  {
   "cell_type": "code",
   "execution_count": 23,
   "metadata": {},
   "outputs": [
    {
     "data": {
      "text/plain": [
       "RandomForestClassifier(bootstrap=True, class_weight=None, criterion='gini',\n",
       "            max_depth=None, max_features='auto', max_leaf_nodes=None,\n",
       "            min_impurity_decrease=0.0, min_impurity_split=None,\n",
       "            min_samples_leaf=1, min_samples_split=2,\n",
       "            min_weight_fraction_leaf=0.0, n_estimators=100, n_jobs=None,\n",
       "            oob_score=False, random_state=None, verbose=0,\n",
       "            warm_start=False)"
      ]
     },
     "execution_count": 23,
     "metadata": {},
     "output_type": "execute_result"
    }
   ],
   "source": [
    "clf.fit(X_train, y_train)"
   ]
  },
  {
   "cell_type": "code",
   "execution_count": 24,
   "metadata": {},
   "outputs": [],
   "source": [
    "prediction = clf.predict(X_test)"
   ]
  },
  {
   "cell_type": "markdown",
   "metadata": {},
   "source": [
    "# Evaluation"
   ]
  },
  {
   "cell_type": "code",
   "execution_count": 25,
   "metadata": {},
   "outputs": [
    {
     "name": "stdout",
     "output_type": "stream",
     "text": [
      "              precision    recall  f1-score   support\n",
      "\n",
      "           0       0.78      0.70      0.74        10\n",
      "           1       0.70      0.78      0.74         9\n",
      "\n",
      "   micro avg       0.74      0.74      0.74        19\n",
      "   macro avg       0.74      0.74      0.74        19\n",
      "weighted avg       0.74      0.74      0.74        19\n",
      "\n"
     ]
    }
   ],
   "source": [
    "print(classification_report(y_test, prediction))"
   ]
  },
  {
   "cell_type": "code",
   "execution_count": 26,
   "metadata": {},
   "outputs": [
    {
     "name": "stdout",
     "output_type": "stream",
     "text": [
      "[[7 3]\n",
      " [2 7]]\n"
     ]
    }
   ],
   "source": [
    "print(confusion_matrix(y_test, prediction))"
   ]
  },
  {
   "cell_type": "code",
   "execution_count": 27,
   "metadata": {},
   "outputs": [],
   "source": [
    "feature_importance = clf.feature_importances_"
   ]
  },
  {
   "cell_type": "code",
   "execution_count": 34,
   "metadata": {},
   "outputs": [
    {
     "data": {
      "text/plain": [
       "[Text(0,0,'MAX'),\n",
       " Text(0,0,'MIN'),\n",
       " Text(0,0,'RMS'),\n",
       " Text(0,0,'KURTOSIS'),\n",
       " Text(0,0,'SKEWNESS')]"
      ]
     },
     "execution_count": 34,
     "metadata": {},
     "output_type": "execute_result"
    },
    {
     "data": {
      "image/png": "[encoded data removed]",
      "text/plain": [
       "<Figure size 720x432 with 1 Axes>"
      ]
     },
     "metadata": {
      "needs_background": "light"
     },
     "output_type": "display_data"
    }
   ],
   "source": [
    "fig, ax = plt.subplots()\n",
    "fig.set_size_inches(10, 6)\n",
    "plt.grid(b=False)\n",
    "ind = np.arange(len(feature_importance))  # the x locations for the groups\n",
    "width = 0.5  # the width of the bars\n",
    "ax.bar(ind, feature_importance, width, color='IndianRed')\n",
    "ax.set_ylabel('Waga parametru')\n",
    "ax.set_xticks(ind)\n",
    "ax.set_xticklabels(allpatients.drop(['Chory'],axis=1).columns)"
   ]
  },
  {
   "cell_type": "code",
   "execution_count": 29,
   "metadata": {},
   "outputs": [
    {
     "data": {
      "text/plain": [
       "Index(['MAX', 'MIN', 'RMS', 'KURTOSIS'], dtype='object')"
      ]
     },
     "execution_count": 29,
     "metadata": {},
     "output_type": "execute_result"
    }
   ],
   "source": [
    "allpatients.drop(['SKEWNESS','Chory'],axis=1).columns"
   ]
  },
  {
   "cell_type": "code",
   "execution_count": null,
   "metadata": {},
   "outputs": [],
   "source": []
  }
 ],
 "metadata": {
  "kernelspec": {
   "display_name": "Python 3",
   "language": "python",
   "name": "python3"
  },
  "language_info": {
   "codemirror_mode": {
    "name": "ipython",
    "version": 3
   },
   "file_extension": ".py",
   "mimetype": "text/x-python",
   "name": "python",
   "nbconvert_exporter": "python",
   "pygments_lexer": "ipython3",
   "version": "3.7.0"
  }
 },
 "nbformat": 4,
 "nbformat_minor": 2
}
