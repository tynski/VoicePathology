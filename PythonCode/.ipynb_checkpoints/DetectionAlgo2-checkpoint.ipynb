{
 "cells": [
  {
   "cell_type": "code",
   "execution_count": 1,
   "metadata": {},
   "outputs": [],
   "source": [
    "import numpy as np\n",
    "import pandas as pd\n",
    "import matplotlib.pyplot as plt"
   ]
  },
  {
   "cell_type": "markdown",
   "metadata": {},
   "source": [
    "# Parameters Vector\n",
    "\n",
    "Load, merge, normalization vector of parameters."
   ]
  },
  {
   "cell_type": "code",
   "execution_count": 2,
   "metadata": {
    "scrolled": true
   },
   "outputs": [],
   "source": [
    "# Loading each csv file\n",
    "df1 = pd.read_csv('mh2.csv')\n",
    "df2 = pd.read_csv('mp2.csv')"
   ]
  },
  {
   "cell_type": "markdown",
   "metadata": {},
   "source": [
    "Concatenating all four DataFrames into one."
   ]
  },
  {
   "cell_type": "code",
   "execution_count": 3,
   "metadata": {},
   "outputs": [
    {
     "data": {
      "text/html": [
       "<div>\n",
       "<style scoped>\n",
       "    .dataframe tbody tr th:only-of-type {\n",
       "        vertical-align: middle;\n",
       "    }\n",
       "\n",
       "    .dataframe tbody tr th {\n",
       "        vertical-align: top;\n",
       "    }\n",
       "\n",
       "    .dataframe thead th {\n",
       "        text-align: right;\n",
       "    }\n",
       "</style>\n",
       "<table border=\"1\" class=\"dataframe\">\n",
       "  <thead>\n",
       "    <tr style=\"text-align: right;\">\n",
       "      <th></th>\n",
       "      <th>MFCC1</th>\n",
       "      <th>MFCC2</th>\n",
       "      <th>MFCC3</th>\n",
       "      <th>MCCC4</th>\n",
       "      <th>MFCC5</th>\n",
       "      <th>MFCC6</th>\n",
       "      <th>MFCC7</th>\n",
       "      <th>MFCC8</th>\n",
       "      <th>MFCC9</th>\n",
       "      <th>MFCC10</th>\n",
       "      <th>RMS</th>\n",
       "      <th>ZCR</th>\n",
       "      <th>F0</th>\n",
       "      <th>MAX</th>\n",
       "      <th>MIN</th>\n",
       "      <th>KURTOSIS</th>\n",
       "      <th>SKEWNESS</th>\n",
       "      <th>Status</th>\n",
       "    </tr>\n",
       "  </thead>\n",
       "  <tbody>\n",
       "    <tr>\n",
       "      <th>0</th>\n",
       "      <td>-159.228454</td>\n",
       "      <td>228.193813</td>\n",
       "      <td>-72.860847</td>\n",
       "      <td>12.054815</td>\n",
       "      <td>-20.038634</td>\n",
       "      <td>-51.429874</td>\n",
       "      <td>35.373472</td>\n",
       "      <td>10.206009</td>\n",
       "      <td>-14.105386</td>\n",
       "      <td>20.784272</td>\n",
       "      <td>0.191970</td>\n",
       "      <td>0.058613</td>\n",
       "      <td>720.264769</td>\n",
       "      <td>0.889806</td>\n",
       "      <td>-0.896195</td>\n",
       "      <td>1.154653</td>\n",
       "      <td>-0.278985</td>\n",
       "      <td>Zdrowy</td>\n",
       "    </tr>\n",
       "    <tr>\n",
       "      <th>1</th>\n",
       "      <td>-204.708499</td>\n",
       "      <td>207.781207</td>\n",
       "      <td>-12.110173</td>\n",
       "      <td>12.437783</td>\n",
       "      <td>-40.503349</td>\n",
       "      <td>-32.549806</td>\n",
       "      <td>40.207563</td>\n",
       "      <td>8.010343</td>\n",
       "      <td>-12.046658</td>\n",
       "      <td>16.719370</td>\n",
       "      <td>0.196364</td>\n",
       "      <td>0.050996</td>\n",
       "      <td>603.209538</td>\n",
       "      <td>0.672834</td>\n",
       "      <td>-0.710505</td>\n",
       "      <td>0.712838</td>\n",
       "      <td>-0.001326</td>\n",
       "      <td>Zdrowy</td>\n",
       "    </tr>\n",
       "    <tr>\n",
       "      <th>2</th>\n",
       "      <td>-157.689670</td>\n",
       "      <td>158.392612</td>\n",
       "      <td>-20.268936</td>\n",
       "      <td>-23.122210</td>\n",
       "      <td>-24.057687</td>\n",
       "      <td>-1.290258</td>\n",
       "      <td>-3.201497</td>\n",
       "      <td>19.062324</td>\n",
       "      <td>-4.286181</td>\n",
       "      <td>-1.997700</td>\n",
       "      <td>0.296786</td>\n",
       "      <td>0.043701</td>\n",
       "      <td>163.329506</td>\n",
       "      <td>0.744064</td>\n",
       "      <td>-0.894037</td>\n",
       "      <td>-0.551092</td>\n",
       "      <td>-0.497380</td>\n",
       "      <td>Zdrowy</td>\n",
       "    </tr>\n",
       "    <tr>\n",
       "      <th>3</th>\n",
       "      <td>-181.300498</td>\n",
       "      <td>177.593669</td>\n",
       "      <td>-51.088376</td>\n",
       "      <td>-24.461940</td>\n",
       "      <td>-57.598126</td>\n",
       "      <td>0.440502</td>\n",
       "      <td>-3.809813</td>\n",
       "      <td>-16.638550</td>\n",
       "      <td>21.301314</td>\n",
       "      <td>-16.934414</td>\n",
       "      <td>0.233847</td>\n",
       "      <td>0.060660</td>\n",
       "      <td>686.694160</td>\n",
       "      <td>0.703910</td>\n",
       "      <td>-0.825614</td>\n",
       "      <td>0.336882</td>\n",
       "      <td>-0.277044</td>\n",
       "      <td>Zdrowy</td>\n",
       "    </tr>\n",
       "    <tr>\n",
       "      <th>4</th>\n",
       "      <td>-209.331041</td>\n",
       "      <td>167.875868</td>\n",
       "      <td>24.361445</td>\n",
       "      <td>-6.392606</td>\n",
       "      <td>-43.618375</td>\n",
       "      <td>-14.668151</td>\n",
       "      <td>-20.248995</td>\n",
       "      <td>6.420878</td>\n",
       "      <td>22.613143</td>\n",
       "      <td>-25.737221</td>\n",
       "      <td>0.223332</td>\n",
       "      <td>0.048652</td>\n",
       "      <td>595.256540</td>\n",
       "      <td>0.878490</td>\n",
       "      <td>-0.934842</td>\n",
       "      <td>0.127053</td>\n",
       "      <td>-0.143786</td>\n",
       "      <td>Zdrowy</td>\n",
       "    </tr>\n",
       "  </tbody>\n",
       "</table>\n",
       "</div>"
      ],
      "text/plain": [
       "        MFCC1       MFCC2      MFCC3      MCCC4      MFCC5      MFCC6  \\\n",
       "0 -159.228454  228.193813 -72.860847  12.054815 -20.038634 -51.429874   \n",
       "1 -204.708499  207.781207 -12.110173  12.437783 -40.503349 -32.549806   \n",
       "2 -157.689670  158.392612 -20.268936 -23.122210 -24.057687  -1.290258   \n",
       "3 -181.300498  177.593669 -51.088376 -24.461940 -57.598126   0.440502   \n",
       "4 -209.331041  167.875868  24.361445  -6.392606 -43.618375 -14.668151   \n",
       "\n",
       "       MFCC7      MFCC8      MFCC9     MFCC10       RMS       ZCR          F0  \\\n",
       "0  35.373472  10.206009 -14.105386  20.784272  0.191970  0.058613  720.264769   \n",
       "1  40.207563   8.010343 -12.046658  16.719370  0.196364  0.050996  603.209538   \n",
       "2  -3.201497  19.062324  -4.286181  -1.997700  0.296786  0.043701  163.329506   \n",
       "3  -3.809813 -16.638550  21.301314 -16.934414  0.233847  0.060660  686.694160   \n",
       "4 -20.248995   6.420878  22.613143 -25.737221  0.223332  0.048652  595.256540   \n",
       "\n",
       "        MAX       MIN  KURTOSIS  SKEWNESS  Status  \n",
       "0  0.889806 -0.896195  1.154653 -0.278985  Zdrowy  \n",
       "1  0.672834 -0.710505  0.712838 -0.001326  Zdrowy  \n",
       "2  0.744064 -0.894037 -0.551092 -0.497380  Zdrowy  \n",
       "3  0.703910 -0.825614  0.336882 -0.277044  Zdrowy  \n",
       "4  0.878490 -0.934842  0.127053 -0.143786  Zdrowy  "
      ]
     },
     "execution_count": 3,
     "metadata": {},
     "output_type": "execute_result"
    }
   ],
   "source": [
    "allpatients = pd.concat([df1,df2])\n",
    "allpatients.head()"
   ]
  },
  {
   "cell_type": "markdown",
   "metadata": {},
   "source": [
    "Features has diffrent rows, so they have to be normalized."
   ]
  },
  {
   "cell_type": "code",
   "execution_count": 4,
   "metadata": {},
   "outputs": [
    {
     "data": {
      "text/html": [
       "<div>\n",
       "<style scoped>\n",
       "    .dataframe tbody tr th:only-of-type {\n",
       "        vertical-align: middle;\n",
       "    }\n",
       "\n",
       "    .dataframe tbody tr th {\n",
       "        vertical-align: top;\n",
       "    }\n",
       "\n",
       "    .dataframe thead th {\n",
       "        text-align: right;\n",
       "    }\n",
       "</style>\n",
       "<table border=\"1\" class=\"dataframe\">\n",
       "  <thead>\n",
       "    <tr style=\"text-align: right;\">\n",
       "      <th></th>\n",
       "      <th>MFCC1</th>\n",
       "      <th>MFCC2</th>\n",
       "      <th>MFCC3</th>\n",
       "      <th>MCCC4</th>\n",
       "      <th>MFCC5</th>\n",
       "      <th>MFCC6</th>\n",
       "      <th>MFCC7</th>\n",
       "      <th>MFCC8</th>\n",
       "      <th>MFCC9</th>\n",
       "      <th>MFCC10</th>\n",
       "      <th>RMS</th>\n",
       "      <th>ZCR</th>\n",
       "      <th>F0</th>\n",
       "      <th>MAX</th>\n",
       "      <th>MIN</th>\n",
       "      <th>KURTOSIS</th>\n",
       "      <th>SKEWNESS</th>\n",
       "      <th>Status</th>\n",
       "    </tr>\n",
       "  </thead>\n",
       "  <tbody>\n",
       "    <tr>\n",
       "      <th>0</th>\n",
       "      <td>1.230862</td>\n",
       "      <td>2.229868</td>\n",
       "      <td>-2.622795</td>\n",
       "      <td>1.277963</td>\n",
       "      <td>0.785817</td>\n",
       "      <td>-1.905613</td>\n",
       "      <td>2.012611</td>\n",
       "      <td>0.239093</td>\n",
       "      <td>-0.712632</td>\n",
       "      <td>2.031726</td>\n",
       "      <td>0.166444</td>\n",
       "      <td>1.060789</td>\n",
       "      <td>1.205715</td>\n",
       "      <td>1.954041</td>\n",
       "      <td>-1.189324</td>\n",
       "      <td>0.753358</td>\n",
       "      <td>-0.525108</td>\n",
       "      <td>Zdrowy</td>\n",
       "    </tr>\n",
       "    <tr>\n",
       "      <th>1</th>\n",
       "      <td>-0.228379</td>\n",
       "      <td>1.391179</td>\n",
       "      <td>-0.124412</td>\n",
       "      <td>1.303053</td>\n",
       "      <td>-0.596406</td>\n",
       "      <td>-0.857634</td>\n",
       "      <td>2.350293</td>\n",
       "      <td>0.055444</td>\n",
       "      <td>-0.551976</td>\n",
       "      <td>1.710393</td>\n",
       "      <td>0.254417</td>\n",
       "      <td>0.434467</td>\n",
       "      <td>0.700436</td>\n",
       "      <td>0.692795</td>\n",
       "      <td>-0.250665</td>\n",
       "      <td>0.359450</td>\n",
       "      <td>0.204687</td>\n",
       "      <td>Zdrowy</td>\n",
       "    </tr>\n",
       "    <tr>\n",
       "      <th>2</th>\n",
       "      <td>1.280234</td>\n",
       "      <td>-0.638041</td>\n",
       "      <td>-0.459943</td>\n",
       "      <td>-1.026614</td>\n",
       "      <td>0.514363</td>\n",
       "      <td>0.877496</td>\n",
       "      <td>-0.682022</td>\n",
       "      <td>0.979853</td>\n",
       "      <td>0.053624</td>\n",
       "      <td>0.230800</td>\n",
       "      <td>2.264831</td>\n",
       "      <td>-0.165417</td>\n",
       "      <td>-1.198344</td>\n",
       "      <td>1.106851</td>\n",
       "      <td>-1.178419</td>\n",
       "      <td>-0.767428</td>\n",
       "      <td>-1.099133</td>\n",
       "      <td>Zdrowy</td>\n",
       "    </tr>\n",
       "    <tr>\n",
       "      <th>3</th>\n",
       "      <td>0.522673</td>\n",
       "      <td>0.150869</td>\n",
       "      <td>-1.727398</td>\n",
       "      <td>-1.114385</td>\n",
       "      <td>-1.751018</td>\n",
       "      <td>0.973565</td>\n",
       "      <td>-0.724515</td>\n",
       "      <td>-2.006238</td>\n",
       "      <td>2.050381</td>\n",
       "      <td>-0.949954</td>\n",
       "      <td>1.004825</td>\n",
       "      <td>1.229122</td>\n",
       "      <td>1.060804</td>\n",
       "      <td>0.873436</td>\n",
       "      <td>-0.832542</td>\n",
       "      <td>0.024261</td>\n",
       "      <td>-0.520005</td>\n",
       "      <td>Zdrowy</td>\n",
       "    </tr>\n",
       "    <tr>\n",
       "      <th>4</th>\n",
       "      <td>-0.376695</td>\n",
       "      <td>-0.248404</td>\n",
       "      <td>1.375490</td>\n",
       "      <td>0.069404</td>\n",
       "      <td>-0.806801</td>\n",
       "      <td>0.134926</td>\n",
       "      <td>-1.872865</td>\n",
       "      <td>-0.077502</td>\n",
       "      <td>2.152751</td>\n",
       "      <td>-1.645820</td>\n",
       "      <td>0.794305</td>\n",
       "      <td>0.241733</td>\n",
       "      <td>0.666106</td>\n",
       "      <td>1.888259</td>\n",
       "      <td>-1.384687</td>\n",
       "      <td>-0.162816</td>\n",
       "      <td>-0.169754</td>\n",
       "      <td>Zdrowy</td>\n",
       "    </tr>\n",
       "  </tbody>\n",
       "</table>\n",
       "</div>"
      ],
      "text/plain": [
       "      MFCC1     MFCC2     MFCC3     MCCC4     MFCC5     MFCC6     MFCC7  \\\n",
       "0  1.230862  2.229868 -2.622795  1.277963  0.785817 -1.905613  2.012611   \n",
       "1 -0.228379  1.391179 -0.124412  1.303053 -0.596406 -0.857634  2.350293   \n",
       "2  1.280234 -0.638041 -0.459943 -1.026614  0.514363  0.877496 -0.682022   \n",
       "3  0.522673  0.150869 -1.727398 -1.114385 -1.751018  0.973565 -0.724515   \n",
       "4 -0.376695 -0.248404  1.375490  0.069404 -0.806801  0.134926 -1.872865   \n",
       "\n",
       "      MFCC8     MFCC9    MFCC10       RMS       ZCR        F0       MAX  \\\n",
       "0  0.239093 -0.712632  2.031726  0.166444  1.060789  1.205715  1.954041   \n",
       "1  0.055444 -0.551976  1.710393  0.254417  0.434467  0.700436  0.692795   \n",
       "2  0.979853  0.053624  0.230800  2.264831 -0.165417 -1.198344  1.106851   \n",
       "3 -2.006238  2.050381 -0.949954  1.004825  1.229122  1.060804  0.873436   \n",
       "4 -0.077502  2.152751 -1.645820  0.794305  0.241733  0.666106  1.888259   \n",
       "\n",
       "        MIN  KURTOSIS  SKEWNESS  Status  \n",
       "0 -1.189324  0.753358 -0.525108  Zdrowy  \n",
       "1 -0.250665  0.359450  0.204687  Zdrowy  \n",
       "2 -1.178419 -0.767428 -1.099133  Zdrowy  \n",
       "3 -0.832542  0.024261 -0.520005  Zdrowy  \n",
       "4 -1.384687 -0.162816 -0.169754  Zdrowy  "
      ]
     },
     "execution_count": 4,
     "metadata": {},
     "output_type": "execute_result"
    }
   ],
   "source": [
    "features = allpatients.drop(labels='Status',axis=1).columns\n",
    "for i in features:\n",
    "    allpatients[i] = (allpatients[i] - np.mean(allpatients[i]))/np.std(allpatients[i])\n",
    "allpatients.head()"
   ]
  },
  {
   "cell_type": "markdown",
   "metadata": {},
   "source": [
    "Afterwards data have to be suffled, in order to avoid overfitting"
   ]
  },
  {
   "cell_type": "code",
   "execution_count": 5,
   "metadata": {},
   "outputs": [
    {
     "data": {
      "text/html": [
       "<div>\n",
       "<style scoped>\n",
       "    .dataframe tbody tr th:only-of-type {\n",
       "        vertical-align: middle;\n",
       "    }\n",
       "\n",
       "    .dataframe tbody tr th {\n",
       "        vertical-align: top;\n",
       "    }\n",
       "\n",
       "    .dataframe thead th {\n",
       "        text-align: right;\n",
       "    }\n",
       "</style>\n",
       "<table border=\"1\" class=\"dataframe\">\n",
       "  <thead>\n",
       "    <tr style=\"text-align: right;\">\n",
       "      <th></th>\n",
       "      <th>MFCC1</th>\n",
       "      <th>MFCC2</th>\n",
       "      <th>MFCC3</th>\n",
       "      <th>MCCC4</th>\n",
       "      <th>MFCC5</th>\n",
       "      <th>MFCC6</th>\n",
       "      <th>MFCC7</th>\n",
       "      <th>MFCC8</th>\n",
       "      <th>MFCC9</th>\n",
       "      <th>MFCC10</th>\n",
       "      <th>RMS</th>\n",
       "      <th>ZCR</th>\n",
       "      <th>F0</th>\n",
       "      <th>MAX</th>\n",
       "      <th>MIN</th>\n",
       "      <th>KURTOSIS</th>\n",
       "      <th>SKEWNESS</th>\n",
       "      <th>Status</th>\n",
       "    </tr>\n",
       "  </thead>\n",
       "  <tbody>\n",
       "    <tr>\n",
       "      <th>0</th>\n",
       "      <td>-0.063492</td>\n",
       "      <td>0.077590</td>\n",
       "      <td>0.558099</td>\n",
       "      <td>-0.236408</td>\n",
       "      <td>-0.243466</td>\n",
       "      <td>1.217020</td>\n",
       "      <td>-1.889669</td>\n",
       "      <td>0.626038</td>\n",
       "      <td>0.672996</td>\n",
       "      <td>-0.488183</td>\n",
       "      <td>0.009595</td>\n",
       "      <td>0.273855</td>\n",
       "      <td>0.743905</td>\n",
       "      <td>-0.445609</td>\n",
       "      <td>0.705230</td>\n",
       "      <td>-0.927912</td>\n",
       "      <td>0.424004</td>\n",
       "      <td>Chory</td>\n",
       "    </tr>\n",
       "    <tr>\n",
       "      <th>1</th>\n",
       "      <td>0.135521</td>\n",
       "      <td>-0.252397</td>\n",
       "      <td>-0.332045</td>\n",
       "      <td>0.067394</td>\n",
       "      <td>-0.368489</td>\n",
       "      <td>0.089285</td>\n",
       "      <td>-0.767882</td>\n",
       "      <td>-0.140254</td>\n",
       "      <td>-0.452660</td>\n",
       "      <td>-0.476360</td>\n",
       "      <td>0.410458</td>\n",
       "      <td>0.132641</td>\n",
       "      <td>-0.162995</td>\n",
       "      <td>1.644226</td>\n",
       "      <td>-1.193269</td>\n",
       "      <td>1.921579</td>\n",
       "      <td>1.011527</td>\n",
       "      <td>Chory</td>\n",
       "    </tr>\n",
       "    <tr>\n",
       "      <th>2</th>\n",
       "      <td>-0.368128</td>\n",
       "      <td>2.171334</td>\n",
       "      <td>0.526145</td>\n",
       "      <td>0.460719</td>\n",
       "      <td>0.355029</td>\n",
       "      <td>0.569611</td>\n",
       "      <td>-0.628818</td>\n",
       "      <td>-0.415453</td>\n",
       "      <td>0.895946</td>\n",
       "      <td>-2.033090</td>\n",
       "      <td>0.149323</td>\n",
       "      <td>-1.241823</td>\n",
       "      <td>-0.511643</td>\n",
       "      <td>0.348525</td>\n",
       "      <td>-0.340207</td>\n",
       "      <td>-0.051690</td>\n",
       "      <td>0.464388</td>\n",
       "      <td>Zdrowy</td>\n",
       "    </tr>\n",
       "    <tr>\n",
       "      <th>3</th>\n",
       "      <td>-1.176415</td>\n",
       "      <td>-0.433503</td>\n",
       "      <td>0.645507</td>\n",
       "      <td>-1.360850</td>\n",
       "      <td>1.487072</td>\n",
       "      <td>-0.731395</td>\n",
       "      <td>-0.363761</td>\n",
       "      <td>0.803342</td>\n",
       "      <td>-0.911684</td>\n",
       "      <td>-0.443104</td>\n",
       "      <td>-0.273713</td>\n",
       "      <td>-0.483551</td>\n",
       "      <td>0.736208</td>\n",
       "      <td>0.773497</td>\n",
       "      <td>-1.619401</td>\n",
       "      <td>2.238238</td>\n",
       "      <td>-2.143283</td>\n",
       "      <td>Zdrowy</td>\n",
       "    </tr>\n",
       "    <tr>\n",
       "      <th>4</th>\n",
       "      <td>-0.217324</td>\n",
       "      <td>-0.132074</td>\n",
       "      <td>-0.384149</td>\n",
       "      <td>-0.955078</td>\n",
       "      <td>-0.498024</td>\n",
       "      <td>-0.365082</td>\n",
       "      <td>-0.932973</td>\n",
       "      <td>0.347975</td>\n",
       "      <td>-0.672938</td>\n",
       "      <td>-1.329321</td>\n",
       "      <td>0.962392</td>\n",
       "      <td>1.295529</td>\n",
       "      <td>1.166239</td>\n",
       "      <td>0.101522</td>\n",
       "      <td>-0.695151</td>\n",
       "      <td>-0.075072</td>\n",
       "      <td>-0.466835</td>\n",
       "      <td>Zdrowy</td>\n",
       "    </tr>\n",
       "  </tbody>\n",
       "</table>\n",
       "</div>"
      ],
      "text/plain": [
       "      MFCC1     MFCC2     MFCC3     MCCC4     MFCC5     MFCC6     MFCC7  \\\n",
       "0 -0.063492  0.077590  0.558099 -0.236408 -0.243466  1.217020 -1.889669   \n",
       "1  0.135521 -0.252397 -0.332045  0.067394 -0.368489  0.089285 -0.767882   \n",
       "2 -0.368128  2.171334  0.526145  0.460719  0.355029  0.569611 -0.628818   \n",
       "3 -1.176415 -0.433503  0.645507 -1.360850  1.487072 -0.731395 -0.363761   \n",
       "4 -0.217324 -0.132074 -0.384149 -0.955078 -0.498024 -0.365082 -0.932973   \n",
       "\n",
       "      MFCC8     MFCC9    MFCC10       RMS       ZCR        F0       MAX  \\\n",
       "0  0.626038  0.672996 -0.488183  0.009595  0.273855  0.743905 -0.445609   \n",
       "1 -0.140254 -0.452660 -0.476360  0.410458  0.132641 -0.162995  1.644226   \n",
       "2 -0.415453  0.895946 -2.033090  0.149323 -1.241823 -0.511643  0.348525   \n",
       "3  0.803342 -0.911684 -0.443104 -0.273713 -0.483551  0.736208  0.773497   \n",
       "4  0.347975 -0.672938 -1.329321  0.962392  1.295529  1.166239  0.101522   \n",
       "\n",
       "        MIN  KURTOSIS  SKEWNESS  Status  \n",
       "0  0.705230 -0.927912  0.424004   Chory  \n",
       "1 -1.193269  1.921579  1.011527   Chory  \n",
       "2 -0.340207 -0.051690  0.464388  Zdrowy  \n",
       "3 -1.619401  2.238238 -2.143283  Zdrowy  \n",
       "4 -0.695151 -0.075072 -0.466835  Zdrowy  "
      ]
     },
     "execution_count": 5,
     "metadata": {},
     "output_type": "execute_result"
    }
   ],
   "source": [
    "allpatients = allpatients.sample(frac=1).reset_index(drop=True)\n",
    "allpatients.head()"
   ]
  },
  {
   "cell_type": "markdown",
   "metadata": {},
   "source": [
    "# PCA"
   ]
  },
  {
   "cell_type": "code",
   "execution_count": 6,
   "metadata": {},
   "outputs": [],
   "source": [
    "from sklearn.decomposition import PCA"
   ]
  },
  {
   "cell_type": "code",
   "execution_count": 7,
   "metadata": {},
   "outputs": [],
   "source": [
    "pca = PCA(n_components=3)\n",
    "pca.fit(allpatients.drop(['Status'], axis=1))\n",
    "X = pca.transform(allpatients.drop(['Status'], axis=1))\n",
    "X = pd.DataFrame(X, columns=['A','B','C'])\n",
    "X['Status'] = allpatients['Status']"
   ]
  },
  {
   "cell_type": "code",
   "execution_count": 8,
   "metadata": {},
   "outputs": [],
   "source": [
    "from mpl_toolkits.mplot3d import Axes3D"
   ]
  },
  {
   "cell_type": "code",
   "execution_count": 9,
   "metadata": {},
   "outputs": [
    {
     "data": {
      "image/png": "[encoded data removed]",
      "text/plain": [
       "<Figure size 1152x756 with 1 Axes>"
      ]
     },
     "metadata": {
      "needs_background": "light"
     },
     "output_type": "display_data"
    }
   ],
   "source": [
    "fig = plt.figure()\n",
    "fig.set_size_inches(16, 10.5)\n",
    "ax = fig.add_subplot(111, projection='3d')\n",
    "ax.scatter(X[X['Status']=='Zdrowy']['A'],\n",
    "           X[X['Status']=='Zdrowy']['B'],\n",
    "           X[X['Status']=='Zdrowy']['C'],\n",
    "           s=100,\n",
    "           c='r',\n",
    "           marker='o',\n",
    "           label='Zdrowy')\n",
    "ax.scatter(X[X['Status']=='Chory']['A'],\n",
    "           X[X['Status']=='Chory']['B'],\n",
    "           X[X['Status']=='Chory']['C'],\n",
    "           s=100,\n",
    "           c='b',\n",
    "           marker='v',\n",
    "           label='Chory')\n",
    "plt.legend(loc='upper right', frameon = True, title = 'Stan pacjenta')\n",
    "ax.set_yticklabels([])\n",
    "ax.set_xticklabels([])\n",
    "ax.set_zticklabels([])\n",
    "ax.set_xlabel('Pierwsza główna składowa')\n",
    "ax.set_ylabel('Druga głowna składowa')\n",
    "ax.set_zlabel('Trzecia głowna składowa')\n",
    "plt.show()"
   ]
  },
  {
   "cell_type": "markdown",
   "metadata": {},
   "source": [
    "# Dummy variables\n",
    "We'll need to convert categorical features (Status) to dummy variables, because our alghoritm can't understant what means 'healthy'."
   ]
  },
  {
   "cell_type": "code",
   "execution_count": 10,
   "metadata": {},
   "outputs": [],
   "source": [
    "status = pd.get_dummies(allpatients['Status'],drop_first=True)"
   ]
  },
  {
   "cell_type": "code",
   "execution_count": 11,
   "metadata": {},
   "outputs": [],
   "source": [
    "allpatients.drop(['Status'],axis=1,inplace=True)"
   ]
  },
  {
   "cell_type": "code",
   "execution_count": 12,
   "metadata": {},
   "outputs": [
    {
     "data": {
      "text/html": [
       "<div>\n",
       "<style scoped>\n",
       "    .dataframe tbody tr th:only-of-type {\n",
       "        vertical-align: middle;\n",
       "    }\n",
       "\n",
       "    .dataframe tbody tr th {\n",
       "        vertical-align: top;\n",
       "    }\n",
       "\n",
       "    .dataframe thead th {\n",
       "        text-align: right;\n",
       "    }\n",
       "</style>\n",
       "<table border=\"1\" class=\"dataframe\">\n",
       "  <thead>\n",
       "    <tr style=\"text-align: right;\">\n",
       "      <th></th>\n",
       "      <th>MFCC1</th>\n",
       "      <th>MFCC2</th>\n",
       "      <th>MFCC3</th>\n",
       "      <th>MCCC4</th>\n",
       "      <th>MFCC5</th>\n",
       "      <th>MFCC6</th>\n",
       "      <th>MFCC7</th>\n",
       "      <th>MFCC8</th>\n",
       "      <th>MFCC9</th>\n",
       "      <th>MFCC10</th>\n",
       "      <th>RMS</th>\n",
       "      <th>ZCR</th>\n",
       "      <th>F0</th>\n",
       "      <th>MAX</th>\n",
       "      <th>MIN</th>\n",
       "      <th>KURTOSIS</th>\n",
       "      <th>SKEWNESS</th>\n",
       "      <th>Chory</th>\n",
       "    </tr>\n",
       "  </thead>\n",
       "  <tbody>\n",
       "    <tr>\n",
       "      <th>0</th>\n",
       "      <td>-0.063492</td>\n",
       "      <td>0.077590</td>\n",
       "      <td>0.558099</td>\n",
       "      <td>-0.236408</td>\n",
       "      <td>-0.243466</td>\n",
       "      <td>1.217020</td>\n",
       "      <td>-1.889669</td>\n",
       "      <td>0.626038</td>\n",
       "      <td>0.672996</td>\n",
       "      <td>-0.488183</td>\n",
       "      <td>0.009595</td>\n",
       "      <td>0.273855</td>\n",
       "      <td>0.743905</td>\n",
       "      <td>-0.445609</td>\n",
       "      <td>0.705230</td>\n",
       "      <td>-0.927912</td>\n",
       "      <td>0.424004</td>\n",
       "      <td>0</td>\n",
       "    </tr>\n",
       "    <tr>\n",
       "      <th>1</th>\n",
       "      <td>0.135521</td>\n",
       "      <td>-0.252397</td>\n",
       "      <td>-0.332045</td>\n",
       "      <td>0.067394</td>\n",
       "      <td>-0.368489</td>\n",
       "      <td>0.089285</td>\n",
       "      <td>-0.767882</td>\n",
       "      <td>-0.140254</td>\n",
       "      <td>-0.452660</td>\n",
       "      <td>-0.476360</td>\n",
       "      <td>0.410458</td>\n",
       "      <td>0.132641</td>\n",
       "      <td>-0.162995</td>\n",
       "      <td>1.644226</td>\n",
       "      <td>-1.193269</td>\n",
       "      <td>1.921579</td>\n",
       "      <td>1.011527</td>\n",
       "      <td>0</td>\n",
       "    </tr>\n",
       "    <tr>\n",
       "      <th>2</th>\n",
       "      <td>-0.368128</td>\n",
       "      <td>2.171334</td>\n",
       "      <td>0.526145</td>\n",
       "      <td>0.460719</td>\n",
       "      <td>0.355029</td>\n",
       "      <td>0.569611</td>\n",
       "      <td>-0.628818</td>\n",
       "      <td>-0.415453</td>\n",
       "      <td>0.895946</td>\n",
       "      <td>-2.033090</td>\n",
       "      <td>0.149323</td>\n",
       "      <td>-1.241823</td>\n",
       "      <td>-0.511643</td>\n",
       "      <td>0.348525</td>\n",
       "      <td>-0.340207</td>\n",
       "      <td>-0.051690</td>\n",
       "      <td>0.464388</td>\n",
       "      <td>1</td>\n",
       "    </tr>\n",
       "    <tr>\n",
       "      <th>3</th>\n",
       "      <td>-1.176415</td>\n",
       "      <td>-0.433503</td>\n",
       "      <td>0.645507</td>\n",
       "      <td>-1.360850</td>\n",
       "      <td>1.487072</td>\n",
       "      <td>-0.731395</td>\n",
       "      <td>-0.363761</td>\n",
       "      <td>0.803342</td>\n",
       "      <td>-0.911684</td>\n",
       "      <td>-0.443104</td>\n",
       "      <td>-0.273713</td>\n",
       "      <td>-0.483551</td>\n",
       "      <td>0.736208</td>\n",
       "      <td>0.773497</td>\n",
       "      <td>-1.619401</td>\n",
       "      <td>2.238238</td>\n",
       "      <td>-2.143283</td>\n",
       "      <td>1</td>\n",
       "    </tr>\n",
       "    <tr>\n",
       "      <th>4</th>\n",
       "      <td>-0.217324</td>\n",
       "      <td>-0.132074</td>\n",
       "      <td>-0.384149</td>\n",
       "      <td>-0.955078</td>\n",
       "      <td>-0.498024</td>\n",
       "      <td>-0.365082</td>\n",
       "      <td>-0.932973</td>\n",
       "      <td>0.347975</td>\n",
       "      <td>-0.672938</td>\n",
       "      <td>-1.329321</td>\n",
       "      <td>0.962392</td>\n",
       "      <td>1.295529</td>\n",
       "      <td>1.166239</td>\n",
       "      <td>0.101522</td>\n",
       "      <td>-0.695151</td>\n",
       "      <td>-0.075072</td>\n",
       "      <td>-0.466835</td>\n",
       "      <td>1</td>\n",
       "    </tr>\n",
       "  </tbody>\n",
       "</table>\n",
       "</div>"
      ],
      "text/plain": [
       "      MFCC1     MFCC2     MFCC3     MCCC4     MFCC5     MFCC6     MFCC7  \\\n",
       "0 -0.063492  0.077590  0.558099 -0.236408 -0.243466  1.217020 -1.889669   \n",
       "1  0.135521 -0.252397 -0.332045  0.067394 -0.368489  0.089285 -0.767882   \n",
       "2 -0.368128  2.171334  0.526145  0.460719  0.355029  0.569611 -0.628818   \n",
       "3 -1.176415 -0.433503  0.645507 -1.360850  1.487072 -0.731395 -0.363761   \n",
       "4 -0.217324 -0.132074 -0.384149 -0.955078 -0.498024 -0.365082 -0.932973   \n",
       "\n",
       "      MFCC8     MFCC9    MFCC10       RMS       ZCR        F0       MAX  \\\n",
       "0  0.626038  0.672996 -0.488183  0.009595  0.273855  0.743905 -0.445609   \n",
       "1 -0.140254 -0.452660 -0.476360  0.410458  0.132641 -0.162995  1.644226   \n",
       "2 -0.415453  0.895946 -2.033090  0.149323 -1.241823 -0.511643  0.348525   \n",
       "3  0.803342 -0.911684 -0.443104 -0.273713 -0.483551  0.736208  0.773497   \n",
       "4  0.347975 -0.672938 -1.329321  0.962392  1.295529  1.166239  0.101522   \n",
       "\n",
       "        MIN  KURTOSIS  SKEWNESS  Chory  \n",
       "0  0.705230 -0.927912  0.424004      0  \n",
       "1 -1.193269  1.921579  1.011527      0  \n",
       "2 -0.340207 -0.051690  0.464388      1  \n",
       "3 -1.619401  2.238238 -2.143283      1  \n",
       "4 -0.695151 -0.075072 -0.466835      1  "
      ]
     },
     "execution_count": 12,
     "metadata": {},
     "output_type": "execute_result"
    }
   ],
   "source": [
    "allpatients['Chory'] = status\n",
    "allpatients.head()"
   ]
  },
  {
   "cell_type": "markdown",
   "metadata": {},
   "source": [
    "# Train test split"
   ]
  },
  {
   "cell_type": "code",
   "execution_count": 13,
   "metadata": {},
   "outputs": [],
   "source": [
    "from sklearn.model_selection import train_test_split"
   ]
  },
  {
   "cell_type": "code",
   "execution_count": 14,
   "metadata": {},
   "outputs": [],
   "source": [
    "X_train, X_test, y_train, y_test = train_test_split(allpatients.drop(['Chory'], axis=1), \n",
    "                                                    allpatients['Chory'], \n",
    "                                                    test_size=0.20, \n",
    "                                                    random_state=42)"
   ]
  },
  {
   "cell_type": "markdown",
   "metadata": {},
   "source": [
    "# Logistic Regression Algorithm"
   ]
  },
  {
   "cell_type": "code",
   "execution_count": 15,
   "metadata": {},
   "outputs": [],
   "source": [
    "from sklearn.linear_model import LogisticRegression"
   ]
  },
  {
   "cell_type": "code",
   "execution_count": 41,
   "metadata": {},
   "outputs": [
    {
     "name": "stderr",
     "output_type": "stream",
     "text": [
      "/home/barti/miniconda3/lib/python3.7/site-packages/sklearn/linear_model/logistic.py:432: FutureWarning: Default solver will be changed to 'lbfgs' in 0.22. Specify a solver to silence this warning.\n",
      "  FutureWarning)\n"
     ]
    },
    {
     "data": {
      "text/plain": [
       "LogisticRegression(C=0.5, class_weight=None, dual=False, fit_intercept=True,\n",
       "          intercept_scaling=1, max_iter=100, multi_class='warn',\n",
       "          n_jobs=None, penalty='l2', random_state=None, solver='warn',\n",
       "          tol=0.0001, verbose=0, warm_start=False)"
      ]
     },
     "execution_count": 41,
     "metadata": {},
     "output_type": "execute_result"
    }
   ],
   "source": [
    "logModel = LogisticRegression(max_iter=100, C = 0.5)\n",
    "logModel.fit(X_train, y_train)"
   ]
  },
  {
   "cell_type": "code",
   "execution_count": 42,
   "metadata": {},
   "outputs": [],
   "source": [
    "prediction = logModel.predict(X_test)"
   ]
  },
  {
   "cell_type": "markdown",
   "metadata": {},
   "source": [
    "# Evaluation\n",
    "Check precission, recall, f1-score using classification report"
   ]
  },
  {
   "cell_type": "code",
   "execution_count": 43,
   "metadata": {},
   "outputs": [],
   "source": [
    "from sklearn.metrics import classification_report, confusion_matrix"
   ]
  },
  {
   "cell_type": "code",
   "execution_count": 44,
   "metadata": {},
   "outputs": [
    {
     "name": "stdout",
     "output_type": "stream",
     "text": [
      "              precision    recall  f1-score   support\n",
      "\n",
      "           0       0.78      0.78      0.78         9\n",
      "           1       0.80      0.80      0.80        10\n",
      "\n",
      "   micro avg       0.79      0.79      0.79        19\n",
      "   macro avg       0.79      0.79      0.79        19\n",
      "weighted avg       0.79      0.79      0.79        19\n",
      "\n"
     ]
    }
   ],
   "source": [
    "print(classification_report(y_test,prediction))"
   ]
  },
  {
   "cell_type": "code",
   "execution_count": 20,
   "metadata": {},
   "outputs": [
    {
     "name": "stdout",
     "output_type": "stream",
     "text": [
      "[[7 2]\n",
      " [3 7]]\n"
     ]
    }
   ],
   "source": [
    "print(confusion_matrix(y_test,prediction))"
   ]
  },
  {
   "cell_type": "markdown",
   "metadata": {},
   "source": [
    "# Random Forest Algorithm"
   ]
  },
  {
   "cell_type": "code",
   "execution_count": 21,
   "metadata": {},
   "outputs": [],
   "source": [
    "from sklearn.ensemble import RandomForestClassifier"
   ]
  },
  {
   "cell_type": "code",
   "execution_count": 49,
   "metadata": {},
   "outputs": [],
   "source": [
    "clf = RandomForestClassifier()"
   ]
  },
  {
   "cell_type": "code",
   "execution_count": 50,
   "metadata": {},
   "outputs": [
    {
     "name": "stderr",
     "output_type": "stream",
     "text": [
      "/home/barti/miniconda3/lib/python3.7/site-packages/sklearn/ensemble/forest.py:248: FutureWarning: The default value of n_estimators will change from 10 in version 0.20 to 100 in 0.22.\n",
      "  \"10 in version 0.20 to 100 in 0.22.\", FutureWarning)\n"
     ]
    },
    {
     "data": {
      "text/plain": [
       "RandomForestClassifier(bootstrap=True, class_weight=None, criterion='gini',\n",
       "            max_depth=None, max_features='auto', max_leaf_nodes=None,\n",
       "            min_impurity_decrease=0.0, min_impurity_split=None,\n",
       "            min_samples_leaf=1, min_samples_split=2,\n",
       "            min_weight_fraction_leaf=0.0, n_estimators=10, n_jobs=None,\n",
       "            oob_score=False, random_state=None, verbose=0,\n",
       "            warm_start=False)"
      ]
     },
     "execution_count": 50,
     "metadata": {},
     "output_type": "execute_result"
    }
   ],
   "source": [
    "clf.fit(X_train,y_train)"
   ]
  },
  {
   "cell_type": "code",
   "execution_count": 51,
   "metadata": {},
   "outputs": [],
   "source": [
    "prediction = clf.predict(X_test)"
   ]
  },
  {
   "cell_type": "markdown",
   "metadata": {},
   "source": [
    "# Evaluation\n",
    "Check precission, recall, f1-score using classification report"
   ]
  },
  {
   "cell_type": "code",
   "execution_count": 52,
   "metadata": {},
   "outputs": [
    {
     "name": "stdout",
     "output_type": "stream",
     "text": [
      "              precision    recall  f1-score   support\n",
      "\n",
      "           0       0.64      0.78      0.70         9\n",
      "           1       0.75      0.60      0.67        10\n",
      "\n",
      "   micro avg       0.68      0.68      0.68        19\n",
      "   macro avg       0.69      0.69      0.68        19\n",
      "weighted avg       0.70      0.68      0.68        19\n",
      "\n"
     ]
    }
   ],
   "source": [
    "print(classification_report(y_test,prediction))"
   ]
  },
  {
   "cell_type": "code",
   "execution_count": 26,
   "metadata": {},
   "outputs": [
    {
     "name": "stdout",
     "output_type": "stream",
     "text": [
      "[[6 3]\n",
      " [4 6]]\n"
     ]
    }
   ],
   "source": [
    "print(confusion_matrix(y_test,prediction))"
   ]
  },
  {
   "cell_type": "code",
   "execution_count": 27,
   "metadata": {},
   "outputs": [],
   "source": [
    "feature_importance = clf.feature_importances_"
   ]
  },
  {
   "cell_type": "code",
   "execution_count": 28,
   "metadata": {},
   "outputs": [
    {
     "data": {
      "text/plain": [
       "[Text(0,0,'MFCC1'),\n",
       " Text(0,0,'MFCC2'),\n",
       " Text(0,0,'MFCC3'),\n",
       " Text(0,0,'MCCC4'),\n",
       " Text(0,0,'MFCC5'),\n",
       " Text(0,0,'MFCC6'),\n",
       " Text(0,0,'MFCC7'),\n",
       " Text(0,0,'MFCC8'),\n",
       " Text(0,0,'MFCC9'),\n",
       " Text(0,0,'MFCC10'),\n",
       " Text(0,0,'RMS'),\n",
       " Text(0,0,'ZCR'),\n",
       " Text(0,0,'F0'),\n",
       " Text(0,0,'MAX'),\n",
       " Text(0,0,'MIN'),\n",
       " Text(0,0,'KURTOSIS'),\n",
       " Text(0,0,'SKEWNESS')]"
      ]
     },
     "execution_count": 28,
     "metadata": {},
     "output_type": "execute_result"
    },
    {
     "data": {
      "image/png": "[encoded data removed]",
      "text/plain": [
       "<Figure size 1116x576 with 1 Axes>"
      ]
     },
     "metadata": {
      "needs_background": "light"
     },
     "output_type": "display_data"
    }
   ],
   "source": [
    "fig, ax = plt.subplots()\n",
    "fig.set_size_inches(15.5, 8)\n",
    "plt.grid(b=False)\n",
    "ind = np.arange(len(feature_importance))  # the x locations for the groups\n",
    "width = 0.4  # the width of the bars\n",
    "ax.bar(ind, feature_importance, width, color='IndianRed')\n",
    "ax.set_ylabel('Waga parametru')\n",
    "ax.set_xticks(ind)\n",
    "ax.set_xticklabels(allpatients.drop(['Chory'],axis=1).columns)"
   ]
  },
  {
   "cell_type": "code",
   "execution_count": null,
   "metadata": {},
   "outputs": [],
   "source": []
  }
 ],
 "metadata": {
  "kernelspec": {
   "display_name": "Python 3",
   "language": "python",
   "name": "python3"
  },
  "language_info": {
   "codemirror_mode": {
    "name": "ipython",
    "version": 3
   },
   "file_extension": ".py",
   "mimetype": "text/x-python",
   "name": "python",
   "nbconvert_exporter": "python",
   "pygments_lexer": "ipython3",
   "version": "3.7.0"
  }
 },
 "nbformat": 4,
 "nbformat_minor": 2
}
