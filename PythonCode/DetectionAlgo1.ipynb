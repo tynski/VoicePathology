{
 "cells": [
  {
   "cell_type": "code",
   "execution_count": 1,
   "metadata": {},
   "outputs": [],
   "source": [
    "import numpy as np\n",
    "import pandas as pd\n",
    "import matplotlib.pyplot as plt\n",
    "import seaborn as sns\n",
    "sns.set(style=\"whitegrid\")"
   ]
  },
  {
   "cell_type": "markdown",
   "metadata": {},
   "source": [
    "# Parameters Vector\n",
    "\n",
    "Load, merge, normalization vector of parameters."
   ]
  },
  {
   "cell_type": "code",
   "execution_count": 127,
   "metadata": {
    "scrolled": true
   },
   "outputs": [],
   "source": [
    "# Loading each csv file\n",
    "df1 = pd.read_csv('fh1.csv')\n",
    "df2 = pd.read_csv('fp1.csv')"
   ]
  },
  {
   "cell_type": "markdown",
   "metadata": {},
   "source": [
    "Concatenating all four DataFrames into one."
   ]
  },
  {
   "cell_type": "code",
   "execution_count": 128,
   "metadata": {},
   "outputs": [
    {
     "data": {
      "text/html": [
       "<div>\n",
       "<style scoped>\n",
       "    .dataframe tbody tr th:only-of-type {\n",
       "        vertical-align: middle;\n",
       "    }\n",
       "\n",
       "    .dataframe tbody tr th {\n",
       "        vertical-align: top;\n",
       "    }\n",
       "\n",
       "    .dataframe thead th {\n",
       "        text-align: right;\n",
       "    }\n",
       "</style>\n",
       "<table border=\"1\" class=\"dataframe\">\n",
       "  <thead>\n",
       "    <tr style=\"text-align: right;\">\n",
       "      <th></th>\n",
       "      <th>MAX</th>\n",
       "      <th>MIN</th>\n",
       "      <th>RMS</th>\n",
       "      <th>KURTOSIS</th>\n",
       "      <th>SKEWNESS</th>\n",
       "      <th>Status</th>\n",
       "    </tr>\n",
       "  </thead>\n",
       "  <tbody>\n",
       "    <tr>\n",
       "      <th>0</th>\n",
       "      <td>6700.0</td>\n",
       "      <td>-8860.0</td>\n",
       "      <td>3333.165932</td>\n",
       "      <td>-1.150587</td>\n",
       "      <td>-0.297798</td>\n",
       "      <td>zdrowy</td>\n",
       "    </tr>\n",
       "    <tr>\n",
       "      <th>1</th>\n",
       "      <td>19637.0</td>\n",
       "      <td>-22493.0</td>\n",
       "      <td>8706.831857</td>\n",
       "      <td>-0.455146</td>\n",
       "      <td>-0.193029</td>\n",
       "      <td>zdrowy</td>\n",
       "    </tr>\n",
       "    <tr>\n",
       "      <th>2</th>\n",
       "      <td>12612.0</td>\n",
       "      <td>-13395.0</td>\n",
       "      <td>3274.167633</td>\n",
       "      <td>0.238291</td>\n",
       "      <td>0.578830</td>\n",
       "      <td>zdrowy</td>\n",
       "    </tr>\n",
       "    <tr>\n",
       "      <th>3</th>\n",
       "      <td>18852.0</td>\n",
       "      <td>-18442.0</td>\n",
       "      <td>7312.596397</td>\n",
       "      <td>-0.244337</td>\n",
       "      <td>-0.015504</td>\n",
       "      <td>zdrowy</td>\n",
       "    </tr>\n",
       "    <tr>\n",
       "      <th>4</th>\n",
       "      <td>29010.0</td>\n",
       "      <td>-27975.0</td>\n",
       "      <td>9496.535588</td>\n",
       "      <td>0.830938</td>\n",
       "      <td>0.326184</td>\n",
       "      <td>zdrowy</td>\n",
       "    </tr>\n",
       "  </tbody>\n",
       "</table>\n",
       "</div>"
      ],
      "text/plain": [
       "       MAX      MIN          RMS  KURTOSIS  SKEWNESS  Status\n",
       "0   6700.0  -8860.0  3333.165932 -1.150587 -0.297798  zdrowy\n",
       "1  19637.0 -22493.0  8706.831857 -0.455146 -0.193029  zdrowy\n",
       "2  12612.0 -13395.0  3274.167633  0.238291  0.578830  zdrowy\n",
       "3  18852.0 -18442.0  7312.596397 -0.244337 -0.015504  zdrowy\n",
       "4  29010.0 -27975.0  9496.535588  0.830938  0.326184  zdrowy"
      ]
     },
     "execution_count": 128,
     "metadata": {},
     "output_type": "execute_result"
    }
   ],
   "source": [
    "allpatients = pd.concat([df1,df2])\n",
    "allpatients.head()"
   ]
  },
  {
   "cell_type": "markdown",
   "metadata": {},
   "source": [
    "Features has diffrent rows, so they have to be normalized."
   ]
  },
  {
   "cell_type": "code",
   "execution_count": 130,
   "metadata": {},
   "outputs": [
    {
     "data": {
      "text/html": [
       "<div>\n",
       "<style scoped>\n",
       "    .dataframe tbody tr th:only-of-type {\n",
       "        vertical-align: middle;\n",
       "    }\n",
       "\n",
       "    .dataframe tbody tr th {\n",
       "        vertical-align: top;\n",
       "    }\n",
       "\n",
       "    .dataframe thead th {\n",
       "        text-align: right;\n",
       "    }\n",
       "</style>\n",
       "<table border=\"1\" class=\"dataframe\">\n",
       "  <thead>\n",
       "    <tr style=\"text-align: right;\">\n",
       "      <th></th>\n",
       "      <th>MAX</th>\n",
       "      <th>MIN</th>\n",
       "      <th>RMS</th>\n",
       "      <th>KURTOSIS</th>\n",
       "      <th>SKEWNESS</th>\n",
       "      <th>Status</th>\n",
       "    </tr>\n",
       "  </thead>\n",
       "  <tbody>\n",
       "    <tr>\n",
       "      <th>0</th>\n",
       "      <td>-1.917534</td>\n",
       "      <td>1.273774</td>\n",
       "      <td>-1.446845</td>\n",
       "      <td>-1.361832</td>\n",
       "      <td>-1.423651</td>\n",
       "      <td>zdrowy</td>\n",
       "    </tr>\n",
       "    <tr>\n",
       "      <th>1</th>\n",
       "      <td>0.351136</td>\n",
       "      <td>-0.792725</td>\n",
       "      <td>1.524559</td>\n",
       "      <td>-0.598533</td>\n",
       "      <td>-1.184407</td>\n",
       "      <td>zdrowy</td>\n",
       "    </tr>\n",
       "    <tr>\n",
       "      <th>2</th>\n",
       "      <td>-0.880789</td>\n",
       "      <td>0.586356</td>\n",
       "      <td>-1.479469</td>\n",
       "      <td>0.162567</td>\n",
       "      <td>0.578160</td>\n",
       "      <td>zdrowy</td>\n",
       "    </tr>\n",
       "    <tr>\n",
       "      <th>3</th>\n",
       "      <td>0.213476</td>\n",
       "      <td>-0.178672</td>\n",
       "      <td>0.753607</td>\n",
       "      <td>-0.367154</td>\n",
       "      <td>-0.779022</td>\n",
       "      <td>zdrowy</td>\n",
       "    </tr>\n",
       "    <tr>\n",
       "      <th>4</th>\n",
       "      <td>1.994813</td>\n",
       "      <td>-1.623690</td>\n",
       "      <td>1.961231</td>\n",
       "      <td>0.813042</td>\n",
       "      <td>0.001235</td>\n",
       "      <td>zdrowy</td>\n",
       "    </tr>\n",
       "  </tbody>\n",
       "</table>\n",
       "</div>"
      ],
      "text/plain": [
       "        MAX       MIN       RMS  KURTOSIS  SKEWNESS  Status\n",
       "0 -1.917534  1.273774 -1.446845 -1.361832 -1.423651  zdrowy\n",
       "1  0.351136 -0.792725  1.524559 -0.598533 -1.184407  zdrowy\n",
       "2 -0.880789  0.586356 -1.479469  0.162567  0.578160  zdrowy\n",
       "3  0.213476 -0.178672  0.753607 -0.367154 -0.779022  zdrowy\n",
       "4  1.994813 -1.623690  1.961231  0.813042  0.001235  zdrowy"
      ]
     },
     "execution_count": 130,
     "metadata": {},
     "output_type": "execute_result"
    }
   ],
   "source": [
    "features = allpatients.drop(labels='Status', axis=1).columns\n",
    "for i in features:\n",
    "    allpatients[i] = (allpatients[i] - np.mean(allpatients[i]))/np.std(allpatients[i])\n",
    "allpatients.head()"
   ]
  },
  {
   "cell_type": "markdown",
   "metadata": {},
   "source": [
    "Afterwards data have to be suffled, in order to avoid overfitting"
   ]
  },
  {
   "cell_type": "code",
   "execution_count": 131,
   "metadata": {},
   "outputs": [
    {
     "data": {
      "text/html": [
       "<div>\n",
       "<style scoped>\n",
       "    .dataframe tbody tr th:only-of-type {\n",
       "        vertical-align: middle;\n",
       "    }\n",
       "\n",
       "    .dataframe tbody tr th {\n",
       "        vertical-align: top;\n",
       "    }\n",
       "\n",
       "    .dataframe thead th {\n",
       "        text-align: right;\n",
       "    }\n",
       "</style>\n",
       "<table border=\"1\" class=\"dataframe\">\n",
       "  <thead>\n",
       "    <tr style=\"text-align: right;\">\n",
       "      <th></th>\n",
       "      <th>MAX</th>\n",
       "      <th>MIN</th>\n",
       "      <th>RMS</th>\n",
       "      <th>KURTOSIS</th>\n",
       "      <th>SKEWNESS</th>\n",
       "      <th>Status</th>\n",
       "    </tr>\n",
       "  </thead>\n",
       "  <tbody>\n",
       "    <tr>\n",
       "      <th>0</th>\n",
       "      <td>0.813568</td>\n",
       "      <td>0.322302</td>\n",
       "      <td>0.206837</td>\n",
       "      <td>-0.884686</td>\n",
       "      <td>-0.022498</td>\n",
       "      <td>zdrowy</td>\n",
       "    </tr>\n",
       "    <tr>\n",
       "      <th>1</th>\n",
       "      <td>-0.948128</td>\n",
       "      <td>0.633346</td>\n",
       "      <td>-0.504513</td>\n",
       "      <td>-0.801725</td>\n",
       "      <td>-0.119996</td>\n",
       "      <td>zdrowy</td>\n",
       "    </tr>\n",
       "    <tr>\n",
       "      <th>2</th>\n",
       "      <td>0.037061</td>\n",
       "      <td>1.420959</td>\n",
       "      <td>-0.481945</td>\n",
       "      <td>1.459451</td>\n",
       "      <td>2.446789</td>\n",
       "      <td>chory</td>\n",
       "    </tr>\n",
       "    <tr>\n",
       "      <th>3</th>\n",
       "      <td>1.070475</td>\n",
       "      <td>0.442506</td>\n",
       "      <td>0.813457</td>\n",
       "      <td>-0.101410</td>\n",
       "      <td>1.296125</td>\n",
       "      <td>zdrowy</td>\n",
       "    </tr>\n",
       "    <tr>\n",
       "      <th>4</th>\n",
       "      <td>0.895813</td>\n",
       "      <td>0.819638</td>\n",
       "      <td>0.048962</td>\n",
       "      <td>-0.053341</td>\n",
       "      <td>1.174419</td>\n",
       "      <td>chory</td>\n",
       "    </tr>\n",
       "  </tbody>\n",
       "</table>\n",
       "</div>"
      ],
      "text/plain": [
       "        MAX       MIN       RMS  KURTOSIS  SKEWNESS  Status\n",
       "0  0.813568  0.322302  0.206837 -0.884686 -0.022498  zdrowy\n",
       "1 -0.948128  0.633346 -0.504513 -0.801725 -0.119996  zdrowy\n",
       "2  0.037061  1.420959 -0.481945  1.459451  2.446789   chory\n",
       "3  1.070475  0.442506  0.813457 -0.101410  1.296125  zdrowy\n",
       "4  0.895813  0.819638  0.048962 -0.053341  1.174419   chory"
      ]
     },
     "execution_count": 131,
     "metadata": {},
     "output_type": "execute_result"
    }
   ],
   "source": [
    "allpatients = allpatients.sample(frac=1).reset_index(drop=True)\n",
    "allpatients.head()"
   ]
  },
  {
   "cell_type": "markdown",
   "metadata": {},
   "source": [
    "# PCA"
   ]
  },
  {
   "cell_type": "code",
   "execution_count": 132,
   "metadata": {},
   "outputs": [],
   "source": [
    "from sklearn.decomposition import PCA"
   ]
  },
  {
   "cell_type": "code",
   "execution_count": 145,
   "metadata": {},
   "outputs": [],
   "source": [
    "pca = PCA(n_components=3)\n",
    "pca.fit(allpatients.drop(['Status'], axis=1))\n",
    "X = pca.transform(allpatients.drop(['Status'], axis=1))\n",
    "X = pd.DataFrame(X, columns=['A','B','C'])\n",
    "X['Status'] = allpatients['Status']"
   ]
  },
  {
   "cell_type": "code",
   "execution_count": 138,
   "metadata": {},
   "outputs": [],
   "source": [
    "from mpl_toolkits.mplot3d import Axes3D"
   ]
  },
  {
   "cell_type": "code",
   "execution_count": 150,
   "metadata": {},
   "outputs": [
    {
     "data": {
      "image/png": "[encoded data removed]",
      "text/plain": [
       "<Figure size 1152x756 with 1 Axes>"
      ]
     },
     "metadata": {
      "needs_background": "light"
     },
     "output_type": "display_data"
    }
   ],
   "source": [
    "fig = plt.figure()\n",
    "fig.set_size_inches(16, 10.5)\n",
    "ax = fig.add_subplot(111, projection='3d')\n",
    "ax.scatter(X[X['Status']=='zdrowy']['A'],\n",
    "           X[X['Status']=='zdrowy']['B'],\n",
    "           X[X['Status']=='zdrowy']['C'],\n",
    "           c='r',\n",
    "           marker='o',)\n",
    "ax.scatter(X[X['Status']=='chory']['A'],\n",
    "           X[X['Status']=='chory']['B'],\n",
    "           X[X['Status']=='chory']['C'],\n",
    "           c='b',\n",
    "           marker='v',)\n",
    "plt.show()"
   ]
  },
  {
   "cell_type": "markdown",
   "metadata": {},
   "source": [
    "# Dummy variables"
   ]
  },
  {
   "cell_type": "markdown",
   "metadata": {},
   "source": [
    "We'll need to convert categorical features (Status) to dummy variables, because our alghoritm can't understant what means 'healthy'."
   ]
  },
  {
   "cell_type": "code",
   "execution_count": 101,
   "metadata": {},
   "outputs": [],
   "source": [
    "status = pd.get_dummies(allpatients['Status'],drop_first=True)"
   ]
  },
  {
   "cell_type": "code",
   "execution_count": 102,
   "metadata": {},
   "outputs": [],
   "source": [
    "allpatients.drop(['Status'],axis=1,inplace=True)"
   ]
  },
  {
   "cell_type": "code",
   "execution_count": 103,
   "metadata": {},
   "outputs": [
    {
     "data": {
      "text/html": [
       "<div>\n",
       "<style scoped>\n",
       "    .dataframe tbody tr th:only-of-type {\n",
       "        vertical-align: middle;\n",
       "    }\n",
       "\n",
       "    .dataframe tbody tr th {\n",
       "        vertical-align: top;\n",
       "    }\n",
       "\n",
       "    .dataframe thead th {\n",
       "        text-align: right;\n",
       "    }\n",
       "</style>\n",
       "<table border=\"1\" class=\"dataframe\">\n",
       "  <thead>\n",
       "    <tr style=\"text-align: right;\">\n",
       "      <th></th>\n",
       "      <th>MAX</th>\n",
       "      <th>MIN</th>\n",
       "      <th>RMS</th>\n",
       "      <th>KURTOSIS</th>\n",
       "      <th>SKEWNESS</th>\n",
       "      <th>Chory</th>\n",
       "    </tr>\n",
       "  </thead>\n",
       "  <tbody>\n",
       "    <tr>\n",
       "      <th>0</th>\n",
       "      <td>1.455396</td>\n",
       "      <td>-1.031616</td>\n",
       "      <td>1.099254</td>\n",
       "      <td>0.860123</td>\n",
       "      <td>0.334277</td>\n",
       "      <td>1</td>\n",
       "    </tr>\n",
       "    <tr>\n",
       "      <th>1</th>\n",
       "      <td>-1.726739</td>\n",
       "      <td>1.212535</td>\n",
       "      <td>-1.261976</td>\n",
       "      <td>-0.857562</td>\n",
       "      <td>-1.425073</td>\n",
       "      <td>1</td>\n",
       "    </tr>\n",
       "    <tr>\n",
       "      <th>2</th>\n",
       "      <td>1.198139</td>\n",
       "      <td>-0.165939</td>\n",
       "      <td>0.753689</td>\n",
       "      <td>0.747836</td>\n",
       "      <td>0.605368</td>\n",
       "      <td>0</td>\n",
       "    </tr>\n",
       "    <tr>\n",
       "      <th>3</th>\n",
       "      <td>-1.075967</td>\n",
       "      <td>0.983952</td>\n",
       "      <td>-0.572069</td>\n",
       "      <td>-0.994524</td>\n",
       "      <td>-0.025191</td>\n",
       "      <td>1</td>\n",
       "    </tr>\n",
       "    <tr>\n",
       "      <th>4</th>\n",
       "      <td>1.824360</td>\n",
       "      <td>-1.806344</td>\n",
       "      <td>0.686422</td>\n",
       "      <td>2.346751</td>\n",
       "      <td>-0.779932</td>\n",
       "      <td>1</td>\n",
       "    </tr>\n",
       "  </tbody>\n",
       "</table>\n",
       "</div>"
      ],
      "text/plain": [
       "        MAX       MIN       RMS  KURTOSIS  SKEWNESS  Chory\n",
       "0  1.455396 -1.031616  1.099254  0.860123  0.334277      1\n",
       "1 -1.726739  1.212535 -1.261976 -0.857562 -1.425073      1\n",
       "2  1.198139 -0.165939  0.753689  0.747836  0.605368      0\n",
       "3 -1.075967  0.983952 -0.572069 -0.994524 -0.025191      1\n",
       "4  1.824360 -1.806344  0.686422  2.346751 -0.779932      1"
      ]
     },
     "execution_count": 103,
     "metadata": {},
     "output_type": "execute_result"
    }
   ],
   "source": [
    "allpatients['Chory'] = status\n",
    "allpatients.head()"
   ]
  },
  {
   "cell_type": "markdown",
   "metadata": {},
   "source": [
    "# Logistic regression algorithm"
   ]
  },
  {
   "cell_type": "markdown",
   "metadata": {},
   "source": [
    "# Train test split"
   ]
  },
  {
   "cell_type": "code",
   "execution_count": 104,
   "metadata": {},
   "outputs": [],
   "source": [
    "from sklearn.model_selection import train_test_split"
   ]
  },
  {
   "cell_type": "code",
   "execution_count": 105,
   "metadata": {},
   "outputs": [],
   "source": [
    "X_train, X_test, y_train, y_test = train_test_split(allpatients.drop(['SKEWNESS','Chory'],axis=1), \n",
    "                                                    allpatients['Chory'], \n",
    "                                                    test_size=0.20, \n",
    "                                                    random_state=42)"
   ]
  },
  {
   "cell_type": "markdown",
   "metadata": {},
   "source": [
    "# Training and predicting"
   ]
  },
  {
   "cell_type": "code",
   "execution_count": 106,
   "metadata": {},
   "outputs": [],
   "source": [
    "from sklearn.linear_model import LogisticRegression"
   ]
  },
  {
   "cell_type": "code",
   "execution_count": 115,
   "metadata": {},
   "outputs": [
    {
     "name": "stderr",
     "output_type": "stream",
     "text": [
      "/home/barti/miniconda3/lib/python3.7/site-packages/sklearn/linear_model/logistic.py:432: FutureWarning: Default solver will be changed to 'lbfgs' in 0.22. Specify a solver to silence this warning.\n",
      "  FutureWarning)\n"
     ]
    },
    {
     "data": {
      "text/plain": [
       "LogisticRegression(C=0.01, class_weight=None, dual=False, fit_intercept=True,\n",
       "          intercept_scaling=1, max_iter=1000, multi_class='warn',\n",
       "          n_jobs=None, penalty='l2', random_state=None, solver='warn',\n",
       "          tol=0.0001, verbose=0, warm_start=False)"
      ]
     },
     "execution_count": 115,
     "metadata": {},
     "output_type": "execute_result"
    }
   ],
   "source": [
    "logModel = LogisticRegression(max_iter=1000, C = 0.01)\n",
    "logModel.fit(X_train, y_train)"
   ]
  },
  {
   "cell_type": "code",
   "execution_count": 116,
   "metadata": {},
   "outputs": [],
   "source": [
    "prediction = logModel.predict(X_test)"
   ]
  },
  {
   "cell_type": "markdown",
   "metadata": {},
   "source": [
    "# Evaluation\n",
    "Check precission, recall, f1-score using classification report"
   ]
  },
  {
   "cell_type": "code",
   "execution_count": 117,
   "metadata": {},
   "outputs": [],
   "source": [
    "from sklearn.metrics import classification_report, confusion_matrix"
   ]
  },
  {
   "cell_type": "code",
   "execution_count": 118,
   "metadata": {},
   "outputs": [
    {
     "name": "stdout",
     "output_type": "stream",
     "text": [
      "              precision    recall  f1-score   support\n",
      "\n",
      "           0       0.61      0.56      0.58        45\n",
      "           1       0.57      0.63      0.60        43\n",
      "\n",
      "   micro avg       0.59      0.59      0.59        88\n",
      "   macro avg       0.59      0.59      0.59        88\n",
      "weighted avg       0.59      0.59      0.59        88\n",
      "\n"
     ]
    }
   ],
   "source": [
    "print(classification_report(y_test,prediction))"
   ]
  },
  {
   "cell_type": "code",
   "execution_count": 151,
   "metadata": {},
   "outputs": [
    {
     "name": "stdout",
     "output_type": "stream",
     "text": [
      "[[25 20]\n",
      " [16 27]]\n"
     ]
    }
   ],
   "source": [
    "print(confusion_matrix(y_test,prediction))"
   ]
  },
  {
   "cell_type": "markdown",
   "metadata": {},
   "source": [
    "# Random Forest"
   ]
  },
  {
   "cell_type": "code",
   "execution_count": 153,
   "metadata": {},
   "outputs": [],
   "source": [
    "from sklearn.ensemble import RandomForestClassifier"
   ]
  },
  {
   "cell_type": "code",
   "execution_count": 154,
   "metadata": {},
   "outputs": [],
   "source": [
    "clf = RandomForestClassifier(n_estimators=100)"
   ]
  },
  {
   "cell_type": "code",
   "execution_count": 155,
   "metadata": {},
   "outputs": [
    {
     "data": {
      "text/plain": [
       "RandomForestClassifier(bootstrap=True, class_weight=None, criterion='gini',\n",
       "            max_depth=None, max_features='auto', max_leaf_nodes=None,\n",
       "            min_impurity_decrease=0.0, min_impurity_split=None,\n",
       "            min_samples_leaf=1, min_samples_split=2,\n",
       "            min_weight_fraction_leaf=0.0, n_estimators=100, n_jobs=None,\n",
       "            oob_score=False, random_state=None, verbose=0,\n",
       "            warm_start=False)"
      ]
     },
     "execution_count": 155,
     "metadata": {},
     "output_type": "execute_result"
    }
   ],
   "source": [
    "clf.fit(X_train, y_train)"
   ]
  },
  {
   "cell_type": "code",
   "execution_count": 156,
   "metadata": {},
   "outputs": [],
   "source": [
    "prediction = clf.predict(X_test)"
   ]
  },
  {
   "cell_type": "markdown",
   "metadata": {},
   "source": [
    "# Evaluation"
   ]
  },
  {
   "cell_type": "code",
   "execution_count": 157,
   "metadata": {},
   "outputs": [
    {
     "name": "stdout",
     "output_type": "stream",
     "text": [
      "              precision    recall  f1-score   support\n",
      "\n",
      "           0       0.58      0.62      0.60        45\n",
      "           1       0.57      0.53      0.55        43\n",
      "\n",
      "   micro avg       0.58      0.58      0.58        88\n",
      "   macro avg       0.58      0.58      0.58        88\n",
      "weighted avg       0.58      0.58      0.58        88\n",
      "\n"
     ]
    }
   ],
   "source": [
    "print(classification_report(y_test, prediction))"
   ]
  },
  {
   "cell_type": "code",
   "execution_count": 158,
   "metadata": {},
   "outputs": [
    {
     "name": "stdout",
     "output_type": "stream",
     "text": [
      "[[28 17]\n",
      " [20 23]]\n"
     ]
    }
   ],
   "source": [
    "print(confusion_matrix(y_test, prediction))"
   ]
  },
  {
   "cell_type": "code",
   "execution_count": 159,
   "metadata": {},
   "outputs": [
    {
     "data": {
      "text/plain": [
       "array([0.24871235, 0.22544747, 0.24429811, 0.28154207])"
      ]
     },
     "execution_count": 159,
     "metadata": {},
     "output_type": "execute_result"
    }
   ],
   "source": [
    "clf.feature_importances_"
   ]
  },
  {
   "cell_type": "code",
   "execution_count": null,
   "metadata": {},
   "outputs": [],
   "source": []
  }
 ],
 "metadata": {
  "kernelspec": {
   "display_name": "Python 3",
   "language": "python",
   "name": "python3"
  },
  "language_info": {
   "codemirror_mode": {
    "name": "ipython",
    "version": 3
   },
   "file_extension": ".py",
   "mimetype": "text/x-python",
   "name": "python",
   "nbconvert_exporter": "python",
   "pygments_lexer": "ipython3",
   "version": "3.7.0"
  }
 },
 "nbformat": 4,
 "nbformat_minor": 2
}
